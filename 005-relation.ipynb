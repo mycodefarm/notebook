{
 "cells": [
  {
   "cell_type": "markdown",
   "metadata": {},
   "source": [
    "## 计算一个专业各个课程的关联度,然后存储起来"
   ]
  },
  {
   "cell_type": "code",
   "execution_count": 2,
   "metadata": {},
   "outputs": [],
   "source": [
    "import requests\n",
    "import jutil\n",
    "import time\n",
    "import json\n",
    "import itertools\n",
    "import math"
   ]
  },
  {
   "cell_type": "code",
   "execution_count": 25,
   "metadata": {},
   "outputs": [],
   "source": [
    "def get_course_code(speciality_code,grade='2015'):\n",
    "    '''从数据库查出课程名和代码'''\n",
    "    sql = \"select DISTINCT(course_name),course_code from view_stu_course_mark where speciality_code='%s' and course_type='必'  \\\n",
    "    and grade='%s'\" %(speciality_code,grade)\n",
    "    df = jutil.load_pd_df(sql)\n",
    "    return df.to_dict('records')"
   ]
  },
  {
   "cell_type": "code",
   "execution_count": 4,
   "metadata": {},
   "outputs": [],
   "source": [
    "def cal_relation(code1,code2):\n",
    "    '''计算相似度调用'''\n",
    "    url2 = 'http://localhost:8082/course/relation/'\n",
    "    url = url2+code1+'/'+code2\n",
    "    re = requests.get(url)\n",
    "    return re.json()['data']"
   ]
  },
  {
   "cell_type": "code",
   "execution_count": 15,
   "metadata": {},
   "outputs": [
    {
     "data": {
      "text/plain": [
       "{'bg_prob': '0.00', 'prob': '0.00', 'total': 0}"
      ]
     },
     "execution_count": 15,
     "metadata": {},
     "output_type": "execute_result"
    }
   ],
   "source": [
    "re = cal_relation('0173186','0571009')\n",
    "re"
   ]
  },
  {
   "cell_type": "code",
   "execution_count": 7,
   "metadata": {},
   "outputs": [
    {
     "data": {
      "text/html": [
       "<div>\n",
       "<style>\n",
       "    .dataframe thead tr:only-child th {\n",
       "        text-align: right;\n",
       "    }\n",
       "\n",
       "    .dataframe thead th {\n",
       "        text-align: left;\n",
       "    }\n",
       "\n",
       "    .dataframe tbody tr th {\n",
       "        vertical-align: top;\n",
       "    }\n",
       "</style>\n",
       "<table border=\"1\" class=\"dataframe\">\n",
       "  <thead>\n",
       "    <tr style=\"text-align: right;\">\n",
       "      <th></th>\n",
       "      <th>course_code</th>\n",
       "      <th>course_name</th>\n",
       "    </tr>\n",
       "  </thead>\n",
       "  <tbody>\n",
       "    <tr>\n",
       "      <th>0</th>\n",
       "      <td>0173186</td>\n",
       "      <td>工程制图</td>\n",
       "    </tr>\n",
       "    <tr>\n",
       "      <th>1</th>\n",
       "      <td>0571009</td>\n",
       "      <td>综合运输概论</td>\n",
       "    </tr>\n",
       "    <tr>\n",
       "      <th>2</th>\n",
       "      <td>0573042</td>\n",
       "      <td>物流导论</td>\n",
       "    </tr>\n",
       "    <tr>\n",
       "      <th>3</th>\n",
       "      <td>0673054</td>\n",
       "      <td>管理信息系统</td>\n",
       "    </tr>\n",
       "    <tr>\n",
       "      <th>4</th>\n",
       "      <td>0673107</td>\n",
       "      <td>网络金融</td>\n",
       "    </tr>\n",
       "  </tbody>\n",
       "</table>\n",
       "</div>"
      ],
      "text/plain": [
       "  course_code course_name\n",
       "0     0173186        工程制图\n",
       "1     0571009      综合运输概论\n",
       "2     0573042        物流导论\n",
       "3     0673054      管理信息系统\n",
       "4     0673107        网络金融"
      ]
     },
     "execution_count": 7,
     "metadata": {},
     "output_type": "execute_result"
    }
   ],
   "source": [
    "df = get_course_code('0501')\n",
    "df.head()"
   ]
  },
  {
   "cell_type": "code",
   "execution_count": 17,
   "metadata": {
    "scrolled": true
   },
   "outputs": [
    {
     "data": {
      "text/plain": [
       "[{'course_code': '0173186', 'course_name': '工程制图'},\n",
       " {'course_code': '0571009', 'course_name': '综合运输概论'},\n",
       " {'course_code': '0573042', 'course_name': '物流导论'},\n",
       " {'course_code': '0673054', 'course_name': '管理信息系统'},\n",
       " {'course_code': '0673107', 'course_name': '网络金融'},\n",
       " {'course_code': '1271046', 'course_name': '高等数学BⅠ'},\n",
       " {'course_code': '1273022', 'course_name': '高等代数Ⅰ'},\n",
       " {'course_code': '1273028', 'course_name': '解析几何'},\n",
       " {'course_code': '1371032', 'course_name': '大学物理BI'},\n",
       " {'course_code': '1371038', 'course_name': '格致物理'},\n",
       " {'course_code': '1572001', 'course_name': '大学计算机基础B'},\n",
       " {'course_code': '1671003', 'course_name': '分析化学'},\n",
       " {'course_code': '1671065', 'course_name': '土木工程制图II'},\n",
       " {'course_code': '1671078', 'course_name': '遗传密码—生命与自然'},\n",
       " {'course_code': '1673080', 'course_name': '药用植物认识实习'},\n",
       " {'course_code': '2171026', 'course_name': '测量学'},\n",
       " {'course_code': '2171084', 'course_name': '高速铁路防火技术'},\n",
       " {'course_code': '2572005', 'course_name': '市场营销学'},\n",
       " {'course_code': '2671029', 'course_name': '战略管理'},\n",
       " {'course_code': '3271012', 'course_name': '无机与分析化学实验'},\n",
       " {'course_code': '3273611', 'course_name': '成本会计学'},\n",
       " {'course_code': '6010500', 'course_name': '线性代数B'},\n",
       " {'course_code': '9990006', 'course_name': '军事技能训练'},\n",
       " {'course_code': '9990013', 'course_name': '工程测量实习B'},\n",
       " {'course_code': '9990080', 'course_name': '认识实习C'},\n",
       " {'course_code': '9991457', 'course_name': '专业计算机实习（环境）'},\n",
       " {'course_code': '0152270', 'course_name': '土木工程概论A'},\n",
       " {'course_code': '0271071', 'course_name': '工程概论'},\n",
       " {'course_code': '0571111', 'course_name': '物流学'},\n",
       " {'course_code': '0673082', 'course_name': '创业营销'},\n",
       " {'course_code': '0871288', 'course_name': '英语综合能力MⅠ'},\n",
       " {'course_code': '0872011', 'course_name': '英语Ⅰ'},\n",
       " {'course_code': '1271045', 'course_name': '数学建模A'},\n",
       " {'course_code': '1272005', 'course_name': '高等数学BⅡ'},\n",
       " {'course_code': '1371023', 'course_name': '热学'},\n",
       " {'course_code': '1371037', 'course_name': '无损检测技术发展'},\n",
       " {'course_code': '1571002', 'course_name': '计算机程序设计基础A'},\n",
       " {'course_code': '1671002', 'course_name': '无机化学实验'},\n",
       " {'course_code': '1671009', 'course_name': '物理化学实验'},\n",
       " {'course_code': '1671077', 'course_name': '无机与分析化学Ⅱ'},\n",
       " {'course_code': '1671081', 'course_name': '微生物学实验'},\n",
       " {'course_code': '1671083', 'course_name': '细胞生物学'},\n",
       " {'course_code': '1674002', 'course_name': '有机化学实验'},\n",
       " {'course_code': '2174007', 'course_name': '普通测量实验'},\n",
       " {'course_code': '2671007', 'course_name': '创新思维与创新方法TRIZ'},\n",
       " {'course_code': '2671016', 'course_name': '管理学原理'},\n",
       " {'course_code': '3271016', 'course_name': '宏观经济学'},\n",
       " {'course_code': '3271017', 'course_name': '高等数学DⅡ'},\n",
       " {'course_code': '3273607', 'course_name': '《成本会计》实验课'},\n",
       " {'course_code': '5010200', 'course_name': '微观经济学'},\n",
       " {'course_code': '5011600', 'course_name': '管理学原理'},\n",
       " {'course_code': '5037700', 'course_name': '运筹学'},\n",
       " {'course_code': '6041740', 'course_name': '数学分析II'},\n",
       " {'course_code': '6210200', 'course_name': '工程化学B'},\n",
       " {'course_code': '6230350', 'course_name': '物理化学B'},\n",
       " {'course_code': '7001146', 'course_name': '思想道德修养与法律基础'},\n",
       " {'course_code': '9010110', 'course_name': '体育Ⅰ'},\n",
       " {'course_code': '9939492', 'course_name': '认识实习'},\n",
       " {'course_code': '9990009', 'course_name': '计算机绘图实习'},\n",
       " {'course_code': '9990539', 'course_name': '数学软件与实践'},\n",
       " {'course_code': '9990659', 'course_name': '计算机基础绘图'},\n",
       " {'course_code': '9990670', 'course_name': '数字测图实习'},\n",
       " {'course_code': '9990694', 'course_name': '外语强化实习'},\n",
       " {'course_code': '0171002', 'course_name': '工程测量'},\n",
       " {'course_code': '0371001', 'course_name': '电路与电子技术基础'},\n",
       " {'course_code': '0371002', 'course_name': '电路分析A1(含实验）'},\n",
       " {'course_code': '0472006', 'course_name': '大学计算机基础A'},\n",
       " {'course_code': '0571126', 'course_name': '交通运输导论'},\n",
       " {'course_code': '0671062', 'course_name': '计算机程序设计C++'},\n",
       " {'course_code': '0673093', 'course_name': '中级财务会计'},\n",
       " {'course_code': '0871285', 'course_name': '高级英语A'},\n",
       " {'course_code': '1111200', 'course_name': '计算机程序设计基础M'},\n",
       " {'course_code': '1111210', 'course_name': '工科数学分析MI'},\n",
       " {'course_code': '1171033', 'course_name': '力学与工程概论'},\n",
       " {'course_code': '1273023', 'course_name': '高等代数Ⅱ'},\n",
       " {'course_code': '1671034', 'course_name': '有机化学I'},\n",
       " {'course_code': '1671075', 'course_name': '医药与人类社会'},\n",
       " {'course_code': '1673014', 'course_name': '化工原理'},\n",
       " {'course_code': '2050790', 'course_name': '机械制图B'},\n",
       " {'course_code': '2171078', 'course_name': '环境科学与消防工程概论'},\n",
       " {'course_code': '2671058', 'course_name': '光学'},\n",
       " {'course_code': '2672006', 'course_name': '工程伦理'},\n",
       " {'course_code': '2674001', 'course_name': '创业环境实习'},\n",
       " {'course_code': '3006654', 'course_name': '电路分析BⅠ'},\n",
       " {'course_code': '3143250', 'course_name': '数字电子技术A'},\n",
       " {'course_code': '3231400', 'course_name': '数据库原理与应用'},\n",
       " {'course_code': '3273600', 'course_name': '媒体视听说'},\n",
       " {'course_code': '6041750', 'course_name': '数学分析III'},\n",
       " {'course_code': '6041910', 'course_name': '数据结构与算法'},\n",
       " {'course_code': '6200314', 'course_name': '解剖生理学'},\n",
       " {'course_code': '6230630', 'course_name': '细胞生物学实验'},\n",
       " {'course_code': '6699686', 'course_name': '普通物理实验Ⅰ'},\n",
       " {'course_code': '7047923', 'course_name': '毛泽东思想和中国特色社会主义理论体系概论Ⅰ'},\n",
       " {'course_code': '9990012', 'course_name': '普通地质实习'},\n",
       " {'course_code': '9990514', 'course_name': '认知实习'},\n",
       " {'course_code': '9990530', 'course_name': '生物多样性认知实习'},\n",
       " {'course_code': '9990590', 'course_name': '创新实践学分D'},\n",
       " {'course_code': '9994232', 'course_name': '认知实习'},\n",
       " {'course_code': '0112200', 'course_name': '画法几何及工程制图'},\n",
       " {'course_code': '0173175', 'course_name': '化工原理及相关课程综合实践与设计'},\n",
       " {'course_code': '0220300', 'course_name': '线路基础'},\n",
       " {'course_code': '0271060', 'course_name': '机械工程制图Ⅰ'},\n",
       " {'course_code': '0474025', 'course_name': '高级语言程序设计实验'},\n",
       " {'course_code': '0671020', 'course_name': '管理沟通'},\n",
       " {'course_code': '0671051', 'course_name': '管理学原理'},\n",
       " {'course_code': '0671060', 'course_name': '税法'},\n",
       " {'course_code': '1071126', 'course_name': '材料专业导论'},\n",
       " {'course_code': '1110069', 'course_name': '基础力学实验A1'},\n",
       " {'course_code': '1111310', 'course_name': '线性代数M'},\n",
       " {'course_code': '1118903', 'course_name': '大学物理实验MII'},\n",
       " {'course_code': '1374007', 'course_name': '大学物理实验AⅠ'},\n",
       " {'course_code': '1386001', 'course_name': 'MATLAB上机实习'},\n",
       " {'course_code': '2571159', 'course_name': '声乐主修2'},\n",
       " {'course_code': '2671014', 'course_name': '技术创新案例'},\n",
       " {'course_code': '3132100', 'course_name': '数字电子技术实验'},\n",
       " {'course_code': '3143354', 'course_name': '微电子学概论'},\n",
       " {'course_code': '3200502', 'course_name': '大学计算机基础'},\n",
       " {'course_code': '3271008', 'course_name': '英语口语MII'},\n",
       " {'course_code': '3273608', 'course_name': '管理会计学'},\n",
       " {'course_code': '6022300', 'course_name': '复变函数'},\n",
       " {'course_code': '6230300', 'course_name': '有机化学实验Ⅰ'},\n",
       " {'course_code': '6321910', 'course_name': '理论力学AⅠ'},\n",
       " {'course_code': '7001150', 'course_name': '形势与政策1'},\n",
       " {'course_code': '7001154', 'course_name': '形势与政策5'},\n",
       " {'course_code': '7047720', 'course_name': '经济学原理I'},\n",
       " {'course_code': '7047721', 'course_name': '经济学原理II'},\n",
       " {'course_code': '8010230', 'course_name': '英语Ⅲ'},\n",
       " {'course_code': '9990496', 'course_name': '计算机认识实习'},\n",
       " {'course_code': '9990624', 'course_name': '土木工程认识实习'},\n",
       " {'course_code': '0173006', 'course_name': '土木工程制图I'},\n",
       " {'course_code': '0571002', 'course_name': '铁路选线与设计'},\n",
       " {'course_code': '0583014', 'course_name': '交通运输专业基础实验'},\n",
       " {'course_code': '0673037', 'course_name': '生产管理学'},\n",
       " {'course_code': '0673136', 'course_name': '运筹学'},\n",
       " {'course_code': '0872008', 'course_name': '通用学术英语'},\n",
       " {'course_code': '0872012', 'course_name': '英语Ⅱ'},\n",
       " {'course_code': '0883012', 'course_name': '英语说明文写作'},\n",
       " {'course_code': '1111500', 'course_name': '英语口语MⅠ'},\n",
       " {'course_code': '1171001', 'course_name': '工程力学C'},\n",
       " {'course_code': '1671004', 'course_name': '分析化学实验'},\n",
       " {'course_code': '2050800', 'course_name': '机械制图基础B'},\n",
       " {'course_code': '2173054', 'course_name': '数字地形测量'},\n",
       " {'course_code': '2671006', 'course_name': '行为模式与人格特质'},\n",
       " {'course_code': '2871009', 'course_name': '运筹学实验'},\n",
       " {'course_code': '3273900', 'course_name': '企业战略管理与实践'},\n",
       " {'course_code': '5022400', 'course_name': '管理学原理A'},\n",
       " {'course_code': '5023600', 'course_name': '经济法'},\n",
       " {'course_code': '5042700', 'course_name': '证券投资分析'},\n",
       " {'course_code': '6011320', 'course_name': '高等数学Ⅱ'},\n",
       " {'course_code': '6041730', 'course_name': '数学分析I'},\n",
       " {'course_code': '6111010', 'course_name': '大学物理AⅠ'},\n",
       " {'course_code': '6231256', 'course_name': '无机化学与分析化学II'},\n",
       " {'course_code': '7001062', 'course_name': '马克思主义基本原理'},\n",
       " {'course_code': '7012100', 'course_name': '社会学概论B'},\n",
       " {'course_code': '9990181', 'course_name': '社会实践'},\n",
       " {'course_code': '9990632', 'course_name': '会计综合模拟实习'},\n",
       " {'course_code': '9990671', 'course_name': '专业软件实习B'},\n",
       " {'course_code': '0112400', 'course_name': '工程制图'},\n",
       " {'course_code': '0171071', 'course_name': '地震工程学导论'},\n",
       " {'course_code': '0673083', 'course_name': '创业法律与法规'},\n",
       " {'course_code': '1271037', 'course_name': '概率论与数理统计M'},\n",
       " {'course_code': '1571001', 'course_name': '数值计算C'},\n",
       " {'course_code': '1671010', 'course_name': '有机化学'},\n",
       " {'course_code': '1671026', 'course_name': '无机及分析化学I'},\n",
       " {'course_code': '1671031', 'course_name': '无机化学与分析化学I'},\n",
       " {'course_code': '1671076', 'course_name': '遗传密码-生命与自然'},\n",
       " {'course_code': '1674028', 'course_name': '无机及分析化学实验Ⅰ'},\n",
       " {'course_code': '2050967', 'course_name': '环境工程概论'},\n",
       " {'course_code': '3271011', 'course_name': '物理化学B'},\n",
       " {'course_code': '3271032', 'course_name': '工程测量'},\n",
       " {'course_code': '3273584', 'course_name': '交通运输经济'},\n",
       " {'course_code': '3273599', 'course_name': '综合听力训练'},\n",
       " {'course_code': '5000656', 'course_name': '应用统计(经管)'},\n",
       " {'course_code': '5048400', 'course_name': '财务管理'},\n",
       " {'course_code': '5050357', 'course_name': '组织行为学'},\n",
       " {'course_code': '6010400', 'course_name': '线性代数A'},\n",
       " {'course_code': '6041760', 'course_name': '数学分析IV'},\n",
       " {'course_code': '6111020', 'course_name': '大学物理AⅡ'},\n",
       " {'course_code': '6111120', 'course_name': '大学物理实验Ⅱ'},\n",
       " {'course_code': '6231010', 'course_name': '普通生物学实验'},\n",
       " {'course_code': '6231261', 'course_name': '生物统计学'},\n",
       " {'course_code': '6322100', 'course_name': '材料力学B'},\n",
       " {'course_code': '7001153', 'course_name': '形势与政策4'},\n",
       " {'course_code': '7047250', 'course_name': '军事理论'},\n",
       " {'course_code': '8010220', 'course_name': '英语Ⅱ'},\n",
       " {'course_code': '9010120', 'course_name': '体育Ⅱ'},\n",
       " {'course_code': '9010140', 'course_name': '体育Ⅳ'},\n",
       " {'course_code': '9990191', 'course_name': '计算机上机实习A'},\n",
       " {'course_code': '9990564', 'course_name': '高级编程课程设计'},\n",
       " {'course_code': '9990661', 'course_name': '无机化学B'},\n",
       " {'course_code': '9993201', 'course_name': '应用软件实习'},\n",
       " {'course_code': '0471089', 'course_name': '计算机程序设计基础A'},\n",
       " {'course_code': '0571011', 'course_name': '机车车辆与列车牵引计算'},\n",
       " {'course_code': '1111166', 'course_name': '大学物理MI'},\n",
       " {'course_code': '1111220', 'course_name': '工科数学分析MII'},\n",
       " {'course_code': '1271031', 'course_name': '概率论与数理统计B'},\n",
       " {'course_code': '1271033', 'course_name': '数学素养训练'},\n",
       " {'course_code': '1273001', 'course_name': '程序设计与算法语言'},\n",
       " {'course_code': '1671001', 'course_name': '无机化学'},\n",
       " {'course_code': '1671012', 'course_name': '普通生物学'},\n",
       " {'course_code': '1671062', 'course_name': '物理化学实验B'},\n",
       " {'course_code': '1672006', 'course_name': '工程化学A'},\n",
       " {'course_code': '2049650', 'course_name': '城市轨道交通车辆牵引计算'},\n",
       " {'course_code': '2171077', 'course_name': '地质资源与地质工程'},\n",
       " {'course_code': '2172002', 'course_name': '工程测量学C'},\n",
       " {'course_code': '2336525', 'course_name': '经济学原理'},\n",
       " {'course_code': '2571001', 'course_name': '大学语文'},\n",
       " {'course_code': '2671019', 'course_name': '基础会计学'},\n",
       " {'course_code': '2673024', 'course_name': '政治学概论'},\n",
       " {'course_code': '3002513', 'course_name': '税法'},\n",
       " {'course_code': '3272002', 'course_name': '新生成长发展指导与训练'},\n",
       " {'course_code': '3273506', 'course_name': '管理学原理B'},\n",
       " {'course_code': '3273613', 'course_name': '保险学原理'},\n",
       " {'course_code': '5014900', 'course_name': '基础会计学B'},\n",
       " {'course_code': '5049540', 'course_name': '计量经济学'},\n",
       " {'course_code': '6010220', 'course_name': '高等数学BⅡ'},\n",
       " {'course_code': '6231282', 'course_name': '工程化学（含实验）'},\n",
       " {'course_code': '8010210', 'course_name': '英语Ⅰ'},\n",
       " {'course_code': '9010130', 'course_name': '体育Ⅲ'},\n",
       " {'course_code': '0153570', 'course_name': '土木工程制图I'},\n",
       " {'course_code': '0153580', 'course_name': '土木工程制图II'},\n",
       " {'course_code': '0271037', 'course_name': '机械工程制图Ⅱ'},\n",
       " {'course_code': '0471078', 'course_name': '高级语言程序设计'},\n",
       " {'course_code': '0471111', 'course_name': '计算机程序设计基础'},\n",
       " {'course_code': '0571046', 'course_name': '交通运输统计'},\n",
       " {'course_code': '0571128', 'course_name': '交通运输安全导论'},\n",
       " {'course_code': '0583011', 'course_name': '铁路通信信号'},\n",
       " {'course_code': '0871173', 'course_name': '英语Ⅲ'},\n",
       " {'course_code': '0873107', 'course_name': '综合英语AⅢ'},\n",
       " {'course_code': '1111177', 'course_name': '大学物理实验MI'},\n",
       " {'course_code': '1118802', 'course_name': '大学物理MII'},\n",
       " {'course_code': '1271032', 'course_name': '概率论与数理统计A'},\n",
       " {'course_code': '1371022', 'course_name': '力学'},\n",
       " {'course_code': '1374001', 'course_name': '普通物理实验Ⅱ'},\n",
       " {'course_code': '1671045', 'course_name': '生物化学A'},\n",
       " {'course_code': '1671080', 'course_name': '微生物学A'},\n",
       " {'course_code': '2173049', 'course_name': '普通地质学'},\n",
       " {'course_code': '2671005', 'course_name': '创业学导论'},\n",
       " {'course_code': '3046102', 'course_name': '电工与电子技术基础A'},\n",
       " {'course_code': '3233600', 'course_name': '数据结构B'},\n",
       " {'course_code': '3271007', 'course_name': '英语综合能力MII'},\n",
       " {'course_code': '3273632', 'course_name': '生物化学实验A'},\n",
       " {'course_code': '6010210', 'course_name': '高等数学BⅠ'},\n",
       " {'course_code': '6011310', 'course_name': '高等数学Ⅰ'},\n",
       " {'course_code': '6023200', 'course_name': '数学建模B'},\n",
       " {'course_code': '6111110', 'course_name': '大学物理实验Ⅰ'},\n",
       " {'course_code': '6321800', 'course_name': '理论力学B'},\n",
       " {'course_code': '7001063', 'course_name': '中国近现代史纲要'},\n",
       " {'course_code': '7001151', 'course_name': '形势与政策2'},\n",
       " {'course_code': '7001152', 'course_name': '形势与政策3'},\n",
       " {'course_code': '7047924', 'course_name': '毛泽东思想和中国特色社会主义理论体系概论Ⅱ'},\n",
       " {'course_code': '8010240', 'course_name': '英语Ⅳ'},\n",
       " {'course_code': '9990612', 'course_name': '计算机强化实习'},\n",
       " {'course_code': '9990692', 'course_name': '制药工程基本技能训练'}]"
      ]
     },
     "execution_count": 17,
     "metadata": {},
     "output_type": "execute_result"
    }
   ],
   "source": [
    "course_records = df.to_dict('records')\n",
    "course_records"
   ]
  },
  {
   "cell_type": "code",
   "execution_count": 5,
   "metadata": {},
   "outputs": [],
   "source": [
    "def drop_nan(num):\n",
    "    '''如果非数字,则返回0'''\n",
    "    return 0 if math.isnan(num) else num/100"
   ]
  },
  {
   "cell_type": "code",
   "execution_count": 6,
   "metadata": {},
   "outputs": [],
   "source": [
    "def get_single_links(course_records):\n",
    "    '''计算所有课程的两两关系,复杂度为n(n-1)/2'''\n",
    "    single_links = []\n",
    "    batch_link = [] # 辅助写入文件的\n",
    "    begin_time = time.time()\n",
    "    n = len(course_records)\n",
    "    for i in range(n-1):\n",
    "        for j in range(i+1,n):\n",
    "            code1 = course_records[i]['course_code']\n",
    "            code2 = course_records[j]['course_code']\n",
    "            result = cal_relation(code1,code2)\n",
    "            link = {}\n",
    "            link['source'] = course_records[i]['course_name']\n",
    "            link['target'] = course_records[j]['course_name']\n",
    "            link['prob'] = drop_nan(float(result['prob']))\n",
    "            link['bg_prob'] = drop_nan(float(result['bg_prob']))\n",
    "            link['total'] = result['total']\n",
    "            single_links.append(link)\n",
    "            batch_link.append(link)\n",
    "            # 周期性地写入文件,保存结果,因为计算量很大,需要很长时间\n",
    "            if len(batch_link) > 30 or (i==n-2 and j==n-1):\n",
    "                with open('single_links.txt','a') as f:\n",
    "                    for x in batch_link:\n",
    "                        json.dump(x,f)\n",
    "                        f.write('\\n')\n",
    "                    end_time = time.time()\n",
    "                    print('写入%d条信息,耗时%.2f 秒' % (len(batch_link),end_time-begin_time))\n",
    "                    batch_link.clear()\n",
    "                    begin_time = end_time\n",
    "    return single_links"
   ]
  },
  {
   "cell_type": "markdown",
   "metadata": {},
   "source": [
    "## 测试get_single_links"
   ]
  },
  {
   "cell_type": "code",
   "execution_count": 64,
   "metadata": {},
   "outputs": [
    {
     "name": "stdout",
     "output_type": "stream",
     "text": [
      "写入0条信息,耗时17.04 秒\n",
      "写入0条信息,耗时7.97 秒\n"
     ]
    },
    {
     "data": {
      "text/plain": [
       "[{'bg_prob': 0.0,\n",
       "  'prob': 0.0,\n",
       "  'source': '工程制图',\n",
       "  'target': '综合运输概论',\n",
       "  'total': 0},\n",
       " {'bg_prob': 0.0, 'prob': 0.0, 'source': '工程制图', 'target': '物流导论', 'total': 0},\n",
       " {'bg_prob': 0.0,\n",
       "  'prob': 0.0,\n",
       "  'source': '工程制图',\n",
       "  'target': '管理信息系统',\n",
       "  'total': 0},\n",
       " {'bg_prob': 0.0, 'prob': 0.0, 'source': '工程制图', 'target': '网络金融', 'total': 0},\n",
       " {'bg_prob': 0.2667,\n",
       "  'prob': 0.5581,\n",
       "  'source': '工程制图',\n",
       "  'target': '高等数学BⅠ',\n",
       "  'total': 86}]"
      ]
     },
     "execution_count": 64,
     "metadata": {},
     "output_type": "execute_result"
    }
   ],
   "source": [
    "short_dict = course_records[:10]\n",
    "single_links = get_single_links(short_dict)\n",
    "single_links[:5]"
   ]
  },
  {
   "cell_type": "markdown",
   "metadata": {},
   "source": [
    "## 生成nodes和links数据"
   ]
  },
  {
   "cell_type": "code",
   "execution_count": 7,
   "metadata": {},
   "outputs": [],
   "source": [
    "def add_one_node_record(nodeRecord,name,prob):\n",
    "    if name in nodeRecord:\n",
    "        nodeRecord[name]['edgeCount'] += 1\n",
    "        nodeRecord[name]['probSum'] += prob\n",
    "    else :\n",
    "        record = {}\n",
    "        record['name'] = name\n",
    "        record['edgeCount'] = 1\n",
    "        record['probSum'] = prob\n",
    "        nodeRecord[name] = record"
   ]
  },
  {
   "cell_type": "code",
   "execution_count": 8,
   "metadata": {},
   "outputs": [],
   "source": [
    "def get_nodes_and_links(single_links):\n",
    "    '''根据单个的课程间概率生成echarts展示的数据结构\n",
    "    包括nodes和links\n",
    "    nodes单个的结构如下:\n",
    "    {\n",
    "        category: 0,\n",
    "        name: '高等数学',\n",
    "        value: 10,\n",
    "        symbolSize: 50 //圆圈的大小,一般大于30,这里我用与之相连的课程数和他们的概率来计算\n",
    "    }\n",
    "    links的单个结构如下:\n",
    "    { source: '高等数学', target: '大学物理' }\n",
    "    '''\n",
    "    nodes = []\n",
    "    nodeRecord = {} # 帮助计算node,存储的结构{name:{edgeCount:0,probSum:0.0}}\n",
    "    links = []\n",
    "    for slink in single_links:\n",
    "        # 舍弃掉那些人数少的例子\n",
    "        if slink['total'] > 30:\n",
    "            link = {}\n",
    "            link['source'] = slink['source']\n",
    "            link['target'] = slink['target']\n",
    "            links.append(link)\n",
    "            add_one_node_record(nodeRecord,slink['source'],slink['prob'])\n",
    "            add_one_node_record(nodeRecord,slink['target'],slink['prob'])\n",
    "    # 计算nodes\n",
    "#     print(nodeRecord)\n",
    "    for name,v in nodeRecord.items():\n",
    "        node = {}\n",
    "        node['category'] = 0\n",
    "        node['name'] = name\n",
    "        node['symbolSize'] = v['edgeCount']*2 + v['probSum']*3\n",
    "        nodes.append(node)\n",
    "    return links,nodes\n",
    "    "
   ]
  },
  {
   "cell_type": "markdown",
   "metadata": {},
   "source": [
    "## 测试生成的nodes和links数据"
   ]
  },
  {
   "cell_type": "code",
   "execution_count": 29,
   "metadata": {},
   "outputs": [],
   "source": [
    "def read_single_links():\n",
    "    single_links = []\n",
    "    with open('single_links.txt','r') as f:\n",
    "        l = f.readlines()\n",
    "        for x in l:\n",
    "            d = json.loads(x)\n",
    "            single_links.append(d)\n",
    "    return single_links"
   ]
  },
  {
   "cell_type": "code",
   "execution_count": 51,
   "metadata": {},
   "outputs": [
    {
     "name": "stdout",
     "output_type": "stream",
     "text": [
      "{'工程制图': {'name': '工程制图', 'edgeCount': 8, 'probSum': 499.69000000000005}, '高等数学BⅠ': {'name': '高等数学BⅠ', 'edgeCount': 3, 'probSum': 130.91}, '大学物理BI': {'name': '大学物理BI', 'edgeCount': 2, 'probSum': 145.82999999999998}, '测量学': {'name': '测量学', 'edgeCount': 1, 'probSum': 42.34}, '线性代数B': {'name': '线性代数B', 'edgeCount': 2, 'probSum': 106.80000000000001}, '军事技能训练': {'name': '军事技能训练', 'edgeCount': 2, 'probSum': 169.79}, '英语Ⅰ': {'name': '英语Ⅰ', 'edgeCount': 2, 'probSum': 147.97}, '高等数学BⅡ': {'name': '高等数学BⅡ', 'edgeCount': 2, 'probSum': 134.72}, '普通测量实验': {'name': '普通测量实验', 'edgeCount': 1, 'probSum': 69.23}, '综合运输概论': {'name': '综合运输概论', 'edgeCount': 13, 'probSum': nan}, '物流导论': {'name': '物流导论', 'edgeCount': 2, 'probSum': 103.49000000000001}, '分析化学': {'name': '分析化学', 'edgeCount': 1, 'probSum': 58.54}, '物流学': {'name': '物流学', 'edgeCount': 1, 'probSum': 74.7}, '英语综合能力MⅠ': {'name': '英语综合能力MⅠ', 'edgeCount': 1, 'probSum': 93.55}, '计算机程序设计基础A': {'name': '计算机程序设计基础A', 'edgeCount': 1, 'probSum': 68.97}, '无机化学实验': {'name': '无机化学实验', 'edgeCount': 1, 'probSum': nan}, '管理学原理': {'name': '管理学原理', 'edgeCount': 1, 'probSum': 71.52}}\n"
     ]
    }
   ],
   "source": [
    "links,nodes = get_nodes_and_links(single_links)"
   ]
  },
  {
   "cell_type": "code",
   "execution_count": 44,
   "metadata": {},
   "outputs": [
    {
     "data": {
      "text/plain": [
       "[{'source': '工程制图', 'target': '高等数学BⅠ'},\n",
       " {'source': '工程制图', 'target': '大学物理BI'},\n",
       " {'source': '工程制图', 'target': '测量学'},\n",
       " {'source': '工程制图', 'target': '线性代数B'},\n",
       " {'source': '工程制图', 'target': '军事技能训练'},\n",
       " {'source': '工程制图', 'target': '英语Ⅰ'},\n",
       " {'source': '工程制图', 'target': '高等数学BⅡ'},\n",
       " {'source': '工程制图', 'target': '普通测量实验'},\n",
       " {'source': '综合运输概论', 'target': '物流导论'},\n",
       " {'source': '综合运输概论', 'target': '高等数学BⅠ'},\n",
       " {'source': '综合运输概论', 'target': '大学物理BI'},\n",
       " {'source': '综合运输概论', 'target': '分析化学'},\n",
       " {'source': '综合运输概论', 'target': '线性代数B'},\n",
       " {'source': '综合运输概论', 'target': '军事技能训练'},\n",
       " {'source': '综合运输概论', 'target': '物流学'},\n",
       " {'source': '综合运输概论', 'target': '英语综合能力MⅠ'},\n",
       " {'source': '综合运输概论', 'target': '英语Ⅰ'},\n",
       " {'source': '综合运输概论', 'target': '高等数学BⅡ'},\n",
       " {'source': '综合运输概论', 'target': '计算机程序设计基础A'},\n",
       " {'source': '综合运输概论', 'target': '无机化学实验'},\n",
       " {'source': '综合运输概论', 'target': '管理学原理'},\n",
       " {'source': '物流导论', 'target': '高等数学BⅠ'}]"
      ]
     },
     "execution_count": 44,
     "metadata": {},
     "output_type": "execute_result"
    }
   ],
   "source": [
    "links"
   ]
  },
  {
   "cell_type": "code",
   "execution_count": 68,
   "metadata": {
    "scrolled": true
   },
   "outputs": [
    {
     "data": {
      "text/plain": [
       "[{'category': 0, 'name': '工程制图', 'symbolSize': 68.9845},\n",
       " {'category': 0, 'name': '高等数学BⅠ', 'symbolSize': 35.5455},\n",
       " {'category': 0, 'name': '大学物理BI', 'symbolSize': 33.2915},\n",
       " {'category': 0, 'name': '测量学', 'symbolSize': 25.117},\n",
       " {'category': 0, 'name': '线性代数B', 'symbolSize': 31.34},\n",
       " {'category': 0, 'name': '军事技能训练', 'symbolSize': 34.4895},\n",
       " {'category': 0, 'name': '英语Ⅰ', 'symbolSize': 33.3985},\n",
       " {'category': 0, 'name': '高等数学BⅡ', 'symbolSize': 32.736000000000004},\n",
       " {'category': 0, 'name': '普通测量实验', 'symbolSize': 26.4615},\n",
       " {'category': 0, 'name': '综合运输概论', 'symbolSize': nan},\n",
       " {'category': 0, 'name': '物流导论', 'symbolSize': 31.174500000000002},\n",
       " {'category': 0, 'name': '分析化学', 'symbolSize': 25.927},\n",
       " {'category': 0, 'name': '物流学', 'symbolSize': 26.735},\n",
       " {'category': 0, 'name': '英语综合能力MⅠ', 'symbolSize': 27.677500000000002},\n",
       " {'category': 0, 'name': '计算机程序设计基础A', 'symbolSize': 26.4485},\n",
       " {'category': 0, 'name': '无机化学实验', 'symbolSize': nan},\n",
       " {'category': 0, 'name': '管理学原理', 'symbolSize': 26.576}]"
      ]
     },
     "execution_count": 68,
     "metadata": {},
     "output_type": "execute_result"
    }
   ],
   "source": [
    "nodes"
   ]
  },
  {
   "cell_type": "code",
   "execution_count": 32,
   "metadata": {},
   "outputs": [],
   "source": [
    "def dump_obj(path,obj):\n",
    "    '''先清空再保存对象到文件'''\n",
    "    open(path,'w').close() # 先清空\n",
    "    with open(path,'w') as f:\n",
    "        json.dump(obj,f,ensure_ascii=False)"
   ]
  },
  {
   "cell_type": "code",
   "execution_count": 33,
   "metadata": {},
   "outputs": [
    {
     "name": "stdout",
     "output_type": "stream",
     "text": [
      "已生成nodes和links结构\n",
      "已存储在文件里\n"
     ]
    }
   ],
   "source": [
    "single_links = read_single_links()\n",
    "links,nodes = get_nodes_and_links(single_links)\n",
    "print('已生成nodes和links结构')\n",
    "# 存到文件里\n",
    "dump_obj(\"links.txt\",links)\n",
    "dump_obj(\"nodes.txt\",nodes)\n",
    "print('已存储在文件里')"
   ]
  },
  {
   "cell_type": "markdown",
   "metadata": {},
   "source": [
    "## 修正圆圈的大小"
   ]
  },
  {
   "cell_type": "code",
   "execution_count": 38,
   "metadata": {},
   "outputs": [],
   "source": [
    "# 使最大不超过30\n",
    "def correct_simbol_size(path):\n",
    "    nodes = None\n",
    "    with open('nodes.txt','r') as f:\n",
    "        nodes = json.load(f)\n",
    "#     print(nodes)\n",
    "    # 找出最大的\n",
    "    max_size = 0\n",
    "    for node in nodes:\n",
    "        if node['symbolSize']>max_size:\n",
    "            max_size = node['symbolSize']\n",
    "    scale = max_size/30\n",
    "    nodes_now = []\n",
    "    for node in nodes:\n",
    "        node['symbolSize'] /= scale\n",
    "        # 舍去小的\n",
    "        if node['symbolSize'] > 1:\n",
    "            nodes_now.append(node)\n",
    "    dump_obj(path,nodes_now)"
   ]
  },
  {
   "cell_type": "code",
   "execution_count": 39,
   "metadata": {},
   "outputs": [],
   "source": [
    "correct_simbol_size('new_nondes.txt')"
   ]
  },
  {
   "cell_type": "markdown",
   "metadata": {},
   "source": [
    "## 组合上述方法"
   ]
  },
  {
   "cell_type": "code",
   "execution_count": 26,
   "metadata": {},
   "outputs": [],
   "source": [
    "def final_cal_relation(speciality_code,grade,store_links_path='links.txt',store_nodes_path='nodes.txt'):\n",
    "    course_records = get_course_code(speciality_code,grade)\n",
    "    print('已获取该专业课程')\n",
    "    single_links = get_single_links(course_records)\n",
    "    print('完成所有课程关系的计算')\n",
    "    links,nodes = get_nodes_and_links(single_links)\n",
    "    print('已生成nodes和links结构')\n",
    "    # 存到文件里\n",
    "    dump_obj(store_links_path,links)\n",
    "    dump_obj(store_nodes_path,nodes)\n",
    "    print('已存储在文件里')\n",
    "    # TODO 记录所有时间\n",
    "    # 改成多线程下载"
   ]
  },
  {
   "cell_type": "code",
   "execution_count": 28,
   "metadata": {},
   "outputs": [],
   "source": [
    "#final_cal_relation('0501','2015')\n",
    "# 127.0.0.1 - - [18/Mar/2018 00:49:00] \"GET /course/relation/8010220/7001152 HTTP/1.1\" 500 "
   ]
  },
  {
   "cell_type": "markdown",
   "metadata": {},
   "source": [
    "## 改成多线程"
   ]
  },
  {
   "cell_type": "code",
   "execution_count": 1,
   "metadata": {},
   "outputs": [],
   "source": [
    "import threading"
   ]
  },
  {
   "cell_type": "code",
   "execution_count": null,
   "metadata": {},
   "outputs": [],
   "source": [
    "class CalRelationThread(threading.Thread):\n",
    "    '''计算一次专业的线程'''\n",
    "    def __init__(self,name):\n",
    "        threading.Thread.__init__(self)\n",
    "        self.name = name\n",
    "    \n",
    "    def run(self):\n",
    "        pass\n",
    "    \n",
    "    "
   ]
  },
  {
   "cell_type": "markdown",
   "metadata": {},
   "source": [
    "# 部署方案"
   ]
  },
  {
   "cell_type": "markdown",
   "metadata": {},
   "source": [
    "1. 修改代码,可以存储中间结果,这样随时可中断\n",
    "2. 多线程计算,只考虑按专业来分,一个专业一个线程\n",
    "3. 界面可控制整个过程,将中间结果存入文件"
   ]
  }
 ],
 "metadata": {
  "kernelspec": {
   "display_name": "Python 3",
   "language": "python",
   "name": "python3"
  },
  "language_info": {
   "codemirror_mode": {
    "name": "ipython",
    "version": 3
   },
   "file_extension": ".py",
   "mimetype": "text/x-python",
   "name": "python",
   "nbconvert_exporter": "python",
   "pygments_lexer": "ipython3",
   "version": "3.6.4"
  }
 },
 "nbformat": 4,
 "nbformat_minor": 2
}
