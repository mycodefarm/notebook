{
 "cells": [
  {
   "cell_type": "markdown",
   "metadata": {},
   "source": [
    "## 计算一个专业各个课程的关联度,然后存储起来"
   ]
  },
  {
   "cell_type": "code",
   "execution_count": 2,
   "metadata": {},
   "outputs": [],
   "source": [
    "import requests\n",
    "import jutil\n",
    "import time\n",
    "import json\n",
    "import itertools\n",
    "import math\n",
    "import threading"
   ]
  },
  {
   "cell_type": "code",
   "execution_count": 3,
   "metadata": {},
   "outputs": [],
   "source": [
    "def dump_obj(path,obj):\n",
    "    '''先清空再保存对象到文件'''\n",
    "    with open(path,'w') as f:\n",
    "        json.dump(obj,f,ensure_ascii=False)"
   ]
  },
  {
   "cell_type": "code",
   "execution_count": 32,
   "metadata": {},
   "outputs": [],
   "source": [
    "class CalRelation(threading.Thread):\n",
    "    def __init__(self,speciality_code,grade='2015',temp_file_dir='/tmp/'):\n",
    "        threading.Thread.__init__(self)\n",
    "        self.speciality_code = speciality_code\n",
    "        self.grade=grade\n",
    "        self.temp_file_dir = temp_file_dir\n",
    "        self.course_records = self.get_course_code()\n",
    "        self.beginIndex = 0\n",
    "        self.endIndex = len(self.course_records)\n",
    "        self.isRun = True # 控制开关\n",
    "        self.single_links = []\n",
    "    \n",
    "    def run(self):\n",
    "        '''\n",
    "        先读取code记录,取出计算了多少\n",
    "        再开始计算links,中途保存结果\n",
    "        '''\n",
    "        while self.isRun:\n",
    "            self.get_single_links()\n",
    "        \n",
    "\n",
    "    def stop(self):\n",
    "        '''停止本次计算,保存结果,清理垃圾'''\n",
    "        self.isRun = False\n",
    "        \n",
    "        print('已停止')\n",
    "    \n",
    "    def get_course_code(self):\n",
    "        '''如果本地没有,则从数据库查出课程名和代码,然后组合成一对对的返回'''\n",
    "        t_path = self.temp_file_dir+self.speciality_code+ '_course_records.txt'\n",
    "        try:\n",
    "            with open(t_path,'r') as f:\n",
    "                c = json.load(f)\n",
    "                return c\n",
    "        except:\n",
    "            sql = \"select DISTINCT(course_name),course_code from view_stu_course_mark where speciality_code='%s' and course_type='必'  \\\n",
    "            and grade='%s'\" %(self.speciality_code,self.grade)\n",
    "            df = jutil.load_pd_df(sql)\n",
    "            d_records = df.to_dict('records')\n",
    "            records = []\n",
    "            n = len(d_records)\n",
    "            for i in range(n-1):\n",
    "                for j in range(i+1,n):\n",
    "                    t = (d_records[i],d_records[j])\n",
    "                    records.append(t)\n",
    "            dump_obj(t_path,records)\n",
    "        return records\n",
    "    \n",
    "    def cal_relation(self,code1,code2):\n",
    "        '''计算相似度调用'''\n",
    "        url2 = 'http://localhost:8082/course/relation/'\n",
    "        url = url2+code1+'/'+code2\n",
    "        re = requests.get(url)\n",
    "        return re.json()['data']\n",
    "    \n",
    "    def drop_nan(self,num):\n",
    "        '''如果非数字,则返回0'''\n",
    "        return 0 if math.isnan(num) else num/100\n",
    "\n",
    "    def get_single_links(self):\n",
    "        '''计算所有课程的两两关系,复杂度为n(n-1)/2'''\n",
    "        batch_link = [] # 辅助写入文件的\n",
    "        begin_time = time.time()\n",
    "        for i in range(self.beginIndex,self.endIndex):\n",
    "            if not self.isRun:\n",
    "                break\n",
    "            code1 = self.course_records[i][0]['course_code']\n",
    "            code2 = self.course_records[i][1]['course_code']\n",
    "            result = self.cal_relation(code1,code2)\n",
    "            link = {}\n",
    "            link['source'] = self.course_records[i][0]['course_name']\n",
    "            link['target'] = self.course_records[i][1]['course_name']\n",
    "            link['prob'] = self.drop_nan(float(result['prob']))\n",
    "            link['bg_prob'] = self.drop_nan(float(result['bg_prob']))\n",
    "            link['total'] = result['total']\n",
    "            self.single_links.append(link)\n",
    "            batch_link.append(link)\n",
    "            # 周期性地写入文件,保存结果,因为计算量很大,需要很长时间\n",
    "            if len(batch_link) > 30 or (i==self.endIndex-1):\n",
    "                with open(self.temp_file_dir+self.speciality_code+ '_single_links.txt','a') as f:\n",
    "                    for x in batch_link:\n",
    "                        json.dump(x,f)\n",
    "                        f.write('\\n')\n",
    "                    end_time = time.time()\n",
    "#                     print('写入%d条信息,耗时%.2f 秒' % (len(batch_link),end_time-begin_time))\n",
    "                    batch_link.clear()\n",
    "                    begin_time = end_time\n",
    "            self.beginIndex = i\n",
    "        \n",
    "    "
   ]
  },
  {
   "cell_type": "markdown",
   "metadata": {},
   "source": [
    "## 测试"
   ]
  },
  {
   "cell_type": "code",
   "execution_count": 36,
   "metadata": {},
   "outputs": [],
   "source": [
    "cal = CalRelation(speciality_code='0501',temp_file_dir='./')"
   ]
  },
  {
   "cell_type": "code",
   "execution_count": 37,
   "metadata": {},
   "outputs": [],
   "source": [
    "cal.start()\n",
    "# cal.join()"
   ]
  },
  {
   "cell_type": "code",
   "execution_count": 38,
   "metadata": {},
   "outputs": [
    {
     "name": "stdout",
     "output_type": "stream",
     "text": [
      "已停止\n"
     ]
    }
   ],
   "source": [
    "cal.stop()"
   ]
  },
  {
   "cell_type": "code",
   "execution_count": 4,
   "metadata": {},
   "outputs": [],
   "source": [
    "def cal_relation(code1,code2):\n",
    "    '''计算相似度调用'''\n",
    "    url2 = 'http://localhost:8082/course/relation/'\n",
    "    url = url2+code1+'/'+code2\n",
    "    re = requests.get(url)\n",
    "    return re.json()['data']"
   ]
  },
  {
   "cell_type": "code",
   "execution_count": 5,
   "metadata": {},
   "outputs": [],
   "source": [
    "def drop_nan(num):\n",
    "    '''如果非数字,则返回0'''\n",
    "    return 0 if math.isnan(num) else num/100"
   ]
  },
  {
   "cell_type": "code",
   "execution_count": 6,
   "metadata": {},
   "outputs": [],
   "source": [
    "def get_single_links(course_records):\n",
    "    '''计算所有课程的两两关系,复杂度为n(n-1)/2'''\n",
    "    single_links = []\n",
    "    batch_link = [] # 辅助写入文件的\n",
    "    begin_time = time.time()\n",
    "    n = len(course_records)\n",
    "    for i in range(n-1):\n",
    "        for j in range(i+1,n):\n",
    "            code1 = course_records[i]['course_code']\n",
    "            code2 = course_records[j]['course_code']\n",
    "            result = cal_relation(code1,code2)\n",
    "            link = {}\n",
    "            link['source'] = course_records[i]['course_name']\n",
    "            link['target'] = course_records[j]['course_name']\n",
    "            link['prob'] = drop_nan(float(result['prob']))\n",
    "            link['bg_prob'] = drop_nan(float(result['bg_prob']))\n",
    "            link['total'] = result['total']\n",
    "            single_links.append(link)\n",
    "            batch_link.append(link)\n",
    "            # 周期性地写入文件,保存结果,因为计算量很大,需要很长时间\n",
    "            if len(batch_link) > 30 or (i==n-2 and j==n-1):\n",
    "                with open('single_links.txt','a') as f:\n",
    "                    for x in batch_link:\n",
    "                        json.dump(x,f)\n",
    "                        f.write('\\n')\n",
    "                    end_time = time.time()\n",
    "                    print('写入%d条信息,耗时%.2f 秒' % (len(batch_link),end_time-begin_time))\n",
    "                    batch_link.clear()\n",
    "                    begin_time = end_time\n",
    "    return single_links"
   ]
  },
  {
   "cell_type": "markdown",
   "metadata": {},
   "source": [
    "## 测试get_single_links"
   ]
  },
  {
   "cell_type": "code",
   "execution_count": 64,
   "metadata": {},
   "outputs": [
    {
     "name": "stdout",
     "output_type": "stream",
     "text": [
      "写入0条信息,耗时17.04 秒\n",
      "写入0条信息,耗时7.97 秒\n"
     ]
    },
    {
     "data": {
      "text/plain": [
       "[{'bg_prob': 0.0,\n",
       "  'prob': 0.0,\n",
       "  'source': '工程制图',\n",
       "  'target': '综合运输概论',\n",
       "  'total': 0},\n",
       " {'bg_prob': 0.0, 'prob': 0.0, 'source': '工程制图', 'target': '物流导论', 'total': 0},\n",
       " {'bg_prob': 0.0,\n",
       "  'prob': 0.0,\n",
       "  'source': '工程制图',\n",
       "  'target': '管理信息系统',\n",
       "  'total': 0},\n",
       " {'bg_prob': 0.0, 'prob': 0.0, 'source': '工程制图', 'target': '网络金融', 'total': 0},\n",
       " {'bg_prob': 0.2667,\n",
       "  'prob': 0.5581,\n",
       "  'source': '工程制图',\n",
       "  'target': '高等数学BⅠ',\n",
       "  'total': 86}]"
      ]
     },
     "execution_count": 64,
     "metadata": {},
     "output_type": "execute_result"
    }
   ],
   "source": [
    "short_dict = course_records[:10]\n",
    "single_links = get_single_links(short_dict)\n",
    "single_links[:5]"
   ]
  },
  {
   "cell_type": "markdown",
   "metadata": {},
   "source": [
    "## 生成nodes和links数据"
   ]
  },
  {
   "cell_type": "code",
   "execution_count": 7,
   "metadata": {},
   "outputs": [],
   "source": [
    "def add_one_node_record(nodeRecord,name,prob):\n",
    "    if name in nodeRecord:\n",
    "        nodeRecord[name]['edgeCount'] += 1\n",
    "        nodeRecord[name]['probSum'] += prob\n",
    "    else :\n",
    "        record = {}\n",
    "        record['name'] = name\n",
    "        record['edgeCount'] = 1\n",
    "        record['probSum'] = prob\n",
    "        nodeRecord[name] = record"
   ]
  },
  {
   "cell_type": "code",
   "execution_count": 8,
   "metadata": {},
   "outputs": [],
   "source": [
    "def get_nodes_and_links(single_links):\n",
    "    '''根据单个的课程间概率生成echarts展示的数据结构\n",
    "    包括nodes和links\n",
    "    nodes单个的结构如下:\n",
    "    {\n",
    "        category: 0,\n",
    "        name: '高等数学',\n",
    "        value: 10,\n",
    "        symbolSize: 50 //圆圈的大小,一般大于30,这里我用与之相连的课程数和他们的概率来计算\n",
    "    }\n",
    "    links的单个结构如下:\n",
    "    { source: '高等数学', target: '大学物理' }\n",
    "    '''\n",
    "    nodes = []\n",
    "    nodeRecord = {} # 帮助计算node,存储的结构{name:{edgeCount:0,probSum:0.0}}\n",
    "    links = []\n",
    "    for slink in single_links:\n",
    "        # 舍弃掉那些人数少的例子\n",
    "        if slink['total'] > 30:\n",
    "            link = {}\n",
    "            link['source'] = slink['source']\n",
    "            link['target'] = slink['target']\n",
    "            links.append(link)\n",
    "            add_one_node_record(nodeRecord,slink['source'],slink['prob'])\n",
    "            add_one_node_record(nodeRecord,slink['target'],slink['prob'])\n",
    "    # 计算nodes\n",
    "#     print(nodeRecord)\n",
    "    for name,v in nodeRecord.items():\n",
    "        node = {}\n",
    "        node['category'] = 0\n",
    "        node['name'] = name\n",
    "        node['symbolSize'] = v['edgeCount']*2 + v['probSum']*3\n",
    "        nodes.append(node)\n",
    "    return links,nodes\n",
    "    "
   ]
  },
  {
   "cell_type": "markdown",
   "metadata": {},
   "source": [
    "## 测试生成的nodes和links数据"
   ]
  },
  {
   "cell_type": "code",
   "execution_count": 29,
   "metadata": {},
   "outputs": [],
   "source": [
    "def read_single_links():\n",
    "    single_links = []\n",
    "    with open('single_links.txt','r') as f:\n",
    "        l = f.readlines()\n",
    "        for x in l:\n",
    "            d = json.loads(x)\n",
    "            single_links.append(d)\n",
    "    return single_links"
   ]
  },
  {
   "cell_type": "code",
   "execution_count": 51,
   "metadata": {},
   "outputs": [
    {
     "name": "stdout",
     "output_type": "stream",
     "text": [
      "{'工程制图': {'name': '工程制图', 'edgeCount': 8, 'probSum': 499.69000000000005}, '高等数学BⅠ': {'name': '高等数学BⅠ', 'edgeCount': 3, 'probSum': 130.91}, '大学物理BI': {'name': '大学物理BI', 'edgeCount': 2, 'probSum': 145.82999999999998}, '测量学': {'name': '测量学', 'edgeCount': 1, 'probSum': 42.34}, '线性代数B': {'name': '线性代数B', 'edgeCount': 2, 'probSum': 106.80000000000001}, '军事技能训练': {'name': '军事技能训练', 'edgeCount': 2, 'probSum': 169.79}, '英语Ⅰ': {'name': '英语Ⅰ', 'edgeCount': 2, 'probSum': 147.97}, '高等数学BⅡ': {'name': '高等数学BⅡ', 'edgeCount': 2, 'probSum': 134.72}, '普通测量实验': {'name': '普通测量实验', 'edgeCount': 1, 'probSum': 69.23}, '综合运输概论': {'name': '综合运输概论', 'edgeCount': 13, 'probSum': nan}, '物流导论': {'name': '物流导论', 'edgeCount': 2, 'probSum': 103.49000000000001}, '分析化学': {'name': '分析化学', 'edgeCount': 1, 'probSum': 58.54}, '物流学': {'name': '物流学', 'edgeCount': 1, 'probSum': 74.7}, '英语综合能力MⅠ': {'name': '英语综合能力MⅠ', 'edgeCount': 1, 'probSum': 93.55}, '计算机程序设计基础A': {'name': '计算机程序设计基础A', 'edgeCount': 1, 'probSum': 68.97}, '无机化学实验': {'name': '无机化学实验', 'edgeCount': 1, 'probSum': nan}, '管理学原理': {'name': '管理学原理', 'edgeCount': 1, 'probSum': 71.52}}\n"
     ]
    }
   ],
   "source": [
    "links,nodes = get_nodes_and_links(single_links)"
   ]
  },
  {
   "cell_type": "code",
   "execution_count": 44,
   "metadata": {},
   "outputs": [
    {
     "data": {
      "text/plain": [
       "[{'source': '工程制图', 'target': '高等数学BⅠ'},\n",
       " {'source': '工程制图', 'target': '大学物理BI'},\n",
       " {'source': '工程制图', 'target': '测量学'},\n",
       " {'source': '工程制图', 'target': '线性代数B'},\n",
       " {'source': '工程制图', 'target': '军事技能训练'},\n",
       " {'source': '工程制图', 'target': '英语Ⅰ'},\n",
       " {'source': '工程制图', 'target': '高等数学BⅡ'},\n",
       " {'source': '工程制图', 'target': '普通测量实验'},\n",
       " {'source': '综合运输概论', 'target': '物流导论'},\n",
       " {'source': '综合运输概论', 'target': '高等数学BⅠ'},\n",
       " {'source': '综合运输概论', 'target': '大学物理BI'},\n",
       " {'source': '综合运输概论', 'target': '分析化学'},\n",
       " {'source': '综合运输概论', 'target': '线性代数B'},\n",
       " {'source': '综合运输概论', 'target': '军事技能训练'},\n",
       " {'source': '综合运输概论', 'target': '物流学'},\n",
       " {'source': '综合运输概论', 'target': '英语综合能力MⅠ'},\n",
       " {'source': '综合运输概论', 'target': '英语Ⅰ'},\n",
       " {'source': '综合运输概论', 'target': '高等数学BⅡ'},\n",
       " {'source': '综合运输概论', 'target': '计算机程序设计基础A'},\n",
       " {'source': '综合运输概论', 'target': '无机化学实验'},\n",
       " {'source': '综合运输概论', 'target': '管理学原理'},\n",
       " {'source': '物流导论', 'target': '高等数学BⅠ'}]"
      ]
     },
     "execution_count": 44,
     "metadata": {},
     "output_type": "execute_result"
    }
   ],
   "source": [
    "links"
   ]
  },
  {
   "cell_type": "code",
   "execution_count": 68,
   "metadata": {
    "scrolled": true
   },
   "outputs": [
    {
     "data": {
      "text/plain": [
       "[{'category': 0, 'name': '工程制图', 'symbolSize': 68.9845},\n",
       " {'category': 0, 'name': '高等数学BⅠ', 'symbolSize': 35.5455},\n",
       " {'category': 0, 'name': '大学物理BI', 'symbolSize': 33.2915},\n",
       " {'category': 0, 'name': '测量学', 'symbolSize': 25.117},\n",
       " {'category': 0, 'name': '线性代数B', 'symbolSize': 31.34},\n",
       " {'category': 0, 'name': '军事技能训练', 'symbolSize': 34.4895},\n",
       " {'category': 0, 'name': '英语Ⅰ', 'symbolSize': 33.3985},\n",
       " {'category': 0, 'name': '高等数学BⅡ', 'symbolSize': 32.736000000000004},\n",
       " {'category': 0, 'name': '普通测量实验', 'symbolSize': 26.4615},\n",
       " {'category': 0, 'name': '综合运输概论', 'symbolSize': nan},\n",
       " {'category': 0, 'name': '物流导论', 'symbolSize': 31.174500000000002},\n",
       " {'category': 0, 'name': '分析化学', 'symbolSize': 25.927},\n",
       " {'category': 0, 'name': '物流学', 'symbolSize': 26.735},\n",
       " {'category': 0, 'name': '英语综合能力MⅠ', 'symbolSize': 27.677500000000002},\n",
       " {'category': 0, 'name': '计算机程序设计基础A', 'symbolSize': 26.4485},\n",
       " {'category': 0, 'name': '无机化学实验', 'symbolSize': nan},\n",
       " {'category': 0, 'name': '管理学原理', 'symbolSize': 26.576}]"
      ]
     },
     "execution_count": 68,
     "metadata": {},
     "output_type": "execute_result"
    }
   ],
   "source": [
    "nodes"
   ]
  },
  {
   "cell_type": "code",
   "execution_count": 32,
   "metadata": {},
   "outputs": [],
   "source": [
    "def dump_obj(path,obj):\n",
    "    '''先清空再保存对象到文件'''\n",
    "    open(path,'w').close() # 先清空\n",
    "    with open(path,'w') as f:\n",
    "        json.dump(obj,f,ensure_ascii=False)"
   ]
  },
  {
   "cell_type": "code",
   "execution_count": 33,
   "metadata": {},
   "outputs": [
    {
     "name": "stdout",
     "output_type": "stream",
     "text": [
      "已生成nodes和links结构\n",
      "已存储在文件里\n"
     ]
    }
   ],
   "source": [
    "single_links = read_single_links()\n",
    "links,nodes = get_nodes_and_links(single_links)\n",
    "print('已生成nodes和links结构')\n",
    "# 存到文件里\n",
    "dump_obj(\"links.txt\",links)\n",
    "dump_obj(\"nodes.txt\",nodes)\n",
    "print('已存储在文件里')"
   ]
  },
  {
   "cell_type": "markdown",
   "metadata": {},
   "source": [
    "## 修正圆圈的大小"
   ]
  },
  {
   "cell_type": "code",
   "execution_count": 38,
   "metadata": {},
   "outputs": [],
   "source": [
    "# 使最大不超过30\n",
    "def correct_simbol_size(path):\n",
    "    nodes = None\n",
    "    with open('nodes.txt','r') as f:\n",
    "        nodes = json.load(f)\n",
    "#     print(nodes)\n",
    "    # 找出最大的\n",
    "    max_size = 0\n",
    "    for node in nodes:\n",
    "        if node['symbolSize']>max_size:\n",
    "            max_size = node['symbolSize']\n",
    "    scale = max_size/30\n",
    "    nodes_now = []\n",
    "    for node in nodes:\n",
    "        node['symbolSize'] /= scale\n",
    "        # 舍去小的\n",
    "        if node['symbolSize'] > 1:\n",
    "            nodes_now.append(node)\n",
    "    dump_obj(path,nodes_now)"
   ]
  },
  {
   "cell_type": "code",
   "execution_count": 39,
   "metadata": {},
   "outputs": [],
   "source": [
    "correct_simbol_size('new_nondes.txt')"
   ]
  },
  {
   "cell_type": "markdown",
   "metadata": {},
   "source": [
    "## 组合上述方法"
   ]
  },
  {
   "cell_type": "code",
   "execution_count": 26,
   "metadata": {},
   "outputs": [],
   "source": [
    "def final_cal_relation(speciality_code,grade,store_links_path='links.txt',store_nodes_path='nodes.txt'):\n",
    "    course_records = get_course_code(speciality_code,grade)\n",
    "    print('已获取该专业课程')\n",
    "    single_links = get_single_links(course_records)\n",
    "    print('完成所有课程关系的计算')\n",
    "    links,nodes = get_nodes_and_links(single_links)\n",
    "    print('已生成nodes和links结构')\n",
    "    # 存到文件里\n",
    "    dump_obj(store_links_path,links)\n",
    "    dump_obj(store_nodes_path,nodes)\n",
    "    print('已存储在文件里')\n",
    "    # TODO 记录所有时间\n",
    "    # 改成多线程下载"
   ]
  },
  {
   "cell_type": "code",
   "execution_count": 28,
   "metadata": {},
   "outputs": [],
   "source": [
    "#final_cal_relation('0501','2015')\n",
    "# 127.0.0.1 - - [18/Mar/2018 00:49:00] \"GET /course/relation/8010220/7001152 HTTP/1.1\" 500 "
   ]
  },
  {
   "cell_type": "markdown",
   "metadata": {},
   "source": [
    "## 改成多线程"
   ]
  },
  {
   "cell_type": "code",
   "execution_count": 1,
   "metadata": {},
   "outputs": [],
   "source": [
    "import threading"
   ]
  },
  {
   "cell_type": "code",
   "execution_count": null,
   "metadata": {},
   "outputs": [],
   "source": [
    "class CalRelationThread(threading.Thread):\n",
    "    '''计算一次专业的线程'''\n",
    "    def __init__(self,name):\n",
    "        threading.Thread.__init__(self)\n",
    "        self.name = name\n",
    "    \n",
    "    def run(self):\n",
    "        pass\n",
    "    \n",
    "    "
   ]
  },
  {
   "cell_type": "markdown",
   "metadata": {},
   "source": [
    "# 部署方案"
   ]
  },
  {
   "cell_type": "markdown",
   "metadata": {},
   "source": [
    "1. 修改代码,可以存储中间结果,这样随时可中断\n",
    "2. 多线程计算,只考虑按专业来分,一个专业一个线程\n",
    "3. 界面可控制整个过程,将中间结果存入文件"
   ]
  }
 ],
 "metadata": {
  "kernelspec": {
   "display_name": "Python 3",
   "language": "python",
   "name": "python3"
  },
  "language_info": {
   "codemirror_mode": {
    "name": "ipython",
    "version": 3
   },
   "file_extension": ".py",
   "mimetype": "text/x-python",
   "name": "python",
   "nbconvert_exporter": "python",
   "pygments_lexer": "ipython3",
   "version": "3.6.4"
  }
 },
 "nbformat": 4,
 "nbformat_minor": 2
}
