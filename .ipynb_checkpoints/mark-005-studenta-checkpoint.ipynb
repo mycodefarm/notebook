{
 "cells": [
  {
   "cell_type": "code",
   "execution_count": 1,
   "metadata": {},
   "outputs": [],
   "source": [
    "import jutil"
   ]
  },
  {
   "cell_type": "code",
   "execution_count": null,
   "metadata": {},
   "outputs": [],
   "source": [
    "# 查询基本信息"
   ]
  },
  {
   "cell_type": "code",
   "execution_count": 23,
   "metadata": {},
   "outputs": [
    {
     "data": {
      "text/plain": [
       "{'birthday': '1995-04-26',\n",
       " 'college_name': '信息科学与技术学院',\n",
       " 'email': '18482188554@163.com',\n",
       " 'enrollment_mark': 579.9957,\n",
       " 'family_address': '吉林省长春市二道区亚泰杏花苑',\n",
       " 'grade': '2013',\n",
       " 'graduation_school': '吉林省实验中学',\n",
       " 'individual_love': '',\n",
       " 'name': '初明',\n",
       " 'nation_name': '汉族',\n",
       " 'party': '中国共产主义青年团团员',\n",
       " 'rewards_punish': '',\n",
       " 'rid_region': '长春',\n",
       " 'school_area': '犀浦校区',\n",
       " 'sex': '女',\n",
       " 'speciality_name': '通信工程',\n",
       " 'state_type': '已毕业',\n",
       " 'student_id': '20131629',\n",
       " 'student_mobilephone': '18482188554'}"
      ]
     },
     "execution_count": 23,
     "metadata": {},
     "output_type": "execute_result"
    }
   ],
   "source": [
    "sql = \"select student_id,name,sex,grade,college_name,speciality_name,nation_name,CONVERT(VARCHAR,birthday,23) as birthday,state_type,party,family_address,student_mobilephone, \\\n",
    "    graduation_school,rewards_punish,rid_region,individual_love,email,school_area,enrollment_mark from view_student_full_info where student_id='20131629'\"\n",
    "stu = jutil.load_data(sql)[0]\n",
    "stu"
   ]
  },
  {
   "cell_type": "code",
   "execution_count": 19,
   "metadata": {},
   "outputs": [
    {
     "data": {
      "text/plain": [
       "{'avg': 83.0, 'gpa': 3.751, 'order_num': 35, 'speciality_num': 200}"
      ]
     },
     "execution_count": 19,
     "metadata": {},
     "output_type": "execute_result"
    }
   ],
   "source": [
    "# 查询成绩信息\n",
    "\n",
    "# 先暂时不自己计算绩点\n",
    "sql = \"select top 1 avg,gpa,order_num,speciality_num from exam_mark_rank_student where student_id='20131629' order by add_time desc\"\n",
    "marks = jutil.load_data(sql)[0]\n",
    "marks"
   ]
  },
  {
   "cell_type": "code",
   "execution_count": 20,
   "metadata": {},
   "outputs": [
    {
     "data": {
      "text/plain": [
       "[{'fullMark': 100, 'subject': '平均分', 'v': 83.0},\n",
       " {'fullMark': 100, 'subject': '绩点', 'v': 93.77499999999999},\n",
       " {'fullMark': 100, 'subject': '排名', 'v': 82.5}]"
      ]
     },
     "execution_count": 20,
     "metadata": {},
     "output_type": "execute_result"
    }
   ],
   "source": [
    "# 构造雷达图数据\n",
    "r_mark = []\n",
    "d = dict()\n",
    "d['subject'] = '平均分'\n",
    "d['v'] = marks['avg']\n",
    "d['fullMark'] = 100\n",
    "r_mark.append(d)\n",
    "d = dict()\n",
    "d['subject'] = '绩点'\n",
    "d['v'] = marks['gpa']/4 * 100\n",
    "d['fullMark'] = 100\n",
    "r_mark.append(d)\n",
    "d = dict()\n",
    "d['subject'] = '排名'\n",
    "d['v'] = (1 - marks['order_num']/ marks['speciality_num'])*100\n",
    "d['fullMark'] = 100\n",
    "r_mark.append(d)\n",
    "r_mark"
   ]
  },
  {
   "cell_type": "code",
   "execution_count": 26,
   "metadata": {},
   "outputs": [
    {
     "data": {
      "text/html": [
       "<div>\n",
       "<style>\n",
       "    .dataframe thead tr:only-child th {\n",
       "        text-align: right;\n",
       "    }\n",
       "\n",
       "    .dataframe thead th {\n",
       "        text-align: left;\n",
       "    }\n",
       "\n",
       "    .dataframe tbody tr th {\n",
       "        vertical-align: top;\n",
       "    }\n",
       "</style>\n",
       "<table border=\"1\" class=\"dataframe\">\n",
       "  <thead>\n",
       "    <tr style=\"text-align: right;\">\n",
       "      <th></th>\n",
       "      <th>course_name</th>\n",
       "      <th>course_type</th>\n",
       "      <th>pmark</th>\n",
       "    </tr>\n",
       "  </thead>\n",
       "  <tbody>\n",
       "    <tr>\n",
       "      <th>0</th>\n",
       "      <td>通信导论</td>\n",
       "      <td>必</td>\n",
       "      <td>70.0</td>\n",
       "    </tr>\n",
       "    <tr>\n",
       "      <th>1</th>\n",
       "      <td>工科数学分析MI</td>\n",
       "      <td>必</td>\n",
       "      <td>53.0</td>\n",
       "    </tr>\n",
       "    <tr>\n",
       "      <th>3</th>\n",
       "      <td>线性代数M</td>\n",
       "      <td>必</td>\n",
       "      <td>71.0</td>\n",
       "    </tr>\n",
       "    <tr>\n",
       "      <th>4</th>\n",
       "      <td>英语综合能力MⅠ</td>\n",
       "      <td>必</td>\n",
       "      <td>76.0</td>\n",
       "    </tr>\n",
       "    <tr>\n",
       "      <th>5</th>\n",
       "      <td>计算机导论M</td>\n",
       "      <td>限</td>\n",
       "      <td>84.0</td>\n",
       "    </tr>\n",
       "  </tbody>\n",
       "</table>\n",
       "</div>"
      ],
      "text/plain": [
       "  course_name course_type  pmark\n",
       "0        通信导论           必   70.0\n",
       "1    工科数学分析MI           必   53.0\n",
       "3       线性代数M           必   71.0\n",
       "4    英语综合能力MⅠ           必   76.0\n",
       "5      计算机导论M           限   84.0"
      ]
     },
     "execution_count": 26,
     "metadata": {},
     "output_type": "execute_result"
    }
   ],
   "source": [
    "# 查成绩波动图\n",
    "sql = \"select course_name,pmark,course_type from view_stu_course_mark where student_id='20131629' order by term_order\"\n",
    "df_mark = jutil.load_pd_df(sql)\n",
    "df_mark = df_mark.drop_duplicates(subset='course_name')\n",
    "df_mark.head()"
   ]
  },
  {
   "cell_type": "code",
   "execution_count": 18,
   "metadata": {},
   "outputs": [],
   "source": [
    "cn = df_mark['course_name'].values\n",
    "pm = df_mark.pmark.values\n",
    "mark_list = [{'course':cn[i],'mark':pm[i]} for i in range(len(cn))]"
   ]
  },
  {
   "cell_type": "code",
   "execution_count": 41,
   "metadata": {},
   "outputs": [
    {
     "data": {
      "text/plain": [
       "'电路分析BⅡ, 大学物理AⅡ, 面向对象程序设计, 概率与数理统计B, 工科数学分析MI'"
      ]
     },
     "execution_count": 41,
     "metadata": {},
     "output_type": "execute_result"
    }
   ],
   "source": [
    "# 计算课程偏好\n",
    "good = \" \".join(df_mark.sort_values(by=['pmark']).head()['course_name'].values)\n",
    "\", \".join(wd.process_text(good).keys())"
   ]
  },
  {
   "cell_type": "code",
   "execution_count": 40,
   "metadata": {},
   "outputs": [
    {
     "data": {
      "text/plain": [
       "'工程实习C, 体育Ⅳ, 形势与政策4, 马克思主义基本原理, 形势与政策6'"
      ]
     },
     "execution_count": 40,
     "metadata": {},
     "output_type": "execute_result"
    }
   ],
   "source": [
    "bad = \" \".join(df_mark[df_mark['course_type']=='必'].sort_values(by=['pmark'],ascending=False).head()['course_name'].values)\n",
    "\", \".join(wd.process_text(bad).keys())"
   ]
  },
  {
   "cell_type": "code",
   "execution_count": 35,
   "metadata": {},
   "outputs": [],
   "source": [
    "text = \" \".join(df_mark[df_mark['course_type']=='选']['course_name'].values)"
   ]
  },
  {
   "cell_type": "code",
   "execution_count": 33,
   "metadata": {},
   "outputs": [],
   "source": [
    "from wordcloud import WordCloud"
   ]
  },
  {
   "cell_type": "code",
   "execution_count": 42,
   "metadata": {},
   "outputs": [
    {
     "data": {
      "text/plain": [
       "'食品, 化妆品安全与健康, 茶文化与品位生活, 心理电影赏析, 青年心理学, 现代营养与保健, 食品安全与健康'"
      ]
     },
     "execution_count": 42,
     "metadata": {},
     "output_type": "execute_result"
    }
   ],
   "source": [
    "wd = WordCloud(font_path=\"/home/jimo/workspace/Git/great-design/kill-student-server/resource/SimHei.ttf\")\n",
    "\", \".join(wd.process_text(text).keys())"
   ]
  },
  {
   "cell_type": "code",
   "execution_count": null,
   "metadata": {},
   "outputs": [],
   "source": []
  },
  {
   "cell_type": "code",
   "execution_count": null,
   "metadata": {},
   "outputs": [],
   "source": []
  },
  {
   "cell_type": "code",
   "execution_count": null,
   "metadata": {},
   "outputs": [],
   "source": []
  }
 ],
 "metadata": {
  "kernelspec": {
   "display_name": "Python 3",
   "language": "python",
   "name": "python3"
  },
  "language_info": {
   "codemirror_mode": {
    "name": "ipython",
    "version": 3
   },
   "file_extension": ".py",
   "mimetype": "text/x-python",
   "name": "python",
   "nbconvert_exporter": "python",
   "pygments_lexer": "ipython3",
   "version": "3.6.5"
  }
 },
 "nbformat": 4,
 "nbformat_minor": 2
}
