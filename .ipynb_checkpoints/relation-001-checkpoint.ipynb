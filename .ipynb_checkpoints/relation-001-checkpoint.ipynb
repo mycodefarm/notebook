{
 "cells": [
  {
   "cell_type": "code",
   "execution_count": 1,
   "metadata": {},
   "outputs": [],
   "source": [
    "import pandas as pd"
   ]
  },
  {
   "cell_type": "code",
   "execution_count": 3,
   "metadata": {},
   "outputs": [
    {
     "name": "stderr",
     "output_type": "stream",
     "text": [
      "/usr/lib/python3.6/site-packages/IPython/core/interactiveshell.py:2728: DtypeWarning: Columns (2) have mixed types. Specify dtype option on import or set low_memory=False.\n",
      "  interactivity=interactivity, compiler=compiler, result=result)\n"
     ]
    },
    {
     "data": {
      "text/html": [
       "<div>\n",
       "<style>\n",
       "    .dataframe thead tr:only-child th {\n",
       "        text-align: right;\n",
       "    }\n",
       "\n",
       "    .dataframe thead th {\n",
       "        text-align: left;\n",
       "    }\n",
       "\n",
       "    .dataframe tbody tr th {\n",
       "        vertical-align: top;\n",
       "    }\n",
       "</style>\n",
       "<table border=\"1\" class=\"dataframe\">\n",
       "  <thead>\n",
       "    <tr style=\"text-align: right;\">\n",
       "      <th></th>\n",
       "      <th>college_code</th>\n",
       "      <th>course_code</th>\n",
       "      <th>course_name</th>\n",
       "      <th>course_type</th>\n",
       "      <th>mark</th>\n",
       "      <th>pmark</th>\n",
       "      <th>speciality_code</th>\n",
       "      <th>speciality_name</th>\n",
       "      <th>student_id</th>\n",
       "      <th>term_order</th>\n",
       "    </tr>\n",
       "  </thead>\n",
       "  <tbody>\n",
       "    <tr>\n",
       "      <th>0</th>\n",
       "      <td>1</td>\n",
       "      <td>6111120</td>\n",
       "      <td>大学物理实验Ⅱ</td>\n",
       "      <td>必</td>\n",
       "      <td>5</td>\n",
       "      <td>73.0</td>\n",
       "      <td>101</td>\n",
       "      <td>土木工程</td>\n",
       "      <td>19950854</td>\n",
       "      <td>-2</td>\n",
       "    </tr>\n",
       "    <tr>\n",
       "      <th>1</th>\n",
       "      <td>1</td>\n",
       "      <td>9010110</td>\n",
       "      <td>体育Ⅰ</td>\n",
       "      <td>必</td>\n",
       "      <td>7</td>\n",
       "      <td>80.0</td>\n",
       "      <td>101</td>\n",
       "      <td>土木工程</td>\n",
       "      <td>19950854</td>\n",
       "      <td>-3</td>\n",
       "    </tr>\n",
       "    <tr>\n",
       "      <th>2</th>\n",
       "      <td>1</td>\n",
       "      <td>6111120</td>\n",
       "      <td>大学物理实验Ⅱ</td>\n",
       "      <td>必</td>\n",
       "      <td>1</td>\n",
       "      <td>61.0</td>\n",
       "      <td>101</td>\n",
       "      <td>土木工程</td>\n",
       "      <td>19960006</td>\n",
       "      <td>2</td>\n",
       "    </tr>\n",
       "    <tr>\n",
       "      <th>3</th>\n",
       "      <td>1</td>\n",
       "      <td>9010120</td>\n",
       "      <td>体育Ⅱ</td>\n",
       "      <td>必</td>\n",
       "      <td>6</td>\n",
       "      <td>76.0</td>\n",
       "      <td>101</td>\n",
       "      <td>土木工程</td>\n",
       "      <td>19960006</td>\n",
       "      <td>2</td>\n",
       "    </tr>\n",
       "    <tr>\n",
       "      <th>4</th>\n",
       "      <td>1</td>\n",
       "      <td>7035000</td>\n",
       "      <td>马克思主义哲学原理</td>\n",
       "      <td>必</td>\n",
       "      <td>8</td>\n",
       "      <td>83.0</td>\n",
       "      <td>101</td>\n",
       "      <td>土木工程</td>\n",
       "      <td>19960037</td>\n",
       "      <td>4</td>\n",
       "    </tr>\n",
       "  </tbody>\n",
       "</table>\n",
       "</div>"
      ],
      "text/plain": [
       "   college_code course_code course_name course_type  mark  pmark  \\\n",
       "0             1     6111120     大学物理实验Ⅱ           必     5   73.0   \n",
       "1             1     9010110         体育Ⅰ           必     7   80.0   \n",
       "2             1     6111120     大学物理实验Ⅱ           必     1   61.0   \n",
       "3             1     9010120         体育Ⅱ           必     6   76.0   \n",
       "4             1     7035000   马克思主义哲学原理           必     8   83.0   \n",
       "\n",
       "   speciality_code speciality_name  student_id  term_order  \n",
       "0              101            土木工程    19950854          -2  \n",
       "1              101            土木工程    19950854          -3  \n",
       "2              101            土木工程    19960006           2  \n",
       "3              101            土木工程    19960006           2  \n",
       "4              101            土木工程    19960037           4  "
      ]
     },
     "execution_count": 3,
     "metadata": {},
     "output_type": "execute_result"
    }
   ],
   "source": [
    "df = pd.read_csv('000-mark-0101.csv',usecols=range(1,11))\n",
    "df.head()"
   ]
  },
  {
   "cell_type": "code",
   "execution_count": 10,
   "metadata": {},
   "outputs": [],
   "source": [
    "data = df[~df.course_name.str.startswith('形势与政策')] # 去除行政课"
   ]
  },
  {
   "cell_type": "code",
   "execution_count": null,
   "metadata": {},
   "outputs": [],
   "source": [
    "dg = data.groupby('student_id').groups\n",
    "\n",
    "input_list = []\n",
    "for k in dg:\n",
    "    ids = dg[k]\n",
    "    items = [ data.iloc[id].get('course_code')+'_'+str(data.iloc[id].get('mark')) for id in ids]\n",
    "    items = list(set(items)) # 去重\n",
    "    input_list.append((k,items))\n",
    "len(input_list)"
   ]
  },
  {
   "cell_type": "code",
   "execution_count": null,
   "metadata": {},
   "outputs": [],
   "source": [
    "from pyspark.ml.fpm import FPGrowth\n",
    "\n",
    "ddd = spark.createDataFrame(input_list,['id','items'])\n",
    "\n",
    "fpG = FPGrowth(itemsCol=\"items\",minSupport=0.3,minConfidence=0.7)\n",
    "model = fpG.fit(ddd)"
   ]
  },
  {
   "cell_type": "code",
   "execution_count": null,
   "metadata": {},
   "outputs": [],
   "source": [
    "model.freqItemsets.show(n=10,truncate=False)"
   ]
  },
  {
   "cell_type": "code",
   "execution_count": null,
   "metadata": {},
   "outputs": [],
   "source": [
    "model.associationRules.show(truncate=False)"
   ]
  },
  {
   "cell_type": "code",
   "execution_count": null,
   "metadata": {},
   "outputs": [],
   "source": [
    "pdc = model.associationRules.toPandas()"
   ]
  }
 ],
 "metadata": {
  "kernelspec": {
   "display_name": "Python 3",
   "language": "python",
   "name": "python3"
  },
  "language_info": {
   "codemirror_mode": {
    "name": "ipython",
    "version": 3
   },
   "file_extension": ".py",
   "mimetype": "text/x-python",
   "name": "python",
   "nbconvert_exporter": "python",
   "pygments_lexer": "ipython3",
   "version": "3.6.4"
  }
 },
 "nbformat": 4,
 "nbformat_minor": 2
}
