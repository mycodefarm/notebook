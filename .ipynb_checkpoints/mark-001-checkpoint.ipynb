{
 "cells": [
  {
   "cell_type": "code",
   "execution_count": 1,
   "metadata": {},
   "outputs": [],
   "source": [
    "import jutil"
   ]
  },
  {
   "cell_type": "code",
   "execution_count": 2,
   "metadata": {},
   "outputs": [],
   "source": [
    "sql = \"select DISTINCT grade from view_stu_course_mark\"\n",
    "grade = jutil.load_data(sql)"
   ]
  },
  {
   "cell_type": "code",
   "execution_count": 3,
   "metadata": {},
   "outputs": [
    {
     "data": {
      "text/plain": [
       "[{'grade': '2010'},\n",
       " {'grade': '2011'},\n",
       " {'grade': '2012'},\n",
       " {'grade': '2013'},\n",
       " {'grade': '2014'},\n",
       " {'grade': '2015'},\n",
       " {'grade': '2016'},\n",
       " {'grade': '2017'}]"
      ]
     },
     "execution_count": 3,
     "metadata": {},
     "output_type": "execute_result"
    }
   ],
   "source": [
    "grade"
   ]
  },
  {
   "cell_type": "code",
   "execution_count": 4,
   "metadata": {},
   "outputs": [
    {
     "data": {
      "text/plain": [
       "[{'college_code': '02', 'college_name': '机械工程学院'},\n",
       " {'college_code': '04', 'college_name': '信息科学与技术学院'},\n",
       " {'college_code': '16', 'college_name': '生命科学与工程学院'},\n",
       " {'college_code': '67', 'college_name': '心理教育系'},\n",
       " {'college_code': '11', 'college_name': '力学与工程学院'},\n",
       " {'college_code': '32', 'college_name': '茅以升学院'},\n",
       " {'college_code': '01', 'college_name': '土木工程学院'},\n",
       " {'college_code': '07', 'college_name': '人文学院'},\n",
       " {'college_code': '13', 'college_name': '物理科学与技术学院'},\n",
       " {'college_code': '79', 'college_name': '峨眉校区'},\n",
       " {'college_code': '10', 'college_name': '材料科学与工程学院'},\n",
       " {'college_code': '09', 'college_name': '建筑与设计学院'},\n",
       " {'college_code': '12', 'college_name': '数学学院'},\n",
       " {'college_code': '05', 'college_name': '交通运输与物流学院'},\n",
       " {'college_code': '06', 'college_name': '经济管理学院'},\n",
       " {'college_code': '26', 'college_name': '公共管理与政法学院'},\n",
       " {'college_code': '80', 'college_name': '联合培养班'},\n",
       " {'college_code': '08', 'college_name': '外国语学院'},\n",
       " {'college_code': '29', 'college_name': '马克思主义学院'},\n",
       " {'college_code': '30', 'college_name': '国际处留学班'},\n",
       " {'college_code': '03', 'college_name': '电气工程学院'},\n",
       " {'college_code': '21', 'college_name': '地球科学与环境工程学院'},\n",
       " {'college_code': '33', 'college_name': '西南交大-利兹学院'}]"
      ]
     },
     "execution_count": 4,
     "metadata": {},
     "output_type": "execute_result"
    }
   ],
   "source": [
    "sql = \"select DISTINCT college_code,college_name from view_stu_course_mark\"\n",
    "college = jutil.load_data(sql)\n",
    "college"
   ]
  },
  {
   "cell_type": "code",
   "execution_count": 5,
   "metadata": {},
   "outputs": [
    {
     "data": {
      "text/plain": [
       "[{'speciality_code': '0412', 'speciality_name': '电子信息类（茅以升学院）'},\n",
       " {'speciality_code': '0410', 'speciality_name': '电子科学与技术(微电子技术)'},\n",
       " {'speciality_code': '8001', 'speciality_name': '联合培训定向培养'},\n",
       " {'speciality_code': '1102', 'speciality_name': '工程结构分析'},\n",
       " {'speciality_code': '0710', 'speciality_name': '绘画'},\n",
       " {'speciality_code': '03Y05', 'speciality_name': '[留学生]电气工程与自动化'},\n",
       " {'speciality_code': '25Y14', 'speciality_name': '[留学生]产品设计'},\n",
       " {'speciality_code': '0414', 'speciality_name': '轨道交通信号与控制'},\n",
       " {'speciality_code': '2515', 'speciality_name': '设计学类'},\n",
       " {'speciality_code': '1001', 'speciality_name': '材料科学与工程'},\n",
       " {'speciality_code': '1502', 'speciality_name': '计算机软件'},\n",
       " {'speciality_code': '3000', 'speciality_name': '国际处留学生班'},\n",
       " {'speciality_code': '07Y09', 'speciality_name': '[留学生]政治学与行政学'},\n",
       " {'speciality_code': '7901', 'speciality_name': '峨眉校区借读'},\n",
       " {'speciality_code': '0101', 'speciality_name': '土木工程'},\n",
       " {'speciality_code': '0215', 'speciality_name': '车辆工程'},\n",
       " {'speciality_code': '2511', 'speciality_name': '音乐表演(音乐教育)'},\n",
       " {'speciality_code': '1301', 'speciality_name': '电子信息科学与技术（光电子）'},\n",
       " {'speciality_code': '07Y08', 'speciality_name': '[留学生]汉语言文学'},\n",
       " {'speciality_code': '2606', 'speciality_name': '经济与贸易类'},\n",
       " {'speciality_code': '0315', 'speciality_name': '电子信息工程(电子测控技术)'},\n",
       " {'speciality_code': '1007', 'speciality_name': '材料科学与工程(金属材料)'},\n",
       " {'speciality_code': '2510', 'speciality_name': '艺术设计(环境艺术)'},\n",
       " {'speciality_code': '2604', 'speciality_name': '公共事业管理'},\n",
       " {'speciality_code': '0713', 'speciality_name': '传播学'},\n",
       " {'speciality_code': '0312', 'speciality_name': '电气工程及其自动化(轨道交通供电及其自动化)'},\n",
       " {'speciality_code': '10Y05', 'speciality_name': '[留学生]生物医学工程'},\n",
       " {'speciality_code': '2802', 'speciality_name': '物流管理'},\n",
       " {'speciality_code': '0714', 'speciality_name': '广告学'},\n",
       " {'speciality_code': '0109', 'speciality_name': '地质工程'},\n",
       " {'speciality_code': '28Y01', 'speciality_name': '[留学生]物流工程'},\n",
       " {'speciality_code': '1609', 'speciality_name': '制药工程(中药制药)'},\n",
       " {'speciality_code': '06Y06', 'speciality_name': '[留学生]会计学'},\n",
       " {'speciality_code': '1101', 'speciality_name': '工程力学'},\n",
       " {'speciality_code': '0905', 'speciality_name': '城乡规划'},\n",
       " {'speciality_code': '0308', 'speciality_name': '电气工程及其自动化(城轨与磁浮交通电气化)'},\n",
       " {'speciality_code': '0409', 'speciality_name': '网络工程'},\n",
       " {'speciality_code': '0313', 'speciality_name': '电气工程及其自动化(电力系统及其自动化)'},\n",
       " {'speciality_code': '1604', 'speciality_name': '制药工程'},\n",
       " {'speciality_code': '0403', 'speciality_name': '通信工程'},\n",
       " {'speciality_code': '1009', 'speciality_name': '材料类'},\n",
       " {'speciality_code': '1610', 'speciality_name': '制药工程(化学制药)'},\n",
       " {'speciality_code': '2601', 'speciality_name': '公共管理'},\n",
       " {'speciality_code': '0216', 'speciality_name': '工业工程'},\n",
       " {'speciality_code': '0704', 'speciality_name': '艺术设计(平面设计)'},\n",
       " {'speciality_code': '1006', 'speciality_name': '材料类（茅以升学院）'},\n",
       " {'speciality_code': '2514', 'speciality_name': '产品设计'},\n",
       " {'speciality_code': '3304', 'speciality_name': '计算机科学与技术(利兹)'},\n",
       " {'speciality_code': '2801', 'speciality_name': '物流工程'},\n",
       " {'speciality_code': '0311', 'speciality_name': '电气工程及其自动化(城轨交通电气化)(峨眉校区)'},\n",
       " {'speciality_code': '0113', 'speciality_name': '土木类（茅以升学院）'},\n",
       " {'speciality_code': '0310', 'speciality_name': '电气类'},\n",
       " {'speciality_code': '2102', 'speciality_name': '消防工程'},\n",
       " {'speciality_code': '05Y03', 'speciality_name': '[留学生]交通工程'},\n",
       " {'speciality_code': '2516', 'speciality_name': '汉语言文学（茅以升学院）'},\n",
       " {'speciality_code': '', 'speciality_name': None},\n",
       " {'speciality_code': '09Y06', 'speciality_name': '[留学生]风景园林'},\n",
       " {'speciality_code': '0811', 'speciality_name': '商务英语(峨眉校区)'},\n",
       " {'speciality_code': '3201', 'speciality_name': '茅以升学院专业'},\n",
       " {'speciality_code': '0614', 'speciality_name': '金融学（茅以升学院）'},\n",
       " {'speciality_code': '06Y08', 'speciality_name': '[留学生]金融学'},\n",
       " {'speciality_code': '0303', 'speciality_name': '电气工程及其自动化(电力电子与传动控制)'},\n",
       " {'speciality_code': '02Y15', 'speciality_name': '[留学生]车辆工程'},\n",
       " {'speciality_code': '2106', 'speciality_name': '测绘类'},\n",
       " {'speciality_code': '04Y02', 'speciality_name': '[留学生]计算机科学与技术'},\n",
       " {'speciality_code': '0207', 'speciality_name': '热能与动力工程'},\n",
       " {'speciality_code': '0114', 'speciality_name': '遥感科学与技术'},\n",
       " {'speciality_code': '0222', 'speciality_name': '交通设备与控制工程(峨眉校区)'},\n",
       " {'speciality_code': '1603', 'speciality_name': '中药学'},\n",
       " {'speciality_code': '0507', 'speciality_name': '交通运输类'},\n",
       " {'speciality_code': '0406', 'speciality_name': '自动化'},\n",
       " {'speciality_code': '0605', 'speciality_name': '工商管理'},\n",
       " {'speciality_code': '0219', 'speciality_name': '建筑环境与能源应用工程'},\n",
       " {'speciality_code': '0407', 'speciality_name': '信息安全'},\n",
       " {'speciality_code': '0217', 'speciality_name': '机械类（茅以升学院）'},\n",
       " {'speciality_code': '1304', 'speciality_name': '应用物理学'},\n",
       " {'speciality_code': '0505', 'speciality_name': '安全工程'},\n",
       " {'speciality_code': '0818', 'speciality_name': '英语(针灸)'},\n",
       " {'speciality_code': '2103', 'speciality_name': '地理信息科学'},\n",
       " {'speciality_code': '06Y09', 'speciality_name': '[留学生]电子商务'},\n",
       " {'speciality_code': '0415', 'speciality_name': '计算机类'},\n",
       " {'speciality_code': '06Y07', 'speciality_name': '[留学生]工程管理'},\n",
       " {'speciality_code': '0907', 'speciality_name': '建筑类'},\n",
       " {'speciality_code': '3301', 'speciality_name': '土木工程(利兹)'},\n",
       " {'speciality_code': '0112', 'speciality_name': '地理信息系统'},\n",
       " {'speciality_code': '25Y13', 'speciality_name': '[留学生]艺术设计'},\n",
       " {'speciality_code': '0705', 'speciality_name': '工业设计(造型设计)'},\n",
       " {'speciality_code': '1008', 'speciality_name': '材料科学与工程(高分子材料)'},\n",
       " {'speciality_code': '0307', 'speciality_name': '电子信息工程'},\n",
       " {'speciality_code': '0901', 'speciality_name': '建筑学'},\n",
       " {'speciality_code': '0707', 'speciality_name': '法学'},\n",
       " {'speciality_code': '0512', 'speciality_name': '交通运输（詹天佑学院）'},\n",
       " {'speciality_code': '0201', 'speciality_name': '机械设计制造及其自动化'},\n",
       " {'speciality_code': '2101', 'speciality_name': '环境工程'},\n",
       " {'speciality_code': '1005', 'speciality_name': '生物医学工程'},\n",
       " {'speciality_code': '0508', 'speciality_name': '物流管理与工程类'},\n",
       " {'speciality_code': '0807', 'speciality_name': '汉语国际教育'},\n",
       " {'speciality_code': '0108', 'speciality_name': '测绘工程'},\n",
       " {'speciality_code': '0117', 'speciality_name': '城市地下空间工程(峨眉校区)'},\n",
       " {'speciality_code': '25Y12', 'speciality_name': '[留学生]视觉传达设计'},\n",
       " {'speciality_code': '06Y05', 'speciality_name': '[留学生]工商管理'},\n",
       " {'speciality_code': '0314', 'speciality_name': '电子信息工程(计算机信息处理)'},\n",
       " {'speciality_code': '0413', 'speciality_name': '物联网工程'},\n",
       " {'speciality_code': '2105', 'speciality_name': '环境科学与工程类'},\n",
       " {'speciality_code': '0801', 'speciality_name': '英语'},\n",
       " {'speciality_code': '1204', 'speciality_name': '数学与应用数学（茅以升学院）'},\n",
       " {'speciality_code': '04Y10', 'speciality_name': '[留学生]电子科学与技术(微电子技术方向)'},\n",
       " {'speciality_code': '3303', 'speciality_name': '电子信息工程(利兹)'},\n",
       " {'speciality_code': '26Y04', 'speciality_name': '[留学生]公共事业管理'},\n",
       " {'speciality_code': '02Y01', 'speciality_name': '[留学生]机械设计制造及其自动化'},\n",
       " {'speciality_code': '1601', 'speciality_name': '生物工程'},\n",
       " {'speciality_code': '04Y08', 'speciality_name': '[留学生]软件工程'},\n",
       " {'speciality_code': '09Y01', 'speciality_name': '[留学生]建筑学'},\n",
       " {'speciality_code': '04Y06', 'speciality_name': '[留学生]自动化'},\n",
       " {'speciality_code': '0803', 'speciality_name': '德语'},\n",
       " {'speciality_code': '0220', 'speciality_name': '机械类'},\n",
       " {'speciality_code': '07Y01', 'speciality_name': '[留学生]国际经济与贸易'},\n",
       " {'speciality_code': '2201', 'speciality_name': '交通设备信息工程'},\n",
       " {'speciality_code': '1607', 'speciality_name': '生物工程(生物学)'},\n",
       " {'speciality_code': '07Y03', 'speciality_name': '[留学生]经济学'},\n",
       " {'speciality_code': '0212', 'speciality_name': '测控技术与仪器'},\n",
       " {'speciality_code': '1606', 'speciality_name': '生物工程(生物制药)'},\n",
       " {'speciality_code': '2403', 'speciality_name': '材料成型及控制工程'},\n",
       " {'speciality_code': '0503', 'speciality_name': '交通工程'},\n",
       " {'speciality_code': '0906', 'speciality_name': '风景园林'},\n",
       " {'speciality_code': '05Y01', 'speciality_name': '[留学生]交通运输'},\n",
       " {'speciality_code': '0802', 'speciality_name': '日语'},\n",
       " {'speciality_code': '0416', 'speciality_name': '网络工程(铁道信号)(峨眉校区)'},\n",
       " {'speciality_code': '6701', 'speciality_name': '应用心理学'},\n",
       " {'speciality_code': '0804', 'speciality_name': '法语'},\n",
       " {'speciality_code': '1303', 'speciality_name': '电子信息科学与技术'},\n",
       " {'speciality_code': '0603', 'speciality_name': '信息管理与信息系统'},\n",
       " {'speciality_code': '1608', 'speciality_name': '生物工程(生物信息)'},\n",
       " {'speciality_code': '0511', 'speciality_name': '交通运输(城市轨道交通)(峨眉校区)'},\n",
       " {'speciality_code': '01Y01', 'speciality_name': '[留学生]土木工程'},\n",
       " {'speciality_code': '12Y02', 'speciality_name': '[留学生]统计学'},\n",
       " {'speciality_code': '0309', 'speciality_name': '电气类（茅以升学院）'},\n",
       " {'speciality_code': '0411', 'speciality_name': '自动化(交通信息工程及控制)'},\n",
       " {'speciality_code': '0218', 'speciality_name': '能源与动力工程'},\n",
       " {'speciality_code': '0213', 'speciality_name': '建筑环境与设备工程'},\n",
       " {'speciality_code': '2901', 'speciality_name': '法学类'},\n",
       " {'speciality_code': '1305', 'speciality_name': '电子信息科学与技术（电磁场）'},\n",
       " {'speciality_code': '25Y10', 'speciality_name': '[留学生]艺术设计(环境艺术)'},\n",
       " {'speciality_code': '2512', 'speciality_name': '视觉传达设计'},\n",
       " {'speciality_code': '0712', 'speciality_name': '音乐表演(声乐)'},\n",
       " {'speciality_code': '0902', 'speciality_name': '城市规划'},\n",
       " {'speciality_code': '2104', 'speciality_name': '测绘类（茅以升学院）'},\n",
       " {'speciality_code': '0703', 'speciality_name': '经济学'},\n",
       " {'speciality_code': '08Y07', 'speciality_name': '[留学生]汉语国际教育'},\n",
       " {'speciality_code': '2605', 'speciality_name': '经济学(中外合作办学)'},\n",
       " {'speciality_code': '0805', 'speciality_name': '对外汉语'},\n",
       " {'speciality_code': '0606', 'speciality_name': '会计学'},\n",
       " {'speciality_code': '2902', 'speciality_name': '思想政治教育'},\n",
       " {'speciality_code': '0116', 'speciality_name': '铁道工程(峨眉校区)'},\n",
       " {'speciality_code': '3302', 'speciality_name': '机械设计制造及其自动化(利兹)'},\n",
       " {'speciality_code': '0613', 'speciality_name': '工商管理类'},\n",
       " {'speciality_code': '0609', 'speciality_name': '电子商务'},\n",
       " {'speciality_code': '0903', 'speciality_name': '景观建筑设计'},\n",
       " {'speciality_code': '1605', 'speciality_name': '生物工程(中外合作办学)'},\n",
       " {'speciality_code': '0408', 'speciality_name': '软件工程'},\n",
       " {'speciality_code': '0305', 'speciality_name': '电气工程及其自动化'},\n",
       " {'speciality_code': '0709', 'speciality_name': '政治学与行政学'},\n",
       " {'speciality_code': '0608', 'speciality_name': '金融学'},\n",
       " {'speciality_code': '0810', 'speciality_name': '英语(商务英语)(峨眉校区)'},\n",
       " {'speciality_code': '0806', 'speciality_name': '翻译'},\n",
       " {'speciality_code': '1203', 'speciality_name': '信息与计算科学'},\n",
       " {'speciality_code': '1201', 'speciality_name': '数学与应用数学'},\n",
       " {'speciality_code': '08Y02', 'speciality_name': '[留学生]日语'},\n",
       " {'speciality_code': '0708', 'speciality_name': '汉语言文学'},\n",
       " {'speciality_code': '0118', 'speciality_name': '道路桥梁与渡河工程(峨眉校区)'},\n",
       " {'speciality_code': '0701', 'speciality_name': '国际经济与贸易'},\n",
       " {'speciality_code': '0607', 'speciality_name': '工程管理'},\n",
       " {'speciality_code': '0506', 'speciality_name': '交通运输类（茅以升学院）'},\n",
       " {'speciality_code': '1103', 'speciality_name': '力学类（茅以升学院）'},\n",
       " {'speciality_code': '0402', 'speciality_name': '计算机科学与技术'},\n",
       " {'speciality_code': '0501', 'speciality_name': '交通运输'},\n",
       " {'speciality_code': '2513', 'speciality_name': '环境设计'},\n",
       " {'speciality_code': '08Y01', 'speciality_name': '[留学生]英语'},\n",
       " {'speciality_code': '04Y03', 'speciality_name': '[留学生]通信工程'},\n",
       " {'speciality_code': '1202', 'speciality_name': '统计学'},\n",
       " {'speciality_code': '1602', 'speciality_name': '生物信息学'}]"
      ]
     },
     "execution_count": 5,
     "metadata": {},
     "output_type": "execute_result"
    }
   ],
   "source": [
    "sql = \"select DISTINCT speciality_code,speciality_name from view_stu_course_mark\"\n",
    "speciality = jutil.load_data(sql)\n",
    "speciality"
   ]
  },
  {
   "cell_type": "code",
   "execution_count": 6,
   "metadata": {},
   "outputs": [
    {
     "data": {
      "text/plain": [
       "181"
      ]
     },
     "execution_count": 6,
     "metadata": {},
     "output_type": "execute_result"
    }
   ],
   "source": [
    "len(speciality)"
   ]
  }
 ],
 "metadata": {
  "kernelspec": {
   "display_name": "Python 3",
   "language": "python",
   "name": "python3"
  },
  "language_info": {
   "codemirror_mode": {
    "name": "ipython",
    "version": 3
   },
   "file_extension": ".py",
   "mimetype": "text/x-python",
   "name": "python",
   "nbconvert_exporter": "python",
   "pygments_lexer": "ipython3",
   "version": "3.6.4"
  }
 },
 "nbformat": 4,
 "nbformat_minor": 2
}
