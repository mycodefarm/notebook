{
 "cells": [
  {
   "cell_type": "code",
   "execution_count": 1,
   "metadata": {},
   "outputs": [],
   "source": [
    "import pandas as pd\n",
    "import jutil\n",
    "from my_fp_growth import JFPGrowth"
   ]
  },
  {
   "cell_type": "code",
   "execution_count": 2,
   "metadata": {},
   "outputs": [
    {
     "data": {
      "text/html": [
       "<div>\n",
       "<style>\n",
       "    .dataframe thead tr:only-child th {\n",
       "        text-align: right;\n",
       "    }\n",
       "\n",
       "    .dataframe thead th {\n",
       "        text-align: left;\n",
       "    }\n",
       "\n",
       "    .dataframe tbody tr th {\n",
       "        vertical-align: top;\n",
       "    }\n",
       "</style>\n",
       "<table border=\"1\" class=\"dataframe\">\n",
       "  <thead>\n",
       "    <tr style=\"text-align: right;\">\n",
       "      <th></th>\n",
       "      <th>college_code</th>\n",
       "      <th>course_code</th>\n",
       "      <th>course_name</th>\n",
       "      <th>course_type</th>\n",
       "      <th>grade</th>\n",
       "      <th>mark</th>\n",
       "      <th>pmark</th>\n",
       "      <th>speciality_code</th>\n",
       "      <th>speciality_name</th>\n",
       "      <th>student_id</th>\n",
       "      <th>term_order</th>\n",
       "    </tr>\n",
       "  </thead>\n",
       "  <tbody>\n",
       "    <tr>\n",
       "      <th>0</th>\n",
       "      <td>01</td>\n",
       "      <td>0153830</td>\n",
       "      <td>土木工程地质</td>\n",
       "      <td>必</td>\n",
       "      <td>2013</td>\n",
       "      <td>6</td>\n",
       "      <td>75.0</td>\n",
       "      <td>0101</td>\n",
       "      <td>土木工程</td>\n",
       "      <td>20130002</td>\n",
       "      <td>3</td>\n",
       "    </tr>\n",
       "    <tr>\n",
       "      <th>1</th>\n",
       "      <td>01</td>\n",
       "      <td>1111310</td>\n",
       "      <td>线性代数M</td>\n",
       "      <td>必</td>\n",
       "      <td>2013</td>\n",
       "      <td>0</td>\n",
       "      <td>38.0</td>\n",
       "      <td>0101</td>\n",
       "      <td>土木工程</td>\n",
       "      <td>20130002</td>\n",
       "      <td>2</td>\n",
       "    </tr>\n",
       "    <tr>\n",
       "      <th>2</th>\n",
       "      <td>01</td>\n",
       "      <td>1118903</td>\n",
       "      <td>大学物理实验MⅡ</td>\n",
       "      <td>必</td>\n",
       "      <td>2013</td>\n",
       "      <td>5</td>\n",
       "      <td>74.0</td>\n",
       "      <td>0101</td>\n",
       "      <td>土木工程</td>\n",
       "      <td>20130002</td>\n",
       "      <td>2</td>\n",
       "    </tr>\n",
       "    <tr>\n",
       "      <th>3</th>\n",
       "      <td>01</td>\n",
       "      <td>1571045</td>\n",
       "      <td>计算机程序设计与数据库基础M</td>\n",
       "      <td>必</td>\n",
       "      <td>2013</td>\n",
       "      <td>4</td>\n",
       "      <td>68.0</td>\n",
       "      <td>0101</td>\n",
       "      <td>土木工程</td>\n",
       "      <td>20130002</td>\n",
       "      <td>1</td>\n",
       "    </tr>\n",
       "    <tr>\n",
       "      <th>4</th>\n",
       "      <td>01</td>\n",
       "      <td>3000300</td>\n",
       "      <td>电工与电子技术基础B</td>\n",
       "      <td>必</td>\n",
       "      <td>2013</td>\n",
       "      <td>7</td>\n",
       "      <td>79.0</td>\n",
       "      <td>0101</td>\n",
       "      <td>土木工程</td>\n",
       "      <td>20130002</td>\n",
       "      <td>3</td>\n",
       "    </tr>\n",
       "  </tbody>\n",
       "</table>\n",
       "</div>"
      ],
      "text/plain": [
       "  college_code course_code     course_name course_type grade mark  pmark  \\\n",
       "0           01     0153830          土木工程地质           必  2013    6   75.0   \n",
       "1           01     1111310           线性代数M           必  2013    0   38.0   \n",
       "2           01     1118903        大学物理实验MⅡ           必  2013    5   74.0   \n",
       "3           01     1571045  计算机程序设计与数据库基础M           必  2013    4   68.0   \n",
       "4           01     3000300      电工与电子技术基础B           必  2013    7   79.0   \n",
       "\n",
       "  speciality_code speciality_name student_id  term_order  \n",
       "0            0101            土木工程   20130002           3  \n",
       "1            0101            土木工程   20130002           2  \n",
       "2            0101            土木工程   20130002           2  \n",
       "3            0101            土木工程   20130002           1  \n",
       "4            0101            土木工程   20130002           3  "
      ]
     },
     "execution_count": 2,
     "metadata": {},
     "output_type": "execute_result"
    }
   ],
   "source": [
    "df = jutil.load_pd_df(\"select * from view_stu_course_mark where course_type='必' and speciality_code='0101' and student_id like '2013%'\")\n",
    "df.head()"
   ]
  },
  {
   "cell_type": "code",
   "execution_count": 3,
   "metadata": {},
   "outputs": [
    {
     "data": {
      "text/plain": [
       "college_code       30410\n",
       "course_code        30410\n",
       "course_name        30410\n",
       "course_type        30410\n",
       "grade              30410\n",
       "mark               30410\n",
       "pmark              30410\n",
       "speciality_code    30410\n",
       "speciality_name    30410\n",
       "student_id         30410\n",
       "term_order         30410\n",
       "dtype: int64"
      ]
     },
     "execution_count": 3,
     "metadata": {},
     "output_type": "execute_result"
    }
   ],
   "source": [
    "data = df[~df.course_name.str.startswith(\"形势与政策\")]\n",
    "data = data[~data.course_name.str.startswith(\"军事技能\")]\n",
    "data = data[~data.course_name.str.startswith(\"土木工程认识实习\")]\n",
    "data.count()"
   ]
  },
  {
   "cell_type": "code",
   "execution_count": 4,
   "metadata": {},
   "outputs": [],
   "source": [
    "course_df = df.groupby('course_code')"
   ]
  },
  {
   "cell_type": "code",
   "execution_count": 5,
   "metadata": {},
   "outputs": [],
   "source": [
    "pmark_mean = course_df.agg({'pmark':'mean'})\n",
    "course_mark_mean_dict = pmark_mean.to_dict()['pmark'] # 得到课程和其平均分的dict"
   ]
  },
  {
   "cell_type": "code",
   "execution_count": 6,
   "metadata": {},
   "outputs": [
    {
     "data": {
      "text/plain": [
       "535"
      ]
     },
     "execution_count": 6,
     "metadata": {},
     "output_type": "execute_result"
    }
   ],
   "source": [
    "dg = data.groupby('student_id').groups\n",
    "\n",
    "input_list = []\n",
    "my_input = []\n",
    "out = data['college_code'].count()\n",
    "try:\n",
    "    for k in dg:\n",
    "        ids = dg[k]\n",
    "        items = []\n",
    "        for id in ids:\n",
    "            if id >= out : continue\n",
    "            course_code = data.iloc[id].get('course_code')\n",
    "            pmark = data.iloc[id].get('pmark')\n",
    "            mark = 0\n",
    "            if pmark > course_mark_mean_dict[course_code]: mark = 1\n",
    "            items.append(course_code+'_'+str(mark))\n",
    "        items = list(set(items)) # 去重\n",
    "        input_list.append((k,items))\n",
    "        my_input.append(items)\n",
    "except Exception as e:\n",
    "    print(e)\n",
    "len(input_list)"
   ]
  },
  {
   "cell_type": "code",
   "execution_count": 27,
   "metadata": {
    "scrolled": true
   },
   "outputs": [],
   "source": [
    "from pyspark.ml.fpm import FPGrowth\n",
    "\n",
    "ddd = spark.createDataFrame(input_list,['id','items'])\n",
    "\n",
    "fpG = FPGrowth(itemsCol=\"items\",minSupport=0.05,minConfidence=0.6)\n",
    "model = fpG.fit(ddd)"
   ]
  },
  {
   "cell_type": "code",
   "execution_count": 28,
   "metadata": {},
   "outputs": [
    {
     "name": "stdout",
     "output_type": "stream",
     "text": [
      "+---------------------------------+----+\n",
      "|items                            |freq|\n",
      "+---------------------------------+----+\n",
      "|[6111120_0]                      |140 |\n",
      "|[6111120_0, 0153816_0]           |50  |\n",
      "|[6111120_0, 0153816_0, 9991999_0]|32  |\n",
      "|[6111120_0, 0153816_0, 6011320_1]|27  |\n",
      "|[6111120_0, 0153816_0, 6321910_0]|27  |\n",
      "|[6111120_0, 0153816_0, 6321920_1]|27  |\n",
      "|[6111120_0, 0153816_0, 6321910_1]|37  |\n",
      "|[6111120_0, 0153570_1]           |58  |\n",
      "|[6111120_0, 0153570_1, 6111110_1]|28  |\n",
      "|[6111120_0, 0153570_1, 9991999_0]|37  |\n",
      "+---------------------------------+----+\n",
      "only showing top 10 rows\n",
      "\n"
     ]
    }
   ],
   "source": [
    "model.freqItemsets.show(n=10,truncate=False)"
   ]
  },
  {
   "cell_type": "code",
   "execution_count": 29,
   "metadata": {},
   "outputs": [],
   "source": [
    "pdc = model.associationRules.toPandas()"
   ]
  },
  {
   "cell_type": "code",
   "execution_count": 38,
   "metadata": {},
   "outputs": [
    {
     "data": {
      "text/plain": [
       "antecedent    68992\n",
       "consequent    68992\n",
       "confidence    68992\n",
       "dtype: int64"
      ]
     },
     "execution_count": 38,
     "metadata": {},
     "output_type": "execute_result"
    }
   ],
   "source": [
    "pdc.count()"
   ]
  },
  {
   "cell_type": "code",
   "execution_count": 31,
   "metadata": {},
   "outputs": [],
   "source": [
    "# 提取出课程代码和课程名称的对应\n",
    "course_arr = data.loc[:,['course_code','course_name']].values\n",
    "course_dict = {}\n",
    "for row in course_arr:\n",
    "    course_dict[row[0]] = row[1]\n",
    "len(course_dict)\n",
    "\n",
    "antecedent = pdc['antecedent']\n",
    "consequent = pdc['consequent']\n",
    "\n",
    "consequent_name = [course_dict.get(row[0][:row[0].index('_')],'unknown') for row in consequent ]\n",
    "\n",
    "antecedent_name = [[course_dict.get(code[:code.index('_')],'unknown') for code in row] for row in antecedent]\n",
    "# for row in antecedent:\n",
    "#     antecedent_name.append([course_dict.get(code[:code.index('_')],'unknown') for code in row])"
   ]
  },
  {
   "cell_type": "code",
   "execution_count": 32,
   "metadata": {},
   "outputs": [
    {
     "name": "stdout",
     "output_type": "stream",
     "text": [
      "['体育Ⅳ', '材料力学AⅠ', '高等数学Ⅱ']-->土力学B\n",
      "['体育Ⅳ', '材料力学AⅠ', '高等数学Ⅱ']-->大学物理AⅠ\n",
      "['体育Ⅳ', '材料力学AⅠ', '高等数学Ⅱ']-->课外创新实践\n",
      "['体育Ⅳ', '材料力学AⅠ', '高等数学Ⅱ']-->土木工程概论（认识实习）\n",
      "['体育Ⅳ', '材料力学AⅠ', '高等数学Ⅱ']-->理论力学AⅡ\n",
      "['体育Ⅳ', '材料力学AⅠ', '高等数学Ⅱ']-->理论力学AⅠ\n",
      "['体育Ⅳ', '材料力学AⅠ', '高等数学Ⅱ']-->大学物理AⅡ\n",
      "['军事理论', '土力学B', '大学物理AⅠ']-->结构力学AⅠ\n",
      "['计算机绘图实习', '大学物理实验Ⅰ', '理论力学AⅡ']-->高等数学Ⅱ\n",
      "['计算机绘图实习', '大学物理实验Ⅰ', '理论力学AⅡ']-->土木工程概论（认识实习）\n",
      "['土木工程地质实习', '土木工程概论（认识实习）', '理论力学AⅠ']-->理论力学AⅡ\n",
      "['工程测量实习', '大学物理AⅡ', '理论力学AⅡ', '理论力学AⅠ']-->高等数学Ⅱ\n",
      "['工程化学', '大学物理AⅠ', '理论力学AⅠ']-->课外创新实践\n",
      "['工程化学', '大学物理AⅠ', '理论力学AⅠ']-->理论力学AⅡ\n",
      "['工程化学', '大学物理AⅠ', '理论力学AⅠ']-->材料力学AⅠ\n",
      "['体育Ⅳ', '土力学B', '课外创新实践']-->理论力学AⅠ\n",
      "['体育Ⅳ', '土力学B', '课外创新实践']-->高等数学Ⅱ\n",
      "['体育Ⅳ', '土力学B', '课外创新实践']-->理论力学AⅡ\n",
      "['计算机绘图实习', '线性代数B', '材料力学AⅡ']-->理论力学AⅠ\n",
      "['英语Ⅰ', '英语Ⅳ', '土力学B']-->结构力学AⅠ\n",
      "['英语Ⅰ', '英语Ⅳ', '土力学B']-->材料力学AⅡ\n",
      "['英语Ⅰ', '英语Ⅳ', '土力学B']-->课外创新实践\n",
      "['英语Ⅰ', '英语Ⅳ', '土力学B']-->高等数学Ⅱ\n",
      "['英语Ⅰ', '英语Ⅳ', '土力学B']-->结构力学BⅡ\n",
      "['英语Ⅰ', '英语Ⅳ', '土力学B']-->土木工程概论（认识实习）\n",
      "['英语Ⅰ', '英语Ⅳ', '土力学B']-->土木工程制图III-A\n",
      "['马克思主义基本原理', '结构力学BⅡ']-->土木工程概论（认识实习）\n",
      "['体育Ⅳ', '思想道德修养与法律基础', '材料力学AⅠ']-->理论力学AⅡ\n",
      "['体育Ⅳ', '思想道德修养与法律基础', '材料力学AⅠ']-->理论力学AⅠ\n",
      "['基础工程B', '土力学B', '高等数学Ⅱ']-->课外创新实践\n",
      "['基础工程B', '土力学B', '高等数学Ⅱ']-->土木工程概论（认识实习）\n",
      "['基础工程B', '土力学B', '高等数学Ⅱ']-->理论力学AⅡ\n",
      "['基础工程B', '土力学B', '高等数学Ⅱ']-->理论力学AⅠ\n",
      "['材料力学AⅡ', '工程流体力学', '高等数学Ⅱ', '土木工程概论（认识实习）']-->课外创新实践\n",
      "['材料力学AⅡ', '工程流体力学', '高等数学Ⅱ', '土木工程概论（认识实习）']-->理论力学AⅠ\n",
      "['思想道德修养与法律基础', '土木工程制图III-A']-->土木工程概论（认识实习）\n",
      "['思想道德修养与法律基础', '土木工程制图III-A']-->理论力学AⅠ\n",
      "['计算机绘图实习', '结构力学AⅠ', '理论力学AⅠ']-->课外创新实践\n",
      "['计算机绘图实习', '结构力学AⅠ', '理论力学AⅠ']-->土木工程概论（认识实习）\n",
      "['高等数学Ⅰ', '材料力学AⅡ', '理论力学AⅠ']-->土木工程概论（认识实习）\n"
     ]
    }
   ],
   "source": [
    "for i in range(40):\n",
    "    print('%s-->%s'%(antecedent_name[i],consequent_name[i]))"
   ]
  },
  {
   "cell_type": "code",
   "execution_count": 18,
   "metadata": {},
   "outputs": [],
   "source": [
    "mfp = JFPGrowth(my_input,minSupport=0.1,minConfidence=0.6)"
   ]
  },
  {
   "cell_type": "code",
   "execution_count": 19,
   "metadata": {},
   "outputs": [],
   "source": [
    "i = mfp.getFreqItems()"
   ]
  },
  {
   "cell_type": "code",
   "execution_count": 20,
   "metadata": {},
   "outputs": [
    {
     "data": {
      "text/plain": [
       "2498"
      ]
     },
     "execution_count": 20,
     "metadata": {},
     "output_type": "execute_result"
    }
   ],
   "source": [
    "my_rules = mfp.getFinalRules()\n",
    "len(my_rules)"
   ]
  },
  {
   "cell_type": "code",
   "execution_count": 21,
   "metadata": {},
   "outputs": [
    {
     "data": {
      "text/plain": [
       "[(frozenset({'0153821_1'}), frozenset({'6321910_1'}), 0.6511627906976745),\n",
       " (frozenset({'0171040_1'}), frozenset({'9992056_0'}), 0.625),\n",
       " (frozenset({'0171040_1'}), frozenset({'6321910_1'}), 0.65625),\n",
       " (frozenset({'0153819_0'}), frozenset({'9992056_0'}), 0.6019417475728155),\n",
       " (frozenset({'0121000_0'}), frozenset({'9991999_0'}), 0.6017699115044248),\n",
       " (frozenset({'0121000_0'}), frozenset({'6321910_1'}), 0.6194690265486725),\n",
       " (frozenset({'6111120_0'}), frozenset({'6321910_1'}), 0.6029411764705882),\n",
       " (frozenset({'0121000_1', '9992056_0'}),\n",
       "  frozenset({'9991999_0'}),\n",
       "  0.6962025316455697),\n",
       " (frozenset({'0121000_1', '9991999_0'}),\n",
       "  frozenset({'9992056_0'}),\n",
       "  0.6179775280898876),\n",
       " (frozenset({'0121000_1'}), frozenset({'9991999_0'}), 0.644927536231884)]"
      ]
     },
     "execution_count": 21,
     "metadata": {},
     "output_type": "execute_result"
    }
   ],
   "source": [
    "my_rules[:10]"
   ]
  },
  {
   "cell_type": "code",
   "execution_count": null,
   "metadata": {},
   "outputs": [],
   "source": []
  }
 ],
 "metadata": {
  "kernelspec": {
   "display_name": "Python 3",
   "language": "python",
   "name": "python3"
  },
  "language_info": {
   "codemirror_mode": {
    "name": "ipython",
    "version": 3
   },
   "file_extension": ".py",
   "mimetype": "text/x-python",
   "name": "python",
   "nbconvert_exporter": "python",
   "pygments_lexer": "ipython3",
   "version": "3.6.4"
  }
 },
 "nbformat": 4,
 "nbformat_minor": 2
}
