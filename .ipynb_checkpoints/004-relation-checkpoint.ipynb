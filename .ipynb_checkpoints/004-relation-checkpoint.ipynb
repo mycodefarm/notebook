{
 "cells": [
  {
   "cell_type": "code",
   "execution_count": 1,
   "metadata": {},
   "outputs": [],
   "source": [
    "import pandas as pd\n",
    "import jutil"
   ]
  },
  {
   "cell_type": "code",
   "execution_count": 45,
   "metadata": {},
   "outputs": [
    {
     "data": {
      "text/html": [
       "<div>\n",
       "<style>\n",
       "    .dataframe thead tr:only-child th {\n",
       "        text-align: right;\n",
       "    }\n",
       "\n",
       "    .dataframe thead th {\n",
       "        text-align: left;\n",
       "    }\n",
       "\n",
       "    .dataframe tbody tr th {\n",
       "        vertical-align: top;\n",
       "    }\n",
       "</style>\n",
       "<table border=\"1\" class=\"dataframe\">\n",
       "  <thead>\n",
       "    <tr style=\"text-align: right;\">\n",
       "      <th></th>\n",
       "      <th>code1</th>\n",
       "      <th>code2</th>\n",
       "      <th>mark1</th>\n",
       "      <th>mark2</th>\n",
       "      <th>name1</th>\n",
       "      <th>name2</th>\n",
       "      <th>speciality_code</th>\n",
       "      <th>student_id</th>\n",
       "    </tr>\n",
       "  </thead>\n",
       "  <tbody>\n",
       "    <tr>\n",
       "      <th>0</th>\n",
       "      <td>6010500</td>\n",
       "      <td>7001063</td>\n",
       "      <td>87.0</td>\n",
       "      <td>94.0</td>\n",
       "      <td>线性代数B</td>\n",
       "      <td>中国近现代史纲要</td>\n",
       "      <td>0501</td>\n",
       "      <td>15435208</td>\n",
       "    </tr>\n",
       "    <tr>\n",
       "      <th>1</th>\n",
       "      <td>6010500</td>\n",
       "      <td>7001063</td>\n",
       "      <td>61.0</td>\n",
       "      <td>76.0</td>\n",
       "      <td>线性代数B</td>\n",
       "      <td>中国近现代史纲要</td>\n",
       "      <td>0215</td>\n",
       "      <td>20031155</td>\n",
       "    </tr>\n",
       "    <tr>\n",
       "      <th>2</th>\n",
       "      <td>6010500</td>\n",
       "      <td>7001063</td>\n",
       "      <td>60.0</td>\n",
       "      <td>33.0</td>\n",
       "      <td>线性代数B</td>\n",
       "      <td>中国近现代史纲要</td>\n",
       "      <td>0605</td>\n",
       "      <td>20042608</td>\n",
       "    </tr>\n",
       "    <tr>\n",
       "      <th>3</th>\n",
       "      <td>6010500</td>\n",
       "      <td>7001063</td>\n",
       "      <td>62.0</td>\n",
       "      <td>35.0</td>\n",
       "      <td>线性代数B</td>\n",
       "      <td>中国近现代史纲要</td>\n",
       "      <td>1302</td>\n",
       "      <td>20043646</td>\n",
       "    </tr>\n",
       "    <tr>\n",
       "      <th>4</th>\n",
       "      <td>6010500</td>\n",
       "      <td>7001063</td>\n",
       "      <td>79.0</td>\n",
       "      <td>65.0</td>\n",
       "      <td>线性代数B</td>\n",
       "      <td>中国近现代史纲要</td>\n",
       "      <td>0101</td>\n",
       "      <td>20050279</td>\n",
       "    </tr>\n",
       "  </tbody>\n",
       "</table>\n",
       "</div>"
      ],
      "text/plain": [
       "     code1    code2  mark1  mark2  name1     name2 speciality_code student_id\n",
       "0  6010500  7001063   87.0   94.0  线性代数B  中国近现代史纲要            0501   15435208\n",
       "1  6010500  7001063   61.0   76.0  线性代数B  中国近现代史纲要            0215   20031155\n",
       "2  6010500  7001063   60.0   33.0  线性代数B  中国近现代史纲要            0605   20042608\n",
       "3  6010500  7001063   62.0   35.0  线性代数B  中国近现代史纲要            1302   20043646\n",
       "4  6010500  7001063   79.0   65.0  线性代数B  中国近现代史纲要            0101   20050279"
      ]
     },
     "execution_count": 45,
     "metadata": {},
     "output_type": "execute_result"
    }
   ],
   "source": [
    "sql = \"select DISTINCT(m1.student_id),m1.course_code as code1,m2.course_code as code2,m1.course_name as name1,m2.course_name as name2,m1.pmark as mark1,m2.pmark as mark2, \\\n",
    "m1.speciality_code from view_stu_course_mark m1 join view_stu_course_mark m2 on m1.student_id=m2.student_id \\\n",
    "where m1.course_code='6010500' and m2.course_code='7001063'\"\n",
    "df = jutil.load_pd_df(sql)\n",
    "df.head()"
   ]
  },
  {
   "cell_type": "code",
   "execution_count": 47,
   "metadata": {},
   "outputs": [
    {
     "name": "stdout",
     "output_type": "stream",
     "text": [
      "71.02055216062853\n",
      "77.01808380619816\n"
     ]
    }
   ],
   "source": [
    "# 求每门课成绩的平均值\n",
    "# df.groupby('code1').agg({'mark1':'mean'})['mark1']\n",
    "mark_mean1 = float(df.groupby('code1').agg({'mark1':'mean'})['mark1'])\n",
    "mark_mean2 = float(df.groupby('code2').agg({'mark2':'mean'})['mark2'])\n",
    "print(mark_mean1)\n",
    "print(mark_mean2)"
   ]
  },
  {
   "cell_type": "code",
   "execution_count": 48,
   "metadata": {},
   "outputs": [
    {
     "name": "stdout",
     "output_type": "stream",
     "text": [
      "85.51027608031427\n",
      "88.50904190309907\n"
     ]
    }
   ],
   "source": [
    "# 求优秀的分数线,差就是小于平均值的分数\n",
    "good_mark1 = mark_mean1+(100-mark_mean1)/2 \n",
    "good_mark2 = mark_mean2+(100-mark_mean2)/2 \n",
    "print(good_mark1)\n",
    "print(good_mark2)"
   ]
  },
  {
   "cell_type": "code",
   "execution_count": 49,
   "metadata": {},
   "outputs": [],
   "source": [
    "# 过滤出优秀和差的学生数据集\n",
    "\n",
    "stu_goods1 = df[df.mark1>good_mark1]\n",
    "stu_goods2 = df[df.mark2>good_mark2]\n",
    "stu_all_goods = stu_goods1[stu_goods1.mark2>good_mark2]\n",
    "\n",
    "stu_bads1 = df[df.mark1<mark_mean1]\n",
    "stu_bads2 = df[df.mark2<mark_mean2]\n",
    "stu_all_bads = stu_bads1[stu_bads1.mark2<mark_mean2]\n",
    "\n",
    "temp = df[df.mark1<=good_mark1]\n",
    "stu_normal1 = temp[temp.mark2>=mark_mean1]\n",
    "temp = stu_normal1[stu_normal1.mark2>=mark_mean2]\n",
    "stu_all_normal = temp[temp.mark2<=good_mark2]"
   ]
  },
  {
   "cell_type": "code",
   "execution_count": 50,
   "metadata": {},
   "outputs": [
    {
     "data": {
      "text/plain": [
       "0.38383337465906275"
      ]
     },
     "execution_count": 50,
     "metadata": {},
     "output_type": "execute_result"
    }
   ],
   "source": [
    "goods2_cnt = stu_goods2.count()['mark1']\n",
    "all_goods_cnt = stu_all_goods.count()['mark1']\n",
    "good_prob = all_goods_cnt /goods2_cnt\n",
    "good_prob"
   ]
  },
  {
   "cell_type": "code",
   "execution_count": 51,
   "metadata": {},
   "outputs": [
    {
     "data": {
      "text/plain": [
       "0.55856209792270295"
      ]
     },
     "execution_count": 51,
     "metadata": {},
     "output_type": "execute_result"
    }
   ],
   "source": [
    "bads2_cnt = stu_bads2.count()['mark2']\n",
    "all_bads_cnt = stu_all_bads.count()['mark2']\n",
    "bad_prob = all_bads_cnt/bads2_cnt\n",
    "bad_prob"
   ]
  },
  {
   "cell_type": "code",
   "execution_count": 52,
   "metadata": {},
   "outputs": [
    {
     "data": {
      "text/plain": [
       "0.71643950709484694"
      ]
     },
     "execution_count": 52,
     "metadata": {},
     "output_type": "execute_result"
    }
   ],
   "source": [
    "# 正常中的比例\n",
    "all_cnt = df.count()['student_id']\n",
    "normal2_cnt =  all_cnt - goods2_cnt - bads2_cnt\n",
    "all_normal_cnt = stu_all_normal.count()['mark2']\n",
    "normal_prob = all_normal_cnt/normal2_cnt\n",
    "normal_prob"
   ]
  },
  {
   "cell_type": "code",
   "execution_count": 53,
   "metadata": {},
   "outputs": [
    {
     "name": "stdout",
     "output_type": "stream",
     "text": [
      "45820\n",
      "4033\n",
      "1548\n",
      "20363\n",
      "11374\n",
      "21424\n",
      "15349\n"
     ]
    }
   ],
   "source": [
    "print(all_cnt)\n",
    "print(goods2_cnt)\n",
    "print(all_goods_cnt)\n",
    "print(bads2_cnt)\n",
    "print(all_bads_cnt)\n",
    "print(normal2_cnt)\n",
    "print(all_normal_cnt)"
   ]
  },
  {
   "cell_type": "code",
   "execution_count": 55,
   "metadata": {},
   "outputs": [
    {
     "data": {
      "text/plain": [
       "0.52967699622888997"
      ]
     },
     "execution_count": 55,
     "metadata": {},
     "output_type": "execute_result"
    }
   ],
   "source": [
    "# 最后按照比例分配权重\n",
    "cnt = goods2_cnt + bads2_cnt\n",
    "w_good = goods2_cnt / cnt\n",
    "w_bad = bads2_cnt / cnt\n",
    "# w_normal = normal2_cnt / all_cnt\n",
    "final_prob = w_good*good_prob+w_bad*bad_prob #+w_normal*normal_prob\n",
    "final_prob"
   ]
  },
  {
   "cell_type": "code",
   "execution_count": 41,
   "metadata": {},
   "outputs": [
    {
     "data": {
      "text/plain": [
       "2985"
      ]
     },
     "execution_count": 41,
     "metadata": {},
     "output_type": "execute_result"
    }
   ],
   "source": [
    "int(all_cnt)"
   ]
  }
 ],
 "metadata": {
  "kernelspec": {
   "display_name": "Python 3",
   "language": "python",
   "name": "python3"
  },
  "language_info": {
   "codemirror_mode": {
    "name": "ipython",
    "version": 3
   },
   "file_extension": ".py",
   "mimetype": "text/x-python",
   "name": "python",
   "nbconvert_exporter": "python",
   "pygments_lexer": "ipython3",
   "version": "3.6.4"
  }
 },
 "nbformat": 4,
 "nbformat_minor": 2
}
