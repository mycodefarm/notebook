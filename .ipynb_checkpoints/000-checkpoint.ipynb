{
 "cells": [
  {
   "cell_type": "markdown",
   "metadata": {},
   "source": [
    "# 学生画像 vs 用户画像\n",
    "....\n",
    "### 用户画像\n",
    "[用户画像](https://en.wikipedia.org/wiki/User_profile)\n",
    "\n",
    "![1](./img/001.jpeg),![2](./img/002.jpeg),![3](./img/003.jpeg)\n",
    "\n",
    "\n",
    "### 什么是学生画像\n",
    "用户画像 \n",
    "    - 学校用户画像\n",
    "        - 学生用户画像\n",
    "分类:\n",
    "1. 学生个体画像\n",
    "    1. 静态数据: 姓名,性别,年龄,专业,班级,名族,国籍,帮派等\n",
    "    2. 动态数据: 成绩,出入记录,刷卡记录,借书记录等\n",
    "2. 学生群体画像\n",
    "    1. 群体如何划分: 按班级,专业,学院还是选课,性别或其他属性\n",
    "    2. 群体有哪些属性: 人数,男女比例,地区分布,课程,实践,就业等\n",
    "    \n",
    "### 为什么要做学生画像\n",
    "1. 能给学生带来什么: 自我了解 还是自我放弃 ?\n",
    "2. 能给老师带来什么: 更好的教学 ?\n",
    "3. 能给教育工作者,学校或相关利益者带来什么: 优化培养计划,优化课程结构 ?\n",
    "\n",
    "需求---业务\n",
    "\n",
    "### 怎么去做\n",
    "......"
   ]
  },
  {
   "cell_type": "markdown",
   "metadata": {},
   "source": [
    "# 背景研究\n",
    "推荐业务\n",
    "\n",
    "[学生画像-寻道科技](http://www.xdbigdata.com/public/template/studentDetail.html), [详细功能](http://www.cdyouedata.com/application/details/show.do?id=266f12be-780a-4bd9-8ec6-f95fbe0de189)\n",
    "\n",
    "[教育数据挖掘](https://link.springer.com/article/10.1007/s10639-017-9616-z)\n",
    "\n",
    "![0](./img/000.gif)"
   ]
  },
  {
   "cell_type": "markdown",
   "metadata": {},
   "source": [
    "# 实现\n",
    "\n",
    "![4](./img/004.png)\n",
    "\n",
    "### 分析建模\n",
    "0. 数据清洗: sql, [python-pandas](https://pandas.pydata.org/pandas-docs/stable/index.html) \n",
    "1. [相关性分析](http://bluewhale.cc/2016-06-30/analysis-of-correlation.html)\n",
    "2. [常用数据分析方法](https://www.jianshu.com/p/3a5d4d06f06b)\n",
    "3. 关于机器学习算法,可参考[sklearn](http://scikit-learn.org/stable/index.html)\n",
    "4. 关于大数据\n",
    "\n",
    "**难点: 数据清洗和特征提取**\n",
    "\n",
    "### 可视化\n",
    "1. 一般图形展示: 参考[echarts demo](http://echarts.baidu.com/examples/)\n",
    "2. 文本可视化: 词云,参考[python-word_cloud](https://github.com/amueller/word_cloud)"
   ]
  },
  {
   "cell_type": "markdown",
   "metadata": {},
   "source": [
    "# 示例\n",
    "\n",
    "0. [简单的统计---登录与排名统计](http://localhost:8888/notebooks/log-cnt-rank.ipynb)\n",
    "1. [词云可视化例子-学生评价](http://localhost:8888/notebooks/xxx-student-wordcloud.ipynb),[对老师的评价](http://localhost:8888/notebooks/xxx-teacher-wordcloud.ipynb)\n"
   ]
  },
  {
   "cell_type": "markdown",
   "metadata": {},
   "source": [
    "# 参考资料\n",
    "\n",
    "[浅谈用户画像](https://zhuanlan.zhihu.com/p/27126412)\n",
    "[用户画像](https://ask.hellobi.com/blog/qinlu/9090)\n"
   ]
  }
 ],
 "metadata": {
  "kernelspec": {
   "display_name": "Python 3",
   "language": "python",
   "name": "python3"
  },
  "language_info": {
   "codemirror_mode": {
    "name": "ipython",
    "version": 3
   },
   "file_extension": ".py",
   "mimetype": "text/x-python",
   "name": "python",
   "nbconvert_exporter": "python",
   "pygments_lexer": "ipython3",
   "version": "3.6.5"
  }
 },
 "nbformat": 4,
 "nbformat_minor": 2
}
