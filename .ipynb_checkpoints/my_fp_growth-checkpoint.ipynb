{
 "cells": [
  {
   "cell_type": "code",
   "execution_count": 1,
   "metadata": {},
   "outputs": [],
   "source": [
    "class TreeNode:\n",
    "    '''定义FP树'''\n",
    "    def __init__(self,nameValue,numOccur,parentNode):\n",
    "        self.name = nameValue\n",
    "        self.count = numOccur\n",
    "        self.nodeLink = None\n",
    "        self.parent = parentNode\n",
    "        self.children = {}\n",
    "    \n",
    "    def inc(self,numOccur):\n",
    "        self.count += numOccur\n",
    "    \n",
    "    def disp(self,ind=1):\n",
    "        print('  '*ind,self.name,' ',self.count)\n",
    "        for child in self.children.values():\n",
    "            child.disp(ind+1)"
   ]
  },
  {
   "cell_type": "code",
   "execution_count": 2,
   "metadata": {},
   "outputs": [
    {
     "name": "stdout",
     "output_type": "stream",
     "text": [
      "   root   9\n",
      "     eye   13\n"
     ]
    }
   ],
   "source": [
    "# 测试\n",
    "rootNode = TreeNode('root',9,None)\n",
    "rootNode.children['eye'] = TreeNode('eye',13,None)\n",
    "rootNode.disp()"
   ]
  },
  {
   "cell_type": "code",
   "execution_count": 10,
   "metadata": {},
   "outputs": [],
   "source": [
    "# 构建FP树\n",
    "def createTree(dataSet,minSup=1):\n",
    "    headerTable = {}\n",
    "    for trans in dataSet:\n",
    "        for item in trans:\n",
    "            headerTable[item] = headerTable.get(item,0) + dataSet[trans]\n",
    "    # 去除不满足最小支持度的项\n",
    "    for k in list(headerTable.keys()):\n",
    "        if headerTable[k] < minSup:\n",
    "            del(headerTable[k])\n",
    "    freqItemSet = set(headerTable.keys())\n",
    "    if len(freqItemSet) == 0: return None,None\n",
    "    for k in headerTable:\n",
    "        headerTable[k] = [headerTable[k],None]\n",
    "    retTree = TreeNode('Null Set',1,None)\n",
    "    for tranSet,count in dataSet.items():\n",
    "        localD = {}\n",
    "        for item in tranSet:\n",
    "            if item in freqItemSet:\n",
    "                localD[item] = headerTable[item][0]\n",
    "        if len(localD) > 0:\n",
    "            # 按频率降序排列\n",
    "            orderedItems = [v[0] for v in sorted(localD.items(),key=lambda p: p[1],reverse=True)]\n",
    "            updateTree(orderedItems,retTree,headerTable,count)\n",
    "    return retTree,headerTable"
   ]
  },
  {
   "cell_type": "code",
   "execution_count": 12,
   "metadata": {},
   "outputs": [],
   "source": [
    "def updateTree(items,inTree,headerTable,count):\n",
    "    if items[0] in inTree.children:\n",
    "        inTree.children[items[0]].inc(count)\n",
    "    else:\n",
    "        inTree.children[items[0]] = TreeNode(items[0],count,inTree)\n",
    "        if headerTable[items[0]][1]==None:\n",
    "            headerTable[items[0]][1] = inTree.children[items[0]]\n",
    "        else:\n",
    "            updateHeader(headerTable[items[0]][1],inTree.children[items[0]])\n",
    "    if len(items)>1:\n",
    "        updateTree(items[1::],inTree.children[items[0]],headerTable,count)"
   ]
  },
  {
   "cell_type": "code",
   "execution_count": 5,
   "metadata": {},
   "outputs": [],
   "source": [
    "def updateHeader(nodeToTest,targetNode):\n",
    "    while nodeToTest.nodeLink != None:\n",
    "        nodeToTest = nodeToTest.nodeLink\n",
    "    nodeToTest.nodeLink = targetNode"
   ]
  },
  {
   "cell_type": "code",
   "execution_count": 6,
   "metadata": {},
   "outputs": [],
   "source": [
    "def createInitSet(dataSet):\n",
    "    retDict = {}\n",
    "    for trans in dataSet:\n",
    "        retDict[frozenset(trans)] = 1\n",
    "    return retDict"
   ]
  },
  {
   "cell_type": "code",
   "execution_count": 7,
   "metadata": {},
   "outputs": [],
   "source": [
    "def loadDataSet():\n",
    "    ds = [\n",
    "        ['r','z','h','j','p'],\n",
    "        ['z','y','x','w','v','u','t','s'],\n",
    "        ['z'],\n",
    "        ['r','x','n','o','s'],\n",
    "        ['y','r','x','z','q','t','p'],\n",
    "        ['y','z','x','e','q','s','t','m']\n",
    "    ]\n",
    "    return ds"
   ]
  },
  {
   "cell_type": "code",
   "execution_count": 15,
   "metadata": {},
   "outputs": [
    {
     "data": {
      "text/plain": [
       "{frozenset({'z'}): 1,\n",
       " frozenset({'h', 'j', 'p', 'r', 'z'}): 1,\n",
       " frozenset({'s', 't', 'u', 'v', 'w', 'x', 'y', 'z'}): 1,\n",
       " frozenset({'n', 'o', 'r', 's', 'x'}): 1,\n",
       " frozenset({'p', 'q', 'r', 't', 'x', 'y', 'z'}): 1,\n",
       " frozenset({'e', 'm', 'q', 's', 't', 'x', 'y', 'z'}): 1}"
      ]
     },
     "execution_count": 15,
     "metadata": {},
     "output_type": "execute_result"
    }
   ],
   "source": [
    "# 测试\n",
    "ds = loadDataSet()\n",
    "dataSet = createInitSet(ds)\n",
    "dataSet"
   ]
  },
  {
   "cell_type": "code",
   "execution_count": 16,
   "metadata": {},
   "outputs": [
    {
     "name": "stdout",
     "output_type": "stream",
     "text": [
      "   Null Set   1\n",
      "     z   5\n",
      "       r   1\n",
      "       x   3\n",
      "         t   2\n",
      "           s   2\n",
      "             y   2\n",
      "         r   1\n",
      "           t   1\n",
      "             y   1\n",
      "     x   1\n",
      "       r   1\n",
      "         s   1\n"
     ]
    }
   ],
   "source": [
    "myFPTree,myHeaderTab = createTree(dataSet,3)\n",
    "myFPTree.disp()"
   ]
  },
  {
   "cell_type": "code",
   "execution_count": 17,
   "metadata": {},
   "outputs": [],
   "source": [
    "# 寻找条件模式基\n",
    "def ascendTree(leafNode,prefixPath):\n",
    "    if leafNode.parent != None:\n",
    "        prefixPath.append(leafNode.name)\n",
    "        ascendTree(leafNode.parent,prefixPath)\n",
    "\n",
    "def findPrefixPath(basePat,treeNode):\n",
    "    condPats = {}\n",
    "    while treeNode != None:\n",
    "        prefixPath = []\n",
    "        ascendTree(treeNode,prefixPath)\n",
    "        if len(prefixPath) > 1:\n",
    "            condPats[frozenset(prefixPath[1:])] = treeNode.count\n",
    "        treeNode = treeNode.nodeLink\n",
    "    return condPats"
   ]
  },
  {
   "cell_type": "code",
   "execution_count": 18,
   "metadata": {},
   "outputs": [
    {
     "data": {
      "text/plain": [
       "{frozenset({'z'}): 1, frozenset({'x'}): 1, frozenset({'x', 'z'}): 1}"
      ]
     },
     "execution_count": 18,
     "metadata": {},
     "output_type": "execute_result"
    }
   ],
   "source": [
    "condPats = findPrefixPath('r',myHeaderTab['r'][1])\n",
    "condPats"
   ]
  },
  {
   "cell_type": "code",
   "execution_count": 34,
   "metadata": {},
   "outputs": [],
   "source": [
    "# 创建条件FP树\n",
    "def mineTree(inTree,headerTable,minSup,preFix,freqItemSet):\n",
    "    bigL = [v[0] for v in sorted(headerTable.items(),key=lambda p:p[1][0])]\n",
    "    for basePat in bigL:\n",
    "        newFreqSet = preFix.copy()\n",
    "        newFreqSet.add(basePat)\n",
    "        support = headerTable[basePat][0]\n",
    "        freqItemSet[frozenset(newFreqSet)] = support\n",
    "        condPattBases = findPrefixPath(basePat,headerTable[basePat][1])\n",
    "        myCondTree , myHead = createTree(condPattBases,minSup)\n",
    "        \n",
    "        if myHead != None:\n",
    "            # debug\n",
    "            print('条件树:',newFreqSet)\n",
    "            myCondTree.disp(1)\n",
    "            mineTree(myCondTree,myHead,minSup,newFreqSet,freqItemSet)"
   ]
  },
  {
   "cell_type": "code",
   "execution_count": 35,
   "metadata": {},
   "outputs": [
    {
     "name": "stdout",
     "output_type": "stream",
     "text": [
      "条件树: {'t'}\n",
      "   Null Set   1\n",
      "     z   3\n",
      "       x   3\n",
      "条件树: {'t', 'x'}\n",
      "   Null Set   1\n",
      "     z   3\n",
      "条件树: {'s'}\n",
      "   Null Set   1\n",
      "     x   3\n",
      "条件树: {'y'}\n",
      "   Null Set   1\n",
      "     z   3\n",
      "       t   3\n",
      "         x   3\n",
      "条件树: {'y', 't'}\n",
      "   Null Set   1\n",
      "     z   3\n",
      "条件树: {'y', 'x'}\n",
      "   Null Set   1\n",
      "     z   3\n",
      "       t   3\n",
      "条件树: {'y', 't', 'x'}\n",
      "   Null Set   1\n",
      "     z   3\n",
      "条件树: {'x'}\n",
      "   Null Set   1\n",
      "     z   3\n"
     ]
    }
   ],
   "source": [
    "freqItems = {}\n",
    "mineTree(myFPTree,myHeaderTab,3,set([]),freqItems)"
   ]
  },
  {
   "cell_type": "code",
   "execution_count": 36,
   "metadata": {},
   "outputs": [
    {
     "data": {
      "text/plain": [
       "{frozenset({'r'}): 3,\n",
       " frozenset({'t'}): 3,\n",
       " frozenset({'z'}): 5,\n",
       " frozenset({'t', 'z'}): 3,\n",
       " frozenset({'t', 'x'}): 3,\n",
       " frozenset({'t', 'x', 'z'}): 3,\n",
       " frozenset({'s'}): 3,\n",
       " frozenset({'s', 'x'}): 3,\n",
       " frozenset({'y'}): 3,\n",
       " frozenset({'y', 'z'}): 3,\n",
       " frozenset({'t', 'y'}): 3,\n",
       " frozenset({'t', 'y', 'z'}): 3,\n",
       " frozenset({'x'}): 4,\n",
       " frozenset({'x', 'y'}): 3,\n",
       " frozenset({'x', 'y', 'z'}): 3,\n",
       " frozenset({'t', 'x', 'y'}): 3,\n",
       " frozenset({'x', 'z'}): 3,\n",
       " frozenset({'t', 'x', 'y', 'z'}): 3}"
      ]
     },
     "execution_count": 36,
     "metadata": {},
     "output_type": "execute_result"
    }
   ],
   "source": [
    "freqItems"
   ]
  },
  {
   "cell_type": "code",
   "execution_count": 37,
   "metadata": {},
   "outputs": [],
   "source": [
    "# 挖掘关联规则\n",
    "\n",
    "def ruleGenerator(freqItems,minConf,rules):\n",
    "    for freqItemSet in freqItems:\n",
    "        if len(freqItemSet)>1:\n",
    "            getRules(freqItemSet,freqItemSet,rules,freqItems,minConf)\n",
    "\n",
    "def removeStr(set, str):\n",
    "    tempSet = []\n",
    "    for elem in set:\n",
    "        if(elem != str):\n",
    "            tempSet.append(elem)\n",
    "    tempFrozenSet = frozenset(tempSet)\n",
    "    return tempFrozenSet\n",
    "\n",
    "def getRules(freqItemSet,currSet,rules,freqItems,minConf):\n",
    "    for freqElem in currSet:\n",
    "        subSet = removeStr(currSet,freqElem)\n",
    "        confidence = freqItems[freqItemSet] / freqItems[subSet]\n",
    "        if confidence >= minConf:\n",
    "            flag = False\n",
    "            for rule in rules:\n",
    "                if rule[0]==subSet and rule[1]==freqItemSet-subSet:\n",
    "                    flag = True\n",
    "            if flag == False:\n",
    "                rules.append((subSet,freqItemSet-subSet,confidence))\n",
    "            if len(subSet)>=2:\n",
    "                getRules(freqItemSet,subSet,rules,freqItems,minConf)"
   ]
  },
  {
   "cell_type": "code",
   "execution_count": 39,
   "metadata": {},
   "outputs": [
    {
     "data": {
      "text/plain": [
       "[(frozenset({'t'}), frozenset({'z'}), 1.0),\n",
       " (frozenset({'z'}), frozenset({'t'}), 0.6),\n",
       " (frozenset({'x'}), frozenset({'t'}), 0.75),\n",
       " (frozenset({'t'}), frozenset({'x'}), 1.0),\n",
       " (frozenset({'t', 'x'}), frozenset({'z'}), 1.0),\n",
       " (frozenset({'x'}), frozenset({'t', 'z'}), 0.75),\n",
       " (frozenset({'t'}), frozenset({'x', 'z'}), 1.0),\n",
       " (frozenset({'x', 'z'}), frozenset({'t'}), 1.0),\n",
       " (frozenset({'z'}), frozenset({'t', 'x'}), 0.6),\n",
       " (frozenset({'t', 'z'}), frozenset({'x'}), 1.0),\n",
       " (frozenset({'x'}), frozenset({'s'}), 0.75),\n",
       " (frozenset({'s'}), frozenset({'x'}), 1.0),\n",
       " (frozenset({'z'}), frozenset({'y'}), 0.6),\n",
       " (frozenset({'y'}), frozenset({'z'}), 1.0),\n",
       " (frozenset({'t'}), frozenset({'y'}), 1.0),\n",
       " (frozenset({'y'}), frozenset({'t'}), 1.0),\n",
       " (frozenset({'t', 'z'}), frozenset({'y'}), 1.0),\n",
       " (frozenset({'t'}), frozenset({'y', 'z'}), 1.0),\n",
       " (frozenset({'z'}), frozenset({'t', 'y'}), 0.6),\n",
       " (frozenset({'t', 'y'}), frozenset({'z'}), 1.0),\n",
       " (frozenset({'y'}), frozenset({'t', 'z'}), 1.0),\n",
       " (frozenset({'y', 'z'}), frozenset({'t'}), 1.0),\n",
       " (frozenset({'x'}), frozenset({'y'}), 0.75),\n",
       " (frozenset({'y'}), frozenset({'x'}), 1.0),\n",
       " (frozenset({'x', 'z'}), frozenset({'y'}), 1.0),\n",
       " (frozenset({'x'}), frozenset({'y', 'z'}), 0.75),\n",
       " (frozenset({'z'}), frozenset({'x', 'y'}), 0.6),\n",
       " (frozenset({'x', 'y'}), frozenset({'z'}), 1.0),\n",
       " (frozenset({'y'}), frozenset({'x', 'z'}), 1.0),\n",
       " (frozenset({'y', 'z'}), frozenset({'x'}), 1.0),\n",
       " (frozenset({'t', 'x'}), frozenset({'y'}), 1.0),\n",
       " (frozenset({'x'}), frozenset({'t', 'y'}), 0.75),\n",
       " (frozenset({'t'}), frozenset({'x', 'y'}), 1.0),\n",
       " (frozenset({'x', 'y'}), frozenset({'t'}), 1.0),\n",
       " (frozenset({'y'}), frozenset({'t', 'x'}), 1.0),\n",
       " (frozenset({'t', 'y'}), frozenset({'x'}), 1.0),\n",
       " (frozenset({'t', 'x', 'z'}), frozenset({'y'}), 1.0),\n",
       " (frozenset({'t', 'x'}), frozenset({'y', 'z'}), 1.0),\n",
       " (frozenset({'x'}), frozenset({'t', 'y', 'z'}), 0.75),\n",
       " (frozenset({'t'}), frozenset({'x', 'y', 'z'}), 1.0),\n",
       " (frozenset({'x', 'z'}), frozenset({'t', 'y'}), 1.0),\n",
       " (frozenset({'z'}), frozenset({'t', 'x', 'y'}), 0.6),\n",
       " (frozenset({'t', 'z'}), frozenset({'x', 'y'}), 1.0),\n",
       " (frozenset({'t', 'x', 'y'}), frozenset({'z'}), 1.0),\n",
       " (frozenset({'x', 'y'}), frozenset({'t', 'z'}), 1.0),\n",
       " (frozenset({'y'}), frozenset({'t', 'x', 'z'}), 1.0),\n",
       " (frozenset({'t', 'y'}), frozenset({'x', 'z'}), 1.0),\n",
       " (frozenset({'x', 'y', 'z'}), frozenset({'t'}), 1.0),\n",
       " (frozenset({'y', 'z'}), frozenset({'t', 'x'}), 1.0),\n",
       " (frozenset({'t', 'y', 'z'}), frozenset({'x'}), 1.0),\n",
       " (frozenset({'x'}), frozenset({'z'}), 0.75),\n",
       " (frozenset({'z'}), frozenset({'x'}), 0.6)]"
      ]
     },
     "execution_count": 39,
     "metadata": {},
     "output_type": "execute_result"
    }
   ],
   "source": [
    "rules = []\n",
    "ruleGenerator(freqItems,0.6,rules)\n",
    "rules"
   ]
  }
 ],
 "metadata": {
  "kernelspec": {
   "display_name": "Python 3",
   "language": "python",
   "name": "python3"
  },
  "language_info": {
   "codemirror_mode": {
    "name": "ipython",
    "version": 3
   },
   "file_extension": ".py",
   "mimetype": "text/x-python",
   "name": "python",
   "nbconvert_exporter": "python",
   "pygments_lexer": "ipython3",
   "version": "3.6.4"
  }
 },
 "nbformat": 4,
 "nbformat_minor": 2
}
