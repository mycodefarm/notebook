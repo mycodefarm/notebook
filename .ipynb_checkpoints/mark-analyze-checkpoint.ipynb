{
 "cells": [
  {
   "cell_type": "code",
   "execution_count": 1,
   "metadata": {},
   "outputs": [],
   "source": [
    "dbUrl = \"jdbc:sqlserver://114.55.148.101:1433;databaseName=jiaowu\"\n",
    "df = spark.read.jdbc(dbUrl,\"view_stu_course_mark\",properties={\"user\":\"wangpeng\",\"password\":\"wangpeng2018!*swjtudean\"})"
   ]
  },
  {
   "cell_type": "code",
   "execution_count": 2,
   "metadata": {},
   "outputs": [
    {
     "data": {
      "text/plain": [
       "StructType(List(StructField(student_id,StringType,true),StructField(course_code,StringType,true),StructField(course_name,StringType,true),StructField(speciality_code,StringType,true),StructField(mark,StringType,true),StructField(pmark,DoubleType,true)))"
      ]
     },
     "execution_count": 2,
     "metadata": {},
     "output_type": "execute_result"
    }
   ],
   "source": [
    "df.schema"
   ]
  },
  {
   "cell_type": "code",
   "execution_count": 3,
   "metadata": {},
   "outputs": [],
   "source": [
    "df.createOrReplaceTempView(\"mark\")"
   ]
  },
  {
   "cell_type": "code",
   "execution_count": 4,
   "metadata": {},
   "outputs": [],
   "source": [
    "data = spark.sql(\"select  * from mark where course_code='3223700' and speciality_code='0408' and student_id like '2014%'\")"
   ]
  },
  {
   "cell_type": "code",
   "execution_count": 5,
   "metadata": {},
   "outputs": [
    {
     "data": {
      "text/plain": [
       "DataFrame[student_id: string, course_code: string, course_name: string, speciality_code: string, mark: string, pmark: double]"
      ]
     },
     "execution_count": 5,
     "metadata": {},
     "output_type": "execute_result"
    }
   ],
   "source": [
    "data.cache()"
   ]
  },
  {
   "cell_type": "code",
   "execution_count": 6,
   "metadata": {},
   "outputs": [
    {
     "name": "stdout",
     "output_type": "stream",
     "text": [
      "+----------+-----------+-----------+---------------+----+-----+\n",
      "|student_id|course_code|course_name|speciality_code|mark|pmark|\n",
      "+----------+-----------+-----------+---------------+----+-----+\n",
      "|2014112107|    3223700|      计算机网络|           0408|   5| 73.0|\n",
      "|2014112108|    3223700|      计算机网络|           0408|  10| 94.0|\n",
      "|2014112109|    3223700|      计算机网络|           0408|  10| 94.0|\n",
      "|2014112110|    3223700|      计算机网络|           0408|   7| 80.0|\n",
      "|2014112112|    3223700|      计算机网络|           0408|   5| 74.0|\n",
      "+----------+-----------+-----------+---------------+----+-----+\n",
      "only showing top 5 rows\n",
      "\n"
     ]
    }
   ],
   "source": [
    "data.show(5)"
   ]
  },
  {
   "cell_type": "code",
   "execution_count": 7,
   "metadata": {},
   "outputs": [],
   "source": [
    "from pyspark.sql.functions import *"
   ]
  },
  {
   "cell_type": "code",
   "execution_count": 12,
   "metadata": {},
   "outputs": [],
   "source": [
    "down = data.sort(desc(\"pmark\"))"
   ]
  },
  {
   "cell_type": "code",
   "execution_count": 18,
   "metadata": {},
   "outputs": [],
   "source": [
    "marks = down.select('pmark')"
   ]
  },
  {
   "cell_type": "code",
   "execution_count": 19,
   "metadata": {},
   "outputs": [],
   "source": [
    "ml = marks.collect()"
   ]
  },
  {
   "cell_type": "code",
   "execution_count": 20,
   "metadata": {},
   "outputs": [
    {
     "name": "stdout",
     "output_type": "stream",
     "text": [
      "[94, 94, 94, 93, 92, 91, 90, 89, 89, 89, 88, 87, 87, 85, 85, 83, 82, 82, 82, 82, 81, 81, 81, 81, 80, 80, 80, 79, 79, 79, 79, 78, 78, 78, 77, 77, 77, 77, 76, 76, 76, 76, 76, 76, 76, 76, 75, 75, 75, 75, 75, 75, 74, 74, 74, 74, 73, 73, 73, 73, 73, 73, 73, 72, 72, 72, 72, 71, 71, 71, 71, 71, 70, 70, 70, 70, 69, 69, 69, 68, 68, 68, 68, 68, 67, 67, 67, 67, 67, 66, 66, 66, 65, 64, 64, 64, 63, 63, 62, 62, 61, 61, 61, 61, 61, 60, 60, 60, 60, 55, 53, 53, 52, 31, 2]\n"
     ]
    }
   ],
   "source": [
    "y = [int(row['pmark']) for row in ml]\n",
    "print(y)"
   ]
  },
  {
   "cell_type": "code",
   "execution_count": 16,
   "metadata": {},
   "outputs": [],
   "source": [
    "import matplotlib.pyplot as plt"
   ]
  },
  {
   "cell_type": "code",
   "execution_count": 25,
   "metadata": {},
   "outputs": [
    {
     "data": {
      "image/png": "[encoded data removed]",
      "text/plain": [
       "<matplotlib.figure.Figure at 0x7f365c041fd0>"
      ]
     },
     "metadata": {},
     "output_type": "display_data"
    }
   ],
   "source": [
    "x = range(len(y))\n",
    "plt.plot(x,y)\n",
    "plt.yticks((60,100))\n",
    "plt.show()"
   ]
  },
  {
   "cell_type": "code",
   "execution_count": null,
   "metadata": {},
   "outputs": [],
   "source": []
  }
 ],
 "metadata": {
  "kernelspec": {
   "display_name": "Python 3",
   "language": "python",
   "name": "python3"
  },
  "language_info": {
   "codemirror_mode": {
    "name": "ipython",
    "version": 3
   },
   "file_extension": ".py",
   "mimetype": "text/x-python",
   "name": "python",
   "nbconvert_exporter": "python",
   "pygments_lexer": "ipython3",
   "version": "3.6.4"
  }
 },
 "nbformat": 4,
 "nbformat_minor": 2
}
