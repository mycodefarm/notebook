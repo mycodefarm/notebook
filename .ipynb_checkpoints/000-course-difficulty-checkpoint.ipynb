{
 "cells": [
  {
   "cell_type": "code",
   "execution_count": 54,
   "metadata": {},
   "outputs": [],
   "source": [
    "import pandas as pd\n",
    "import jutil\n",
    "import matplotlib.pyplot as plt"
   ]
  },
  {
   "cell_type": "code",
   "execution_count": 14,
   "metadata": {},
   "outputs": [
    {
     "data": {
      "text/html": [
       "<div>\n",
       "<style>\n",
       "    .dataframe thead tr:only-child th {\n",
       "        text-align: right;\n",
       "    }\n",
       "\n",
       "    .dataframe thead th {\n",
       "        text-align: left;\n",
       "    }\n",
       "\n",
       "    .dataframe tbody tr th {\n",
       "        vertical-align: top;\n",
       "    }\n",
       "</style>\n",
       "<table border=\"1\" class=\"dataframe\">\n",
       "  <thead>\n",
       "    <tr style=\"text-align: right;\">\n",
       "      <th></th>\n",
       "      <th>course_code</th>\n",
       "      <th>course_name</th>\n",
       "      <th>grade</th>\n",
       "      <th>mark</th>\n",
       "      <th>teach_class_id</th>\n",
       "      <th>teacher</th>\n",
       "    </tr>\n",
       "  </thead>\n",
       "  <tbody>\n",
       "    <tr>\n",
       "      <th>0</th>\n",
       "      <td>0473004</td>\n",
       "      <td>嵌入式系统设计与应用实验</td>\n",
       "      <td>2007</td>\n",
       "      <td>66.0</td>\n",
       "      <td>1</td>\n",
       "      <td>杨斌</td>\n",
       "    </tr>\n",
       "    <tr>\n",
       "      <th>1</th>\n",
       "      <td>0473004</td>\n",
       "      <td>嵌入式系统设计与应用实验</td>\n",
       "      <td>2007</td>\n",
       "      <td>72.0</td>\n",
       "      <td>1</td>\n",
       "      <td>杨斌</td>\n",
       "    </tr>\n",
       "    <tr>\n",
       "      <th>2</th>\n",
       "      <td>0473004</td>\n",
       "      <td>嵌入式系统设计与应用实验</td>\n",
       "      <td>2007</td>\n",
       "      <td>84.0</td>\n",
       "      <td>1</td>\n",
       "      <td>杨斌</td>\n",
       "    </tr>\n",
       "    <tr>\n",
       "      <th>3</th>\n",
       "      <td>0473004</td>\n",
       "      <td>嵌入式系统设计与应用实验</td>\n",
       "      <td>2007</td>\n",
       "      <td>76.0</td>\n",
       "      <td>1</td>\n",
       "      <td>杨斌</td>\n",
       "    </tr>\n",
       "    <tr>\n",
       "      <th>4</th>\n",
       "      <td>0473004</td>\n",
       "      <td>嵌入式系统设计与应用实验</td>\n",
       "      <td>2007</td>\n",
       "      <td>74.0</td>\n",
       "      <td>1</td>\n",
       "      <td>杨斌</td>\n",
       "    </tr>\n",
       "  </tbody>\n",
       "</table>\n",
       "</div>"
      ],
      "text/plain": [
       "  course_code   course_name grade  mark teach_class_id teacher\n",
       "0     0473004  嵌入式系统设计与应用实验  2007  66.0              1      杨斌\n",
       "1     0473004  嵌入式系统设计与应用实验  2007  72.0              1      杨斌\n",
       "2     0473004  嵌入式系统设计与应用实验  2007  84.0              1      杨斌\n",
       "3     0473004  嵌入式系统设计与应用实验  2007  76.0              1      杨斌\n",
       "4     0473004  嵌入式系统设计与应用实验  2007  74.0              1      杨斌"
      ]
     },
     "execution_count": 14,
     "metadata": {},
     "output_type": "execute_result"
    }
   ],
   "source": [
    "sql = \"select course_code,course_name,teach_class_id,pmark as mark ,teacher,grade \\\n",
    "from view_stu_course_mark where course_code='0473004'\"\n",
    "df = jutil.load_pd_df(sql)\n",
    "df.head()"
   ]
  },
  {
   "cell_type": "code",
   "execution_count": 15,
   "metadata": {},
   "outputs": [
    {
     "data": {
      "text/plain": [
       "course_code       864\n",
       "course_name       864\n",
       "grade             864\n",
       "mark              864\n",
       "teach_class_id    864\n",
       "teacher           864\n",
       "dtype: int64"
      ]
     },
     "execution_count": 15,
     "metadata": {},
     "output_type": "execute_result"
    }
   ],
   "source": [
    "df.count()"
   ]
  },
  {
   "cell_type": "code",
   "execution_count": 52,
   "metadata": {},
   "outputs": [
    {
     "data": {
      "text/plain": [
       "array([ 72.94666667,  76.25      ,  73.35185185,  78.2826087 ,\n",
       "        68.625     ,  72.08571429,  67.67934783,  76.63571429,  73.67924528])"
      ]
     },
     "execution_count": 52,
     "metadata": {},
     "output_type": "execute_result"
    }
   ],
   "source": [
    "g = df.groupby('grade')\n",
    "keys = g.grade.all().values\n",
    "year_mean_mark = g.agg({'mark':'mean'})\n",
    "marks = year_mean_mark['mark'].values\n",
    "marks"
   ]
  },
  {
   "cell_type": "code",
   "execution_count": 56,
   "metadata": {},
   "outputs": [
    {
     "data": {
      "image/png": "[encoded data removed]",
      "text/plain": [
       "<matplotlib.figure.Figure at 0x7fee7ccd1940>"
      ]
     },
     "metadata": {},
     "output_type": "display_data"
    }
   ],
   "source": [
    "\n",
    "plt.plot(keys,marks)\n",
    "plt.ylim((50,100))\n",
    "plt.show()"
   ]
  },
  {
   "cell_type": "code",
   "execution_count": 85,
   "metadata": {},
   "outputs": [],
   "source": [
    "# 计算挂科率\n",
    "def get_group_key_value(g):\n",
    "    keys = list(g.groups.keys())\n",
    "    count = g.agg({'mark':'count'})\n",
    "    values = list(count['mark'].values)\n",
    "    d = {}\n",
    "    for i in range(len(keys)):\n",
    "        d[keys[i]] = values[i]\n",
    "    return d"
   ]
  },
  {
   "cell_type": "code",
   "execution_count": 87,
   "metadata": {},
   "outputs": [
    {
     "data": {
      "text/plain": [
       "{'2007': 4, '2009': 2, '2011': 21, '2012': 22, '2013': 26}"
      ]
     },
     "execution_count": 87,
     "metadata": {},
     "output_type": "execute_result"
    }
   ],
   "source": [
    "fail_cnt = get_group_key_value(df[df.mark<60.0].groupby('grade'))\n",
    "fail_cnt"
   ]
  },
  {
   "cell_type": "code",
   "execution_count": 89,
   "metadata": {},
   "outputs": [
    {
     "data": {
      "text/plain": [
       "{'2007': 75,\n",
       " '2008': 44,\n",
       " '2009': 54,\n",
       " '2010': 46,\n",
       " '2011': 128,\n",
       " '2012': 140,\n",
       " '2013': 184,\n",
       " '2014': 140,\n",
       " '2015': 53}"
      ]
     },
     "execution_count": 89,
     "metadata": {},
     "output_type": "execute_result"
    }
   ],
   "source": [
    "normal_cnt = get_group_key_value(df.groupby('grade'))\n",
    "normal_cnt"
   ]
  },
  {
   "cell_type": "code",
   "execution_count": 90,
   "metadata": {},
   "outputs": [
    {
     "data": {
      "text/plain": [
       "{'2007': 0.053333333333333337,\n",
       " '2008': 0.0,\n",
       " '2009': 0.037037037037037035,\n",
       " '2010': 0.0,\n",
       " '2011': 0.1640625,\n",
       " '2012': 0.15714285714285714,\n",
       " '2013': 0.14130434782608695,\n",
       " '2014': 0.0,\n",
       " '2015': 0.0}"
      ]
     },
     "execution_count": 90,
     "metadata": {},
     "output_type": "execute_result"
    }
   ],
   "source": [
    "hang_rate = {}\n",
    "for k in normal_cnt.keys():\n",
    "    hang_rate[k] = fail_cnt.get(k,0)/normal_cnt[k]\n",
    "hang_rate"
   ]
  },
  {
   "cell_type": "code",
   "execution_count": 93,
   "metadata": {},
   "outputs": [
    {
     "data": {
      "text/plain": [
       "dict_values([0.053333333333333337, 0.0, 0.037037037037037035, 0.0, 0.1640625, 0.15714285714285714, 0.14130434782608695, 0.0, 0.0])"
      ]
     },
     "execution_count": 93,
     "metadata": {},
     "output_type": "execute_result"
    }
   ],
   "source": [
    "hang_rate.values()"
   ]
  },
  {
   "cell_type": "code",
   "execution_count": 94,
   "metadata": {},
   "outputs": [],
   "source": [
    "# 求出课程分数波动性,即方差或标准差\n"
   ]
  },
  {
   "cell_type": "code",
   "execution_count": null,
   "metadata": {},
   "outputs": [],
   "source": [
    "# 如何根据上述信息确定课程难度?\n",
    "\n"
   ]
  }
 ],
 "metadata": {
  "kernelspec": {
   "display_name": "Python 3",
   "language": "python",
   "name": "python3"
  },
  "language_info": {
   "codemirror_mode": {
    "name": "ipython",
    "version": 3
   },
   "file_extension": ".py",
   "mimetype": "text/x-python",
   "name": "python",
   "nbconvert_exporter": "python",
   "pygments_lexer": "ipython3",
   "version": "3.6.4"
  }
 },
 "nbformat": 4,
 "nbformat_minor": 2
}
