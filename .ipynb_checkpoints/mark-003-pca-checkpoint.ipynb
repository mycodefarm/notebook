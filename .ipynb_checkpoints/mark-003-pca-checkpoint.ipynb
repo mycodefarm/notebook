{
 "cells": [
  {
   "cell_type": "code",
   "execution_count": 1,
   "metadata": {},
   "outputs": [],
   "source": [
    "import jutil\n",
    "from sklearn.cluster import KMeans\n",
    "import numpy as np\n",
    "from collections import Counter"
   ]
  },
  {
   "cell_type": "code",
   "execution_count": 2,
   "metadata": {},
   "outputs": [],
   "source": [
    "sql = \"select t.Course_code as course_code from train_plan_course t,train_plan_credit c where t.Course_big_type_id=c.sid \\\n",
    "and t.Grade='2014' and c.type_name like '%专业%'  and t.Speciality_code='0408'\"\n",
    "code = [d['course_code'] for d in jutil.load_data(sql)]"
   ]
  },
  {
   "cell_type": "code",
   "execution_count": 3,
   "metadata": {},
   "outputs": [
    {
     "data": {
      "text/plain": [
       "53"
      ]
     },
     "execution_count": 3,
     "metadata": {},
     "output_type": "execute_result"
    }
   ],
   "source": [
    "len(set(code))"
   ]
  },
  {
   "cell_type": "code",
   "execution_count": 4,
   "metadata": {},
   "outputs": [
    {
     "data": {
      "text/html": [
       "<div>\n",
       "<style>\n",
       "    .dataframe thead tr:only-child th {\n",
       "        text-align: right;\n",
       "    }\n",
       "\n",
       "    .dataframe thead th {\n",
       "        text-align: left;\n",
       "    }\n",
       "\n",
       "    .dataframe tbody tr th {\n",
       "        vertical-align: top;\n",
       "    }\n",
       "</style>\n",
       "<table border=\"1\" class=\"dataframe\">\n",
       "  <thead>\n",
       "    <tr style=\"text-align: right;\">\n",
       "      <th></th>\n",
       "      <th>birthday</th>\n",
       "      <th>city</th>\n",
       "      <th>class_code</th>\n",
       "      <th>class_name</th>\n",
       "      <th>college_code</th>\n",
       "      <th>college_name</th>\n",
       "      <th>course_code</th>\n",
       "      <th>course_name</th>\n",
       "      <th>course_type</th>\n",
       "      <th>exam_type</th>\n",
       "      <th>...</th>\n",
       "      <th>province</th>\n",
       "      <th>sex</th>\n",
       "      <th>speciality_code</th>\n",
       "      <th>speciality_name</th>\n",
       "      <th>student_id</th>\n",
       "      <th>teach_class_id</th>\n",
       "      <th>teacher</th>\n",
       "      <th>term_id</th>\n",
       "      <th>term_name</th>\n",
       "      <th>term_order</th>\n",
       "    </tr>\n",
       "  </thead>\n",
       "  <tbody>\n",
       "    <tr>\n",
       "      <th>0</th>\n",
       "      <td>710006400000</td>\n",
       "      <td>聊城市</td>\n",
       "      <td>0408201402</td>\n",
       "      <td>软件2014-02班</td>\n",
       "      <td>04</td>\n",
       "      <td>信息科学与技术学院</td>\n",
       "      <td>0471004</td>\n",
       "      <td>面向对象程序设计</td>\n",
       "      <td>必</td>\n",
       "      <td>正考</td>\n",
       "      <td>...</td>\n",
       "      <td>山东</td>\n",
       "      <td>男</td>\n",
       "      <td>0408</td>\n",
       "      <td>软件工程</td>\n",
       "      <td>20122639</td>\n",
       "      <td>1</td>\n",
       "      <td>龚勋</td>\n",
       "      <td>72</td>\n",
       "      <td>2014-2015第2学期</td>\n",
       "      <td>2</td>\n",
       "    </tr>\n",
       "    <tr>\n",
       "      <th>1</th>\n",
       "      <td>710006400000</td>\n",
       "      <td>聊城市</td>\n",
       "      <td>0408201402</td>\n",
       "      <td>软件2014-02班</td>\n",
       "      <td>04</td>\n",
       "      <td>信息科学与技术学院</td>\n",
       "      <td>0471109</td>\n",
       "      <td>软件工程/程序综合设计实习</td>\n",
       "      <td>必</td>\n",
       "      <td>正考</td>\n",
       "      <td>...</td>\n",
       "      <td>山东</td>\n",
       "      <td>男</td>\n",
       "      <td>0408</td>\n",
       "      <td>软件工程</td>\n",
       "      <td>20122639</td>\n",
       "      <td>1</td>\n",
       "      <td>何太军</td>\n",
       "      <td>76</td>\n",
       "      <td>2015-2016第2学期</td>\n",
       "      <td>3</td>\n",
       "    </tr>\n",
       "    <tr>\n",
       "      <th>2</th>\n",
       "      <td>710006400000</td>\n",
       "      <td>聊城市</td>\n",
       "      <td>0408201402</td>\n",
       "      <td>软件2014-02班</td>\n",
       "      <td>04</td>\n",
       "      <td>信息科学与技术学院</td>\n",
       "      <td>6010500</td>\n",
       "      <td>线性代数B</td>\n",
       "      <td>必</td>\n",
       "      <td>正考</td>\n",
       "      <td>...</td>\n",
       "      <td>山东</td>\n",
       "      <td>男</td>\n",
       "      <td>0408</td>\n",
       "      <td>软件工程</td>\n",
       "      <td>20122639</td>\n",
       "      <td>2</td>\n",
       "      <td>崔宁伟</td>\n",
       "      <td>71</td>\n",
       "      <td>2014-2015第1学期</td>\n",
       "      <td>1</td>\n",
       "    </tr>\n",
       "    <tr>\n",
       "      <th>3</th>\n",
       "      <td>710006400000</td>\n",
       "      <td>聊城市</td>\n",
       "      <td>0408201402</td>\n",
       "      <td>软件2014-02班</td>\n",
       "      <td>04</td>\n",
       "      <td>信息科学与技术学院</td>\n",
       "      <td>6041943</td>\n",
       "      <td>计算方法C</td>\n",
       "      <td>必</td>\n",
       "      <td>正考</td>\n",
       "      <td>...</td>\n",
       "      <td>山东</td>\n",
       "      <td>男</td>\n",
       "      <td>0408</td>\n",
       "      <td>软件工程</td>\n",
       "      <td>20122639</td>\n",
       "      <td>1</td>\n",
       "      <td>戴克俭</td>\n",
       "      <td>76</td>\n",
       "      <td>2015-2016第2学期</td>\n",
       "      <td>3</td>\n",
       "    </tr>\n",
       "    <tr>\n",
       "      <th>4</th>\n",
       "      <td>710006400000</td>\n",
       "      <td>聊城市</td>\n",
       "      <td>0408201402</td>\n",
       "      <td>软件2014-02班</td>\n",
       "      <td>04</td>\n",
       "      <td>信息科学与技术学院</td>\n",
       "      <td>7001153</td>\n",
       "      <td>形势与政策4</td>\n",
       "      <td>必</td>\n",
       "      <td>正考</td>\n",
       "      <td>...</td>\n",
       "      <td>山东</td>\n",
       "      <td>男</td>\n",
       "      <td>0408</td>\n",
       "      <td>软件工程</td>\n",
       "      <td>20122639</td>\n",
       "      <td>39</td>\n",
       "      <td>廖凡</td>\n",
       "      <td>76</td>\n",
       "      <td>2015-2016第2学期</td>\n",
       "      <td>3</td>\n",
       "    </tr>\n",
       "  </tbody>\n",
       "</table>\n",
       "<p>5 rows × 26 columns</p>\n",
       "</div>"
      ],
      "text/plain": [
       "       birthday city  class_code  class_name college_code college_name  \\\n",
       "0  710006400000  聊城市  0408201402  软件2014-02班           04    信息科学与技术学院   \n",
       "1  710006400000  聊城市  0408201402  软件2014-02班           04    信息科学与技术学院   \n",
       "2  710006400000  聊城市  0408201402  软件2014-02班           04    信息科学与技术学院   \n",
       "3  710006400000  聊城市  0408201402  软件2014-02班           04    信息科学与技术学院   \n",
       "4  710006400000  聊城市  0408201402  软件2014-02班           04    信息科学与技术学院   \n",
       "\n",
       "  course_code    course_name course_type exam_type    ...     province sex  \\\n",
       "0     0471004       面向对象程序设计           必        正考    ...           山东   男   \n",
       "1     0471109  软件工程/程序综合设计实习           必        正考    ...           山东   男   \n",
       "2     6010500          线性代数B           必        正考    ...           山东   男   \n",
       "3     6041943          计算方法C           必        正考    ...           山东   男   \n",
       "4     7001153         形势与政策4           必        正考    ...           山东   男   \n",
       "\n",
       "  speciality_code speciality_name student_id  teach_class_id teacher term_id  \\\n",
       "0            0408            软件工程   20122639               1      龚勋      72   \n",
       "1            0408            软件工程   20122639               1     何太军      76   \n",
       "2            0408            软件工程   20122639               2     崔宁伟      71   \n",
       "3            0408            软件工程   20122639               1     戴克俭      76   \n",
       "4            0408            软件工程   20122639              39      廖凡      76   \n",
       "\n",
       "       term_name term_order  \n",
       "0  2014-2015第2学期          2  \n",
       "1  2015-2016第2学期          3  \n",
       "2  2014-2015第1学期          1  \n",
       "3  2015-2016第2学期          3  \n",
       "4  2015-2016第2学期          3  \n",
       "\n",
       "[5 rows x 26 columns]"
      ]
     },
     "execution_count": 4,
     "metadata": {},
     "output_type": "execute_result"
    }
   ],
   "source": [
    "sql = \"select * from view_stu_course_mark where speciality_code='0408' and grade='2014'\"\n",
    "df = jutil.load_pd_df(sql)\n",
    "df.head()"
   ]
  },
  {
   "cell_type": "code",
   "execution_count": 5,
   "metadata": {},
   "outputs": [],
   "source": [
    "# 选出了与专业相关的课程\n",
    "dd = df[df['course_code'].isin(code)]"
   ]
  },
  {
   "cell_type": "markdown",
   "metadata": {},
   "source": [
    "## 按学生group,然后将其课程分数作为维度,学生数作为数据量"
   ]
  },
  {
   "cell_type": "code",
   "execution_count": 6,
   "metadata": {},
   "outputs": [],
   "source": [
    "m = dd.drop_duplicates(subset=['student_id','course_code']).groupby(['student_id','name'],as_index=False)['pmark'].apply(list)\n",
    "md = m.to_dict()\n",
    "marks = list(m)"
   ]
  },
  {
   "cell_type": "code",
   "execution_count": 7,
   "metadata": {},
   "outputs": [
    {
     "data": {
      "text/plain": [
       "['软件工程概论',\n",
       " '软件系统分析与设计',\n",
       " '数据结构实验',\n",
       " '计算机导论A',\n",
       " '算法设计与分析',\n",
       " '大学物理实验Ⅰ',\n",
       " 'Java程序设计实验',\n",
       " '高级语言程序设计实验',\n",
       " '软件质量保证与测试',\n",
       " '面向对象程序设计',\n",
       " '程序语言综合课程设计',\n",
       " '数据库原理',\n",
       " '数据库原理实验',\n",
       " '微机与接口技术A',\n",
       " '软件设计实习',\n",
       " '线性代数B',\n",
       " '大学物理实验Ⅱ',\n",
       " 'Java程序设计',\n",
       " '计算方法C',\n",
       " 'J2EE体系结构及程序设计',\n",
       " '新技术讲座',\n",
       " '数据结构A',\n",
       " '计算机图形学',\n",
       " '面向对象程序设计实验',\n",
       " '计算机组成原理B',\n",
       " '数据库技术与应用',\n",
       " '计算机图形学实验',\n",
       " '操作系统实验',\n",
       " '计算机组成实验C',\n",
       " '软件项目管理',\n",
       " '数据库技术与应用实验',\n",
       " '数字电子技术B',\n",
       " '高级语言程序设计',\n",
       " '微机与接口技术实验',\n",
       " '人机交互技术',\n",
       " '人机交互技术实验',\n",
       " '计算机网络工程实验',\n",
       " '数字电子技术实验B(电类)',\n",
       " '高等数学Ⅰ',\n",
       " '高等数学Ⅱ',\n",
       " '数学建模B',\n",
       " '离散数学A',\n",
       " '软件工程/网络软件开发实习']"
      ]
     },
     "execution_count": 7,
     "metadata": {},
     "output_type": "execute_result"
    }
   ],
   "source": [
    "# 得到大多数同学都有的课程\n",
    "cnt = [len(m) for m in marks]\n",
    "most_len = max(set(cnt),key=cnt.count)\n",
    "# most_len\n",
    "cc = dd.drop_duplicates(subset=['student_id','course_code']).groupby(['student_id','name'],as_index=False)['course_name'].apply(list)\n",
    "course_names = []\n",
    "for k,v in cc.iteritems():\n",
    "    if len(v)==most_len:\n",
    "        course_names = v\n",
    "        break\n",
    "course_names"
   ]
  },
  {
   "cell_type": "code",
   "execution_count": 8,
   "metadata": {},
   "outputs": [],
   "source": [
    "gd = dd.drop_duplicates(subset=['student_id','course_code']).groupby(['student_id','name'],as_index=False)\n",
    "d_arr = dict() # key存的是课程名,value是存放成绩的数组,这样竖着看就是一个学生的成绩列表了,也就是转置操作\n",
    "for name ,g in gd:\n",
    "    d_m = dict()\n",
    "    for i,row in g.iterrows():\n",
    "        d_m[row['course_name']] = row['pmark']\n",
    "    for c in course_names:\n",
    "        d_arr[c] = d_arr.get(c,[])\n",
    "        d_arr[c].append(d_m.get(c,60))\n",
    "courses = d_arr.keys()\n",
    "mt = [arr for arr in d_arr.values()]\n",
    "mt = np.transpose(mt)"
   ]
  },
  {
   "cell_type": "code",
   "execution_count": 9,
   "metadata": {},
   "outputs": [
    {
     "data": {
      "text/plain": [
       "array([[87., 85., 93., ..., 88., 84., 89.],\n",
       "       [60., 74., 82., ..., 76., 33., 78.],\n",
       "       [60., 75., 60., ..., 80., 74., 90.],\n",
       "       ...,\n",
       "       [71., 60., 87., ..., 83., 78., 60.],\n",
       "       [71., 79., 91., ..., 83., 79., 81.],\n",
       "       [66., 80., 85., ..., 85., 80., 85.]])"
      ]
     },
     "execution_count": 9,
     "metadata": {},
     "output_type": "execute_result"
    }
   ],
   "source": [
    "mt"
   ]
  },
  {
   "cell_type": "markdown",
   "metadata": {},
   "source": [
    "## 使用PCA提取因子"
   ]
  },
  {
   "cell_type": "code",
   "execution_count": 10,
   "metadata": {},
   "outputs": [],
   "source": [
    "from sklearn.decomposition import PCA"
   ]
  },
  {
   "cell_type": "code",
   "execution_count": 18,
   "metadata": {},
   "outputs": [],
   "source": [
    "pca = PCA(n_components=20)\n",
    "pca.fit(mt)\n",
    "x = pca.transform(mt)"
   ]
  },
  {
   "cell_type": "code",
   "execution_count": 19,
   "metadata": {},
   "outputs": [
    {
     "data": {
      "text/plain": [
       "array([-64.75071145,   9.85046228,   1.54397052,   1.75108331,\n",
       "         0.28903486,  -3.34036481,  -5.14588602,  -6.5395378 ,\n",
       "       -15.94452886,   1.50604805,   7.44269963,  -3.23533745,\n",
       "         2.54441914,  -1.7220222 ,   6.44520614,  -1.83436155,\n",
       "        -7.94627089,   4.57815755,  -6.06278071,   1.62491089])"
      ]
     },
     "execution_count": 19,
     "metadata": {},
     "output_type": "execute_result"
    }
   ],
   "source": [
    "x[0]"
   ]
  },
  {
   "cell_type": "code",
   "execution_count": null,
   "metadata": {},
   "outputs": [],
   "source": []
  }
 ],
 "metadata": {
  "kernelspec": {
   "display_name": "Python 3",
   "language": "python",
   "name": "python3"
  },
  "language_info": {
   "codemirror_mode": {
    "name": "ipython",
    "version": 3
   },
   "file_extension": ".py",
   "mimetype": "text/x-python",
   "name": "python",
   "nbconvert_exporter": "python",
   "pygments_lexer": "ipython3",
   "version": "3.6.5"
  }
 },
 "nbformat": 4,
 "nbformat_minor": 2
}
