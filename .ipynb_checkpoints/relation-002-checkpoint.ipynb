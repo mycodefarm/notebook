{
 "cells": [
  {
   "cell_type": "code",
   "execution_count": 1,
   "metadata": {},
   "outputs": [],
   "source": [
    "import pandas as pd\n",
    "import jutil"
   ]
  },
  {
   "cell_type": "code",
   "execution_count": 2,
   "metadata": {},
   "outputs": [
    {
     "data": {
      "text/html": [
       "<div>\n",
       "<style>\n",
       "    .dataframe thead tr:only-child th {\n",
       "        text-align: right;\n",
       "    }\n",
       "\n",
       "    .dataframe thead th {\n",
       "        text-align: left;\n",
       "    }\n",
       "\n",
       "    .dataframe tbody tr th {\n",
       "        vertical-align: top;\n",
       "    }\n",
       "</style>\n",
       "<table border=\"1\" class=\"dataframe\">\n",
       "  <thead>\n",
       "    <tr style=\"text-align: right;\">\n",
       "      <th></th>\n",
       "      <th>college_code</th>\n",
       "      <th>course_code</th>\n",
       "      <th>course_name</th>\n",
       "      <th>course_type</th>\n",
       "      <th>grade</th>\n",
       "      <th>mark</th>\n",
       "      <th>pmark</th>\n",
       "      <th>speciality_code</th>\n",
       "      <th>speciality_name</th>\n",
       "      <th>student_id</th>\n",
       "      <th>term_order</th>\n",
       "    </tr>\n",
       "  </thead>\n",
       "  <tbody>\n",
       "    <tr>\n",
       "      <th>0</th>\n",
       "      <td>01</td>\n",
       "      <td>0100812</td>\n",
       "      <td>毕业实习与毕业设计（土木）</td>\n",
       "      <td>必</td>\n",
       "      <td>2013</td>\n",
       "      <td>8</td>\n",
       "      <td>82.0</td>\n",
       "      <td>0101</td>\n",
       "      <td>土木工程</td>\n",
       "      <td>20130002</td>\n",
       "      <td>5</td>\n",
       "    </tr>\n",
       "    <tr>\n",
       "      <th>1</th>\n",
       "      <td>01</td>\n",
       "      <td>0137400</td>\n",
       "      <td>工程流体力学</td>\n",
       "      <td>必</td>\n",
       "      <td>2013</td>\n",
       "      <td>8</td>\n",
       "      <td>82.0</td>\n",
       "      <td>0101</td>\n",
       "      <td>土木工程</td>\n",
       "      <td>20130002</td>\n",
       "      <td>4</td>\n",
       "    </tr>\n",
       "    <tr>\n",
       "      <th>2</th>\n",
       "      <td>01</td>\n",
       "      <td>0171079</td>\n",
       "      <td>基础工程A</td>\n",
       "      <td>必</td>\n",
       "      <td>2013</td>\n",
       "      <td>1</td>\n",
       "      <td>60.0</td>\n",
       "      <td>0101</td>\n",
       "      <td>土木工程</td>\n",
       "      <td>20130002</td>\n",
       "      <td>4</td>\n",
       "    </tr>\n",
       "    <tr>\n",
       "      <th>3</th>\n",
       "      <td>01</td>\n",
       "      <td>0472006</td>\n",
       "      <td>大学计算机基础A</td>\n",
       "      <td>必</td>\n",
       "      <td>2013</td>\n",
       "      <td>4</td>\n",
       "      <td>69.0</td>\n",
       "      <td>0101</td>\n",
       "      <td>土木工程</td>\n",
       "      <td>20130002</td>\n",
       "      <td>3</td>\n",
       "    </tr>\n",
       "    <tr>\n",
       "      <th>4</th>\n",
       "      <td>01</td>\n",
       "      <td>1111220</td>\n",
       "      <td>工科数学分析MII</td>\n",
       "      <td>必</td>\n",
       "      <td>2013</td>\n",
       "      <td>0</td>\n",
       "      <td>56.0</td>\n",
       "      <td>0101</td>\n",
       "      <td>土木工程</td>\n",
       "      <td>20130002</td>\n",
       "      <td>2</td>\n",
       "    </tr>\n",
       "  </tbody>\n",
       "</table>\n",
       "</div>"
      ],
      "text/plain": [
       "  college_code course_code    course_name course_type grade mark  pmark  \\\n",
       "0           01     0100812  毕业实习与毕业设计（土木）           必  2013    8   82.0   \n",
       "1           01     0137400         工程流体力学           必  2013    8   82.0   \n",
       "2           01     0171079          基础工程A           必  2013    1   60.0   \n",
       "3           01     0472006       大学计算机基础A           必  2013    4   69.0   \n",
       "4           01     1111220      工科数学分析MII           必  2013    0   56.0   \n",
       "\n",
       "  speciality_code speciality_name student_id  term_order  \n",
       "0            0101            土木工程   20130002           5  \n",
       "1            0101            土木工程   20130002           4  \n",
       "2            0101            土木工程   20130002           4  \n",
       "3            0101            土木工程   20130002           3  \n",
       "4            0101            土木工程   20130002           2  "
      ]
     },
     "execution_count": 2,
     "metadata": {},
     "output_type": "execute_result"
    }
   ],
   "source": [
    "df = jutil.load_pd_df(\"select * from view_stu_course_mark where course_type='必' and speciality_code='0101' and student_id like '2013%'\")\n",
    "df.head()"
   ]
  },
  {
   "cell_type": "code",
   "execution_count": 3,
   "metadata": {},
   "outputs": [
    {
     "data": {
      "text/plain": [
       "college_code       30410\n",
       "course_code        30410\n",
       "course_name        30410\n",
       "course_type        30410\n",
       "grade              30410\n",
       "mark               30410\n",
       "pmark              30410\n",
       "speciality_code    30410\n",
       "speciality_name    30410\n",
       "student_id         30410\n",
       "term_order         30410\n",
       "dtype: int64"
      ]
     },
     "execution_count": 3,
     "metadata": {},
     "output_type": "execute_result"
    }
   ],
   "source": [
    "data = df[~df.course_name.str.startswith(\"形势与政策\")]\n",
    "data = data[~data.course_name.str.startswith(\"军事技能\")]\n",
    "data = data[~data.course_name.str.startswith(\"土木工程认识实习\")]\n",
    "data.count()"
   ]
  },
  {
   "cell_type": "code",
   "execution_count": 4,
   "metadata": {},
   "outputs": [
    {
     "name": "stdout",
     "output_type": "stream",
     "text": [
      "30410\n"
     ]
    },
    {
     "data": {
      "text/plain": [
       "535"
      ]
     },
     "execution_count": 4,
     "metadata": {},
     "output_type": "execute_result"
    }
   ],
   "source": [
    "dg = data.groupby('student_id').groups\n",
    "\n",
    "input_list = []\n",
    "iii = None\n",
    "out = data['college_code'].count()\n",
    "print(out)\n",
    "try:\n",
    "    for k in dg:\n",
    "        ids = dg[k]\n",
    "        iii = ids\n",
    "        items = []\n",
    "        for id in ids:\n",
    "            if id<out:\n",
    "                items.append(data.iloc[id].get('course_code')+'_'+str(data.iloc[id].get('mark')))\n",
    "        items = list(set(items)) # 去重\n",
    "        input_list.append((k,items))\n",
    "except:\n",
    "    print(iii)\n",
    "len(input_list)"
   ]
  },
  {
   "cell_type": "code",
   "execution_count": 5,
   "metadata": {},
   "outputs": [],
   "source": [
    "from pyspark.ml.fpm import FPGrowth\n",
    "\n",
    "ddd = spark.createDataFrame(input_list,['id','items'])\n",
    "\n",
    "fpG = FPGrowth(itemsCol=\"items\",minSupport=0.05,minConfidence=0.6)\n",
    "model = fpG.fit(ddd)"
   ]
  },
  {
   "cell_type": "code",
   "execution_count": 6,
   "metadata": {},
   "outputs": [
    {
     "name": "stdout",
     "output_type": "stream",
     "text": [
      "+---------------------------------+----+\n",
      "|items                            |freq|\n",
      "+---------------------------------+----+\n",
      "|[8010220_9]                      |67  |\n",
      "|[8010220_9, 6321910_0]           |30  |\n",
      "|[8010220_9, 9990004_9]           |31  |\n",
      "|[8010220_9, 0100812_9]           |27  |\n",
      "|[8010220_9, 9991999_9]           |41  |\n",
      "|[8010220_9, 9991999_9, 9992056_9]|29  |\n",
      "|[8010220_9, 6321920_0]           |27  |\n",
      "|[8010220_9, 9992056_9]           |46  |\n",
      "|[6322020_4]                      |45  |\n",
      "|[6322020_4, 9991999_9]           |27  |\n",
      "+---------------------------------+----+\n",
      "only showing top 10 rows\n",
      "\n"
     ]
    }
   ],
   "source": [
    "model.freqItemsets.show(n=10,truncate=False)"
   ]
  },
  {
   "cell_type": "code",
   "execution_count": 7,
   "metadata": {},
   "outputs": [
    {
     "name": "stdout",
     "output_type": "stream",
     "text": [
      "+-----------------------+-----------+------------------+\n",
      "|antecedent             |consequent |confidence        |\n",
      "+-----------------------+-----------+------------------+\n",
      "|[0134300_10]           |[9992056_9]|0.6509433962264151|\n",
      "|[3200502_9]            |[9991999_9]|0.6078431372549019|\n",
      "|[3200502_9]            |[9992056_9]|0.6274509803921569|\n",
      "|[8010230_4]            |[9992056_9]|0.6166666666666667|\n",
      "|[6111010_7]            |[9992056_9]|0.6590909090909091|\n",
      "|[9991633_9, 6321910_0] |[9992056_9]|0.7121212121212122|\n",
      "|[0171060_9]            |[9991999_9]|0.7090909090909091|\n",
      "|[9010130_9]            |[9991999_9]|0.6571428571428571|\n",
      "|[9010140_7]            |[9992056_9]|0.6222222222222222|\n",
      "|[7001063_7, 9991999_9] |[9992056_9]|0.6122448979591837|\n",
      "|[6111010_0]            |[9992056_9]|0.6082474226804123|\n",
      "|[6011320_0, 9990005_9] |[9992056_9]|0.6086956521739131|\n",
      "|[6011310_10, 9992056_9]|[9991999_9]|0.6153846153846154|\n",
      "|[7001063_8, 6321920_0] |[9992056_9]|0.85              |\n",
      "|[9990005_7, 9991999_9] |[9992056_9]|0.6101694915254238|\n",
      "|[6111110_7, 6321920_0] |[9992056_9]|0.6226415094339622|\n",
      "|[0100812_8, 9991999_9] |[9992056_9]|0.75              |\n",
      "|[7047250_7]            |[9992056_9]|0.6266666666666667|\n",
      "|[3200502_7]            |[9991999_9]|0.603448275862069 |\n",
      "|[6011310_0]            |[9992056_9]|0.7073170731707317|\n",
      "+-----------------------+-----------+------------------+\n",
      "only showing top 20 rows\n",
      "\n"
     ]
    }
   ],
   "source": [
    "model.associationRules.show(truncate=False)"
   ]
  },
  {
   "cell_type": "code",
   "execution_count": 8,
   "metadata": {},
   "outputs": [
    {
     "data": {
      "text/html": [
       "<div>\n",
       "<style>\n",
       "    .dataframe thead tr:only-child th {\n",
       "        text-align: right;\n",
       "    }\n",
       "\n",
       "    .dataframe thead th {\n",
       "        text-align: left;\n",
       "    }\n",
       "\n",
       "    .dataframe tbody tr th {\n",
       "        vertical-align: top;\n",
       "    }\n",
       "</style>\n",
       "<table border=\"1\" class=\"dataframe\">\n",
       "  <thead>\n",
       "    <tr style=\"text-align: right;\">\n",
       "      <th></th>\n",
       "      <th>antecedent</th>\n",
       "      <th>consequent</th>\n",
       "      <th>confidence</th>\n",
       "    </tr>\n",
       "  </thead>\n",
       "  <tbody>\n",
       "    <tr>\n",
       "      <th>0</th>\n",
       "      <td>[0134300_10]</td>\n",
       "      <td>[9992056_9]</td>\n",
       "      <td>0.650943</td>\n",
       "    </tr>\n",
       "    <tr>\n",
       "      <th>1</th>\n",
       "      <td>[3200502_9]</td>\n",
       "      <td>[9991999_9]</td>\n",
       "      <td>0.607843</td>\n",
       "    </tr>\n",
       "    <tr>\n",
       "      <th>2</th>\n",
       "      <td>[3200502_9]</td>\n",
       "      <td>[9992056_9]</td>\n",
       "      <td>0.627451</td>\n",
       "    </tr>\n",
       "    <tr>\n",
       "      <th>3</th>\n",
       "      <td>[8010230_4]</td>\n",
       "      <td>[9992056_9]</td>\n",
       "      <td>0.616667</td>\n",
       "    </tr>\n",
       "    <tr>\n",
       "      <th>4</th>\n",
       "      <td>[6111010_7]</td>\n",
       "      <td>[9992056_9]</td>\n",
       "      <td>0.659091</td>\n",
       "    </tr>\n",
       "  </tbody>\n",
       "</table>\n",
       "</div>"
      ],
      "text/plain": [
       "     antecedent   consequent  confidence\n",
       "0  [0134300_10]  [9992056_9]    0.650943\n",
       "1   [3200502_9]  [9991999_9]    0.607843\n",
       "2   [3200502_9]  [9992056_9]    0.627451\n",
       "3   [8010230_4]  [9992056_9]    0.616667\n",
       "4   [6111010_7]  [9992056_9]    0.659091"
      ]
     },
     "execution_count": 8,
     "metadata": {},
     "output_type": "execute_result"
    }
   ],
   "source": [
    "pdc = model.associationRules.toPandas()\n",
    "pdc.head()"
   ]
  },
  {
   "cell_type": "code",
   "execution_count": 9,
   "metadata": {},
   "outputs": [
    {
     "data": {
      "text/plain": [
       "antecedent    257\n",
       "consequent    257\n",
       "confidence    257\n",
       "dtype: int64"
      ]
     },
     "execution_count": 9,
     "metadata": {},
     "output_type": "execute_result"
    }
   ],
   "source": [
    "pdc.count()"
   ]
  },
  {
   "cell_type": "code",
   "execution_count": 10,
   "metadata": {},
   "outputs": [
    {
     "data": {
      "text/plain": [
       "411"
      ]
     },
     "execution_count": 10,
     "metadata": {},
     "output_type": "execute_result"
    }
   ],
   "source": [
    "# 提取出课程代码和课程名称的对应\n",
    "course_arr = data.loc[:,['course_code','course_name']].values\n",
    "course_dict = {}\n",
    "for row in course_arr:\n",
    "    course_dict[row[0]] = row[1]\n",
    "len(course_dict)"
   ]
  },
  {
   "cell_type": "code",
   "execution_count": 11,
   "metadata": {},
   "outputs": [],
   "source": [
    "antecedent = pdc['antecedent']\n",
    "consequent = pdc['consequent']"
   ]
  },
  {
   "cell_type": "code",
   "execution_count": 12,
   "metadata": {},
   "outputs": [],
   "source": [
    "consequent_name = [course_dict.get(row[0][:row[0].index('_')],'unknown') for row in consequent ]"
   ]
  },
  {
   "cell_type": "code",
   "execution_count": 13,
   "metadata": {},
   "outputs": [],
   "source": [
    "antecedent_name = []\n",
    "for row in antecedent:\n",
    "    antecedent_name.append([course_dict.get(code[:code.index('_')],'unknown') for code in row])"
   ]
  },
  {
   "cell_type": "code",
   "execution_count": 14,
   "metadata": {},
   "outputs": [
    {
     "name": "stdout",
     "output_type": "stream",
     "text": [
      "['基础工程B']-->土木工程概论（认识实习）\n",
      "['大学计算机基础']-->课外创新实践\n",
      "['大学计算机基础']-->土木工程概论（认识实习）\n",
      "['英语Ⅲ']-->土木工程概论（认识实习）\n",
      "['大学物理AⅠ']-->土木工程概论（认识实习）\n",
      "['生产实习', '理论力学AⅠ']-->土木工程概论（认识实习）\n",
      "['钢结构设计原理']-->课外创新实践\n",
      "['体育Ⅲ']-->课外创新实践\n",
      "['体育Ⅳ']-->土木工程概论（认识实习）\n",
      "['中国近现代史纲要', '课外创新实践']-->土木工程概论（认识实习）\n",
      "['大学物理AⅠ']-->土木工程概论（认识实习）\n",
      "['高等数学Ⅱ', '土木工程地质实习']-->土木工程概论（认识实习）\n",
      "['高等数学Ⅰ', '土木工程概论（认识实习）']-->课外创新实践\n",
      "['中国近现代史纲要', '理论力学AⅡ']-->土木工程概论（认识实习）\n",
      "['土木工程地质实习', '课外创新实践']-->土木工程概论（认识实习）\n",
      "['大学物理实验Ⅰ', '理论力学AⅡ']-->土木工程概论（认识实习）\n",
      "['毕业实习与毕业设计（土木）', '课外创新实践']-->土木工程概论（认识实习）\n",
      "['军事理论']-->土木工程概论（认识实习）\n",
      "['大学计算机基础']-->课外创新实践\n",
      "['高等数学Ⅰ']-->土木工程概论（认识实习）\n",
      "['体育Ⅳ', '生产实习']-->土木工程概论（认识实习）\n",
      "['中国近现代史纲要', '理论力学AⅠ']-->土木工程概论（认识实习）\n",
      "['中国近现代史纲要']-->土木工程概论（认识实习）\n",
      "['体育Ⅰ', '理论力学AⅠ']-->土木工程概论（认识实习）\n",
      "['工程测量实习', '土木工程概论（认识实习）']-->课外创新实践\n",
      "['高等数学Ⅰ', '课外创新实践']-->土木工程概论（认识实习）\n",
      "['英语Ⅲ']-->课外创新实践\n",
      "['英语Ⅳ']-->课外创新实践\n",
      "['英语Ⅳ']-->土木工程概论（认识实习）\n",
      "['工程测量AⅠ']-->土木工程概论（认识实习）\n",
      "['思想道德修养与法律基础', '理论力学AⅡ']-->课外创新实践\n",
      "['思想道德修养与法律基础', '理论力学AⅡ']-->土木工程概论（认识实习）\n",
      "['工程测量实习', '理论力学AⅡ']-->课外创新实践\n",
      "['土木工程制图III-A', '课外创新实践']-->土木工程概论（认识实习）\n",
      "['大学物理AⅠ', '理论力学AⅠ']-->土木工程概论（认识实习）\n",
      "['大学物理实验Ⅰ', '土木工程概论（认识实习）']-->课外创新实践\n",
      "['毛泽东思想和中国特色社会主义理论体系概论Ⅱ']-->土木工程概论（认识实习）\n",
      "['混凝土结构设计原理', '理论力学AⅡ']-->课外创新实践\n",
      "['大学物理AⅡ']-->课外创新实践\n",
      "['大学物理AⅠ', '理论力学AⅠ']-->土木工程概论（认识实习）\n"
     ]
    }
   ],
   "source": [
    "for i in range(40):\n",
    "    print('%s-->%s'%(antecedent_name[i],consequent_name[i]))"
   ]
  },
  {
   "cell_type": "code",
   "execution_count": null,
   "metadata": {},
   "outputs": [],
   "source": []
  }
 ],
 "metadata": {
  "kernelspec": {
   "display_name": "Python 3",
   "language": "python",
   "name": "python3"
  },
  "language_info": {
   "codemirror_mode": {
    "name": "ipython",
    "version": 3
   },
   "file_extension": ".py",
   "mimetype": "text/x-python",
   "name": "python",
   "nbconvert_exporter": "python",
   "pygments_lexer": "ipython3",
   "version": "3.6.4"
  }
 },
 "nbformat": 4,
 "nbformat_minor": 2
}
