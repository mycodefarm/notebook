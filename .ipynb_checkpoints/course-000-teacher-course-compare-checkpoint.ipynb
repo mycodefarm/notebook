{
 "cells": [
  {
   "cell_type": "code",
   "execution_count": 14,
   "metadata": {},
   "outputs": [],
   "source": [
    "import pandas as pd\n",
    "import jutil"
   ]
  },
  {
   "cell_type": "code",
   "execution_count": 2,
   "metadata": {},
   "outputs": [
    {
     "data": {
      "text/html": [
       "<div>\n",
       "<style>\n",
       "    .dataframe thead tr:only-child th {\n",
       "        text-align: right;\n",
       "    }\n",
       "\n",
       "    .dataframe thead th {\n",
       "        text-align: left;\n",
       "    }\n",
       "\n",
       "    .dataframe tbody tr th {\n",
       "        vertical-align: top;\n",
       "    }\n",
       "</style>\n",
       "<table border=\"1\" class=\"dataframe\">\n",
       "  <thead>\n",
       "    <tr style=\"text-align: right;\">\n",
       "      <th></th>\n",
       "      <th>course_code</th>\n",
       "      <th>course_name</th>\n",
       "      <th>pmark</th>\n",
       "      <th>teacher</th>\n",
       "      <th>term_name</th>\n",
       "    </tr>\n",
       "  </thead>\n",
       "  <tbody>\n",
       "    <tr>\n",
       "      <th>0</th>\n",
       "      <td>3243781</td>\n",
       "      <td>高级语言程序设计</td>\n",
       "      <td>80.0</td>\n",
       "      <td>陈帆</td>\n",
       "      <td>2009-2010第1学期</td>\n",
       "    </tr>\n",
       "    <tr>\n",
       "      <th>1</th>\n",
       "      <td>3244155</td>\n",
       "      <td>JAVA程序设计B</td>\n",
       "      <td>86.0</td>\n",
       "      <td>陈帆</td>\n",
       "      <td>2012-2013第2学期</td>\n",
       "    </tr>\n",
       "    <tr>\n",
       "      <th>2</th>\n",
       "      <td>3244155</td>\n",
       "      <td>JAVA程序设计B</td>\n",
       "      <td>79.0</td>\n",
       "      <td>陈帆</td>\n",
       "      <td>2012-2013第2学期</td>\n",
       "    </tr>\n",
       "    <tr>\n",
       "      <th>3</th>\n",
       "      <td>3200557</td>\n",
       "      <td>计算机导论A</td>\n",
       "      <td>88.0</td>\n",
       "      <td>陈帆</td>\n",
       "      <td>2010-2011第1学期</td>\n",
       "    </tr>\n",
       "    <tr>\n",
       "      <th>4</th>\n",
       "      <td>3200557</td>\n",
       "      <td>计算机导论A</td>\n",
       "      <td>65.0</td>\n",
       "      <td>陈帆</td>\n",
       "      <td>2010-2011第1学期</td>\n",
       "    </tr>\n",
       "  </tbody>\n",
       "</table>\n",
       "</div>"
      ],
      "text/plain": [
       "  course_code course_name  pmark teacher      term_name\n",
       "0     3243781    高级语言程序设计   80.0      陈帆  2009-2010第1学期\n",
       "1     3244155   JAVA程序设计B   86.0      陈帆  2012-2013第2学期\n",
       "2     3244155   JAVA程序设计B   79.0      陈帆  2012-2013第2学期\n",
       "3     3200557      计算机导论A   88.0      陈帆  2010-2011第1学期\n",
       "4     3200557      计算机导论A   65.0      陈帆  2010-2011第1学期"
      ]
     },
     "execution_count": 2,
     "metadata": {},
     "output_type": "execute_result"
    }
   ],
   "source": [
    "sql = \"select course_code,course_name,pmark,teacher,term_name \\\n",
    "from view_stu_course_mark where teacher='陈帆'\"\n",
    "df = jutil.load_pd_df(sql)\n",
    "df.head()"
   ]
  },
  {
   "cell_type": "markdown",
   "metadata": {},
   "source": [
    "## 1.计算各个课程平均分和人数和波动性"
   ]
  },
  {
   "cell_type": "code",
   "execution_count": 7,
   "metadata": {},
   "outputs": [
    {
     "data": {
      "text/plain": [
       "{'count': {'JAVA程序设计B': 461,\n",
       "  'Java程序设计': 252,\n",
       "  'Java程序设计实验': 135,\n",
       "  '计算机导论A': 581,\n",
       "  '软件基础训练A': 179,\n",
       "  '软件开发实习': 564,\n",
       "  '高级#语言程序设计': 74,\n",
       "  '高级编程课程设计': 407,\n",
       "  '高级语言程序设计': 693,\n",
       "  '高级语言程序设计实验': 132},\n",
       " 'mean': {'JAVA程序设计B': 80.41865509761388,\n",
       "  'Java程序设计': 81.8015873015873,\n",
       "  'Java程序设计实验': 93.1037037037037,\n",
       "  '计算机导论A': 80.19965576592082,\n",
       "  '软件基础训练A': 85.6927374301676,\n",
       "  '软件开发实习': 86.97695035460993,\n",
       "  '高级#语言程序设计': 74.39189189189189,\n",
       "  '高级编程课程设计': 89.73464373464374,\n",
       "  '高级语言程序设计': 74.84271284271284,\n",
       "  '高级语言程序设计实验': 77.65151515151516}}"
      ]
     },
     "execution_count": 7,
     "metadata": {},
     "output_type": "execute_result"
    }
   ],
   "source": [
    "d1 = df.groupby(['course_name']).agg({'pmark':'mean','course_code':'count'}).rename(columns={'pmark':'mean','course_code':'count'}).to_dict()\n",
    "d1"
   ]
  },
  {
   "cell_type": "code",
   "execution_count": 13,
   "metadata": {},
   "outputs": [
    {
     "data": {
      "text/plain": [
       "{'std': {'JAVA程序设计B': 13.896371090743564,\n",
       "  'Java程序设计': 8.79289811332941,\n",
       "  'Java程序设计实验': 4.834999998570862,\n",
       "  '计算机导论A': 9.22111893232363,\n",
       "  '软件基础训练A': 5.711264524111768,\n",
       "  '软件开发实习': 7.189727766372453,\n",
       "  '高级#语言程序设计': 19.337533641357115,\n",
       "  '高级编程课程设计': 5.678548677445845,\n",
       "  '高级语言程序设计': 16.043467675586683,\n",
       "  '高级语言程序设计实验': 18.942655467491193}}"
      ]
     },
     "execution_count": 13,
     "metadata": {},
     "output_type": "execute_result"
    }
   ],
   "source": [
    "d3 =  df.groupby(['course_name']).agg({'pmark':'std'}).rename(columns={'pmark':'std'}).to_dict()\n",
    "d3"
   ]
  },
  {
   "cell_type": "markdown",
   "metadata": {},
   "source": [
    "## 2.计算各个课程挂科率和高分率"
   ]
  },
  {
   "cell_type": "code",
   "execution_count": 8,
   "metadata": {},
   "outputs": [
    {
     "data": {
      "text/plain": [
       "{'count': {'JAVA程序设计B': 23,\n",
       "  'Java程序设计': 5,\n",
       "  'Java程序设计实验': 1,\n",
       "  '计算机导论A': 4,\n",
       "  '软件开发实习': 1,\n",
       "  '高级#语言程序设计': 9,\n",
       "  '高级语言程序设计': 62,\n",
       "  '高级语言程序设计实验': 17}}"
      ]
     },
     "execution_count": 8,
     "metadata": {},
     "output_type": "execute_result"
    }
   ],
   "source": [
    "d2 = df[df['pmark']<60].groupby('course_name').agg({'pmark':'count'}).rename(columns={'pmark':'count'}).to_dict()\n",
    "d2"
   ]
  },
  {
   "cell_type": "code",
   "execution_count": 9,
   "metadata": {},
   "outputs": [
    {
     "data": {
      "text/plain": [
       "{'count': {'JAVA程序设计B': 206,\n",
       "  'Java程序设计': 104,\n",
       "  'Java程序设计实验': 134,\n",
       "  '计算机导论A': 208,\n",
       "  '软件基础训练A': 124,\n",
       "  '软件开发实习': 394,\n",
       "  '高级#语言程序设计': 25,\n",
       "  '高级编程课程设计': 345,\n",
       "  '高级语言程序设计': 197,\n",
       "  '高级语言程序设计实验': 61}}"
      ]
     },
     "execution_count": 9,
     "metadata": {},
     "output_type": "execute_result"
    }
   ],
   "source": [
    "d3 = df[df['pmark']>=85].groupby('course_name').agg({'pmark':'count'}).rename(columns={'pmark':'count'}).to_dict()\n",
    "d3"
   ]
  }
 ],
 "metadata": {
  "kernelspec": {
   "display_name": "Python 3",
   "language": "python",
   "name": "python3"
  },
  "language_info": {
   "codemirror_mode": {
    "name": "ipython",
    "version": 3
   },
   "file_extension": ".py",
   "mimetype": "text/x-python",
   "name": "python",
   "nbconvert_exporter": "python",
   "pygments_lexer": "ipython3",
   "version": "3.6.4"
  }
 },
 "nbformat": 4,
 "nbformat_minor": 2
}
