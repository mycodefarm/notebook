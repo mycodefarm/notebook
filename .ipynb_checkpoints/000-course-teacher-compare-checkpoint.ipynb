{
 "cells": [
  {
   "cell_type": "code",
   "execution_count": 1,
   "metadata": {},
   "outputs": [],
   "source": [
    "import pandas as pd\n",
    "import jutil\n",
    "import matplotlib.pyplot as plt"
   ]
  },
  {
   "cell_type": "code",
   "execution_count": 2,
   "metadata": {},
   "outputs": [
    {
     "data": {
      "text/html": [
       "<div>\n",
       "<style>\n",
       "    .dataframe thead tr:only-child th {\n",
       "        text-align: right;\n",
       "    }\n",
       "\n",
       "    .dataframe thead th {\n",
       "        text-align: left;\n",
       "    }\n",
       "\n",
       "    .dataframe tbody tr th {\n",
       "        vertical-align: top;\n",
       "    }\n",
       "</style>\n",
       "<table border=\"1\" class=\"dataframe\">\n",
       "  <thead>\n",
       "    <tr style=\"text-align: right;\">\n",
       "      <th></th>\n",
       "      <th>course_code</th>\n",
       "      <th>course_name</th>\n",
       "      <th>pmark</th>\n",
       "      <th>teacher</th>\n",
       "      <th>term_name</th>\n",
       "    </tr>\n",
       "  </thead>\n",
       "  <tbody>\n",
       "    <tr>\n",
       "      <th>0</th>\n",
       "      <td>0171002</td>\n",
       "      <td>工程测量</td>\n",
       "      <td>89.0</td>\n",
       "      <td>徐韶光</td>\n",
       "      <td>2016-2017第1学期</td>\n",
       "    </tr>\n",
       "    <tr>\n",
       "      <th>1</th>\n",
       "      <td>0171002</td>\n",
       "      <td>工程测量</td>\n",
       "      <td>65.0</td>\n",
       "      <td>徐韶光</td>\n",
       "      <td>2016-2017第1学期</td>\n",
       "    </tr>\n",
       "    <tr>\n",
       "      <th>2</th>\n",
       "      <td>0171002</td>\n",
       "      <td>工程测量</td>\n",
       "      <td>64.0</td>\n",
       "      <td>熊永良</td>\n",
       "      <td>2009-2010第2学期</td>\n",
       "    </tr>\n",
       "    <tr>\n",
       "      <th>3</th>\n",
       "      <td>0171002</td>\n",
       "      <td>工程测量</td>\n",
       "      <td>64.0</td>\n",
       "      <td>孙美玲</td>\n",
       "      <td>2009-2010第2学期</td>\n",
       "    </tr>\n",
       "    <tr>\n",
       "      <th>4</th>\n",
       "      <td>0171002</td>\n",
       "      <td>工程测量</td>\n",
       "      <td>66.0</td>\n",
       "      <td>熊永良</td>\n",
       "      <td>2010-2011第2学期</td>\n",
       "    </tr>\n",
       "  </tbody>\n",
       "</table>\n",
       "</div>"
      ],
      "text/plain": [
       "  course_code course_name  pmark teacher      term_name\n",
       "0     0171002        工程测量   89.0     徐韶光  2016-2017第1学期\n",
       "1     0171002        工程测量   65.0     徐韶光  2016-2017第1学期\n",
       "2     0171002        工程测量   64.0     熊永良  2009-2010第2学期\n",
       "3     0171002        工程测量   64.0     孙美玲  2009-2010第2学期\n",
       "4     0171002        工程测量   66.0     熊永良  2010-2011第2学期"
      ]
     },
     "execution_count": 2,
     "metadata": {},
     "output_type": "execute_result"
    }
   ],
   "source": [
    "sql = \"select course_code,course_name,pmark,teacher,term_name \\\n",
    "from view_stu_course_mark where course_code='0171002' and exam_type='正考' \"\n",
    "df = jutil.load_pd_df(sql)\n",
    "df.head()"
   ]
  },
  {
   "cell_type": "code",
   "execution_count": 10,
   "metadata": {},
   "outputs": [],
   "source": [
    "# 计算各个老师的平均分\n",
    "g = df.groupby(['teacher','term_name'])\n",
    "tea_mean_mark = g.agg({'pmark':'mean','course_code':'count'})"
   ]
  },
  {
   "cell_type": "code",
   "execution_count": 26,
   "metadata": {},
   "outputs": [
    {
     "data": {
      "text/plain": [
       "{'任自珍', '冯威', '刘成龙', '孙美玲', '张同刚', '徐韶光', '游为', '熊永良', '王化光', '袁林果', '高淑照'}"
      ]
     },
     "execution_count": 26,
     "metadata": {},
     "output_type": "execute_result"
    }
   ],
   "source": [
    "set(g.teacher.all().values)"
   ]
  },
  {
   "cell_type": "code",
   "execution_count": 27,
   "metadata": {},
   "outputs": [
    {
     "data": {
      "text/plain": [
       "{'任自珍': [68.504587155963307],\n",
       " '冯威': [69.25],\n",
       " '刘成龙': [68.522935779816507, 73.375939849624061],\n",
       " '孙美玲': [73.136842105263156,\n",
       "  66.285714285714292,\n",
       "  76.592592592592595,\n",
       "  62.100000000000001,\n",
       "  70.65789473684211],\n",
       " '张同刚': [79.911764705882348],\n",
       " '徐韶光': [70.28356164383564, 67.903225806451616, 63.0],\n",
       " '游为': [70.664000000000001],\n",
       " '熊永良': [71.75555555555556,\n",
       "  75.875,\n",
       "  65.794642857142861,\n",
       "  60.074766355140184,\n",
       "  71.595505617977523,\n",
       "  77.281818181818181],\n",
       " '王化光': [72.094594594594597],\n",
       " '袁林果': [87.36666666666666],\n",
       " '高淑照': [64.438848920863308,\n",
       "  68.71844660194175,\n",
       "  66.759036144578317,\n",
       "  71.788888888888891]}"
      ]
     },
     "execution_count": 27,
     "metadata": {},
     "output_type": "execute_result"
    }
   ],
   "source": [
    "tea_mean_mark_dict = tea_mean_mark.to_dict()\n",
    "mean_marks = tea_mean_mark_dict['pmark']\n",
    "tea_marks = {}\n",
    "for k in mean_marks.keys():\n",
    "    marks = tea_marks.get(k[0],[])\n",
    "    marks.append(mean_marks[k])\n",
    "    tea_marks[k[0]] = marks\n",
    "tea_marks"
   ]
  },
  {
   "cell_type": "code",
   "execution_count": 28,
   "metadata": {},
   "outputs": [
    {
     "data": {
      "text/plain": [
       "{'任自珍': 68.504587155963307,\n",
       " '冯威': 69.25,\n",
       " '刘成龙': 70.949437814720284,\n",
       " '孙美玲': 69.754608744082432,\n",
       " '张同刚': 79.911764705882348,\n",
       " '徐韶光': 67.06226248342908,\n",
       " '游为': 70.664000000000001,\n",
       " '熊永良': 70.39621476127239,\n",
       " '王化光': 72.094594594594597,\n",
       " '袁林果': 87.36666666666666,\n",
       " '高淑照': 67.926305139068063}"
      ]
     },
     "execution_count": 28,
     "metadata": {},
     "output_type": "execute_result"
    }
   ],
   "source": [
    "tea_final_mean_marks = {}\n",
    "for name in tea_marks.keys():\n",
    "    marks = tea_marks[name]\n",
    "    tea_final_mean_marks[name] = sum(marks)/len(marks)\n",
    "tea_final_mean_marks"
   ]
  },
  {
   "cell_type": "code",
   "execution_count": 30,
   "metadata": {},
   "outputs": [
    {
     "data": {
      "image/png": "[encoded data removed]",
      "text/plain": [
       "<matplotlib.figure.Figure at 0x7ff8cce56278>"
      ]
     },
     "metadata": {},
     "output_type": "display_data"
    }
   ],
   "source": [
    "plt.plot(tea_final_mean_marks.keys(),tea_final_mean_marks.values())\n",
    "plt.show()"
   ]
  },
  {
   "cell_type": "code",
   "execution_count": 9,
   "metadata": {},
   "outputs": [],
   "source": [
    "# 上课历史对比\n"
   ]
  },
  {
   "cell_type": "code",
   "execution_count": 47,
   "metadata": {},
   "outputs": [
    {
     "data": {
      "text/plain": [
       "{'任自珍': 0.082568807339449546,\n",
       " '冯威': 0.17307692307692307,\n",
       " '刘成龙': 0.13602814375388012,\n",
       " '孙美玲': 0.10063046505151767,\n",
       " '张同刚': 0.0,\n",
       " '徐韶光': 0.14361958069426031,\n",
       " '游为': 0.14399999999999999,\n",
       " '熊永良': 0.13836219895768159,\n",
       " '王化光': 0.14864864864864866,\n",
       " '袁林果': 0.0,\n",
       " '高淑照': 0.20057859666179795}"
      ]
     },
     "execution_count": 47,
     "metadata": {},
     "output_type": "execute_result"
    }
   ],
   "source": [
    "# 计算各个老师的挂科率\n",
    "fail_dict = df[df.pmark<60.0].groupby(['teacher','term_name']).agg({'course_code':'count'}).to_dict()['course_code']\n",
    "all_dict = tea_mean_mark.to_dict()['course_code']\n",
    "fail_dict\n",
    "hang_dict = {}\n",
    "for k in all_dict.keys():\n",
    "    fail_cnt = fail_dict.get(k,0)\n",
    "    hang_list = hang_dict.get(k[0],[])\n",
    "    hang_list.append(fail_cnt/all_dict[k])\n",
    "    hang_dict[k[0]] = hang_list\n",
    "hang_dict\n",
    "hang_rate = {}\n",
    "for name in hang_dict.keys():\n",
    "    hang_list = hang_dict[name]\n",
    "    hang_rate[name] = sum(hang_list)/len(hang_list)\n",
    "hang_rate"
   ]
  },
  {
   "cell_type": "code",
   "execution_count": null,
   "metadata": {},
   "outputs": [],
   "source": []
  },
  {
   "cell_type": "code",
   "execution_count": 5,
   "metadata": {},
   "outputs": [],
   "source": [
    "# 计算各个老师的高分率和低分率"
   ]
  },
  {
   "cell_type": "code",
   "execution_count": null,
   "metadata": {},
   "outputs": [],
   "source": [
    "# 每个老师给分的波动性(方差),平均分和挂科率的\n"
   ]
  },
  {
   "cell_type": "code",
   "execution_count": 50,
   "metadata": {},
   "outputs": [
    {
     "data": {
      "text/plain": [
       "{'任自珍': 109,\n",
       " '冯威': 104,\n",
       " '刘成龙': 242,\n",
       " '孙美玲': 315,\n",
       " '张同刚': 34,\n",
       " '徐韶光': 134,\n",
       " '游为': 125,\n",
       " '熊永良': 636,\n",
       " '王化光': 74,\n",
       " '袁林果': 30,\n",
       " '高淑照': 415}"
      ]
     },
     "execution_count": 50,
     "metadata": {},
     "output_type": "execute_result"
    }
   ],
   "source": [
    "# 老师带过的学生数量\n",
    "tea_stu_count = df.groupby('teacher').agg({'pmark':'count'}).to_dict()['pmark']\n",
    "tea_stu_count"
   ]
  }
 ],
 "metadata": {
  "kernelspec": {
   "display_name": "Python 3",
   "language": "python",
   "name": "python3"
  },
  "language_info": {
   "codemirror_mode": {
    "name": "ipython",
    "version": 3
   },
   "file_extension": ".py",
   "mimetype": "text/x-python",
   "name": "python",
   "nbconvert_exporter": "python",
   "pygments_lexer": "ipython3",
   "version": "3.6.4"
  }
 },
 "nbformat": 4,
 "nbformat_minor": 2
}
