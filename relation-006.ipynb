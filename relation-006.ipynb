{
 "cells": [
  {
   "cell_type": "markdown",
   "metadata": {},
   "source": [
    "## 计算一个专业各个课程的关联度,然后存储起来"
   ]
  },
  {
   "cell_type": "code",
   "execution_count": 2,
   "metadata": {},
   "outputs": [],
   "source": [
    "import requests\n",
    "import jutil\n",
    "import time\n",
    "import json\n",
    "import itertools\n",
    "import math\n",
    "import threading"
   ]
  },
  {
   "cell_type": "code",
   "execution_count": 3,
   "metadata": {},
   "outputs": [],
   "source": [
    "def dump_obj(path,obj):\n",
    "    '''先清空再保存对象到文件'''\n",
    "    with open(path,'w') as f:\n",
    "        json.dump(obj,f,ensure_ascii=False)"
   ]
  },
  {
   "cell_type": "code",
   "execution_count": 85,
   "metadata": {},
   "outputs": [],
   "source": [
    "class CalRelation(threading.Thread):\n",
    "    def __init__(self,speciality_code,grade='2015',temp_file_dir='/tmp/'):\n",
    "        threading.Thread.__init__(self)\n",
    "        self.speciality_code = speciality_code\n",
    "        self.grade=grade\n",
    "        self.temp_file_dir = temp_file_dir + self.speciality_code\n",
    "        self.course_records = self.get_course_code()\n",
    "        self.beginIndex = 0\n",
    "        self.endIndex = len(self.course_records)\n",
    "        self.isRun = True # 控制开关\n",
    "        self.single_links = []\n",
    "        self.isFinished = self.get_process()\n",
    "    \n",
    "    def get_process(self):\n",
    "        try:\n",
    "            with open(self.temp_file_dir+'_process.txt','r') as f:\n",
    "                process = json.load(f)\n",
    "                self.beginIndex = process['beginIndex']\n",
    "                if process['isFinished']:\n",
    "                    self.isRun = False\n",
    "                    return True\n",
    "        except:\n",
    "            pass\n",
    "        return False\n",
    "        \n",
    "    def run(self):\n",
    "        '''\n",
    "        先读取process记录,取出计算了多少\n",
    "        再开始计算links,中途保存结果\n",
    "        '''\n",
    "        if self.isRun:\n",
    "            self.get_single_links()\n",
    "            if self.beginIndex==self.endIndex:\n",
    "                links,nodes = self.get_nodes_and_links()\n",
    "                # 存到文件里\n",
    "                dump_obj(self.temp_file_dir+'_links.txt',links)\n",
    "                dump_obj(self.temp_file_dir+'_nodes.txt',nodes)\n",
    "                self.isFinished = True\n",
    "                self.stop()\n",
    "            \n",
    "\n",
    "    def stop(self):\n",
    "        '''停止本次计算,保存结果,清理垃圾'''\n",
    "        self.isRun = False\n",
    "        process = {}\n",
    "        process['beginIndex'] = self.beginIndex\n",
    "        process['endIndex'] = self.endIndex\n",
    "        process['isFinished'] = self.isFinished\n",
    "        # 写入文件\n",
    "        dump_obj(self.temp_file_dir+'_process.txt',process)\n",
    "        print('已停止')\n",
    "    \n",
    "    def get_course_code(self):\n",
    "        '''如果本地没有,则从数据库查出课程名和代码,然后组合成一对对的返回'''\n",
    "        t_path = self.temp_file_dir+ '_course_records.txt'\n",
    "        try:\n",
    "            with open(t_path,'r') as f:\n",
    "                c = json.load(f)\n",
    "                return c\n",
    "        except:\n",
    "            sql = \"select DISTINCT(course_name),course_code from view_stu_course_mark where speciality_code='%s' and course_type='必'  \\\n",
    "            and grade='%s'\" %(self.speciality_code,self.grade)\n",
    "            df = jutil.load_pd_df(sql)\n",
    "            d_records = df.to_dict('records')\n",
    "            records = []\n",
    "#             n = len(d_records)\n",
    "            n = 12\n",
    "            for i in range(n-1):\n",
    "                for j in range(i+1,n):\n",
    "                    t = (d_records[i],d_records[j])\n",
    "                    records.append(t)\n",
    "            dump_obj(t_path,records)\n",
    "        return records\n",
    "    \n",
    "    def cal_relation(self,code1,code2):\n",
    "        '''计算相似度调用'''\n",
    "        url2 = 'http://localhost:8082/course/relation/'\n",
    "        url = url2+code1+'/'+code2\n",
    "        re = requests.get(url)\n",
    "        return re.json()['data']\n",
    "    \n",
    "    def drop_nan(self,num):\n",
    "        '''如果非数字,则返回0'''\n",
    "        return 0 if math.isnan(num) else num/100\n",
    "\n",
    "    def get_single_links(self):\n",
    "        '''计算所有课程的两两关系,复杂度为n(n-1)/2'''\n",
    "        t_path = self.temp_file_dir+ '_single_links.txt'\n",
    "        self.single_links.clear() # 因为每次调用run方法,都需要重新执行\n",
    "        # 先从文件中读出已有的\n",
    "        try:\n",
    "            with open(t_path,'r') as f:\n",
    "                l = f.readlines()\n",
    "                for x in l:\n",
    "                    d = json.loads(x)\n",
    "                    self.single_links.append(d)\n",
    "        except:\n",
    "            pass\n",
    "        \n",
    "        batch_link = [] # 辅助写入文件的\n",
    "        begin_time = time.time()\n",
    "        for i in range(self.beginIndex,self.endIndex):\n",
    "            if not self.isRun:\n",
    "                break\n",
    "            code1 = self.course_records[i][0]['course_code']\n",
    "            code2 = self.course_records[i][1]['course_code']\n",
    "            result = self.cal_relation(code1,code2)\n",
    "            link = {}\n",
    "            link['source'] = self.course_records[i][0]['course_name']\n",
    "            link['target'] = self.course_records[i][1]['course_name']\n",
    "            link['prob'] = self.drop_nan(float(result['prob']))\n",
    "            link['bg_prob'] = self.drop_nan(float(result['bg_prob']))\n",
    "            link['total'] = result['total']\n",
    "            self.single_links.append(link)\n",
    "            batch_link.append(link)\n",
    "            # 周期性地写入文件,保存结果,因为计算量很大,需要很长时间\n",
    "            if len(batch_link) > 30 or (i==self.endIndex-1):\n",
    "                with open(t_path,'a') as f:\n",
    "                    for x in batch_link:\n",
    "                        json.dump(x,f)\n",
    "                        f.write('\\n')\n",
    "                    end_time = time.time()\n",
    "#                     print('写入%d条信息,耗时%.2f 秒' % (len(batch_link),end_time-begin_time))\n",
    "                    batch_link.clear()\n",
    "                    begin_time = end_time\n",
    "                    self.beginIndex = i+1\n",
    "        \n",
    "    def add_one_node_record(self,nodeRecord,name,prob):\n",
    "        if name in nodeRecord:\n",
    "            nodeRecord[name]['edgeCount'] += 1\n",
    "            nodeRecord[name]['probSum'] += prob\n",
    "        else :\n",
    "            record = {}\n",
    "            record['name'] = name\n",
    "            record['edgeCount'] = 1\n",
    "            record['probSum'] = prob\n",
    "            nodeRecord[name] = record\n",
    "            \n",
    "    def get_nodes_and_links(self):\n",
    "        '''根据单个的课程间概率生成echarts展示的数据结构\n",
    "        包括nodes和links\n",
    "        nodes单个的结构如下:\n",
    "        {\n",
    "            category: 0,\n",
    "            name: '高等数学',\n",
    "            value: 10,\n",
    "            symbolSize: 50 //圆圈的大小,一般大于30,这里我用与之相连的课程数和他们的概率来计算\n",
    "        }\n",
    "        links的单个结构如下:\n",
    "        { source: '高等数学', target: '大学物理' }\n",
    "        '''\n",
    "        nodes = []\n",
    "        nodeRecord = {} # 帮助计算node,存储的结构{name:{edgeCount:0,probSum:0.0}}\n",
    "        links = []\n",
    "        for slink in self.single_links:\n",
    "            # 舍弃掉那些人数少的例子\n",
    "            if slink['total'] > 30:\n",
    "                link = {}\n",
    "                link['source'] = slink['source']\n",
    "                link['target'] = slink['target']\n",
    "                links.append(link)\n",
    "                self.add_one_node_record(nodeRecord,slink['source'],slink['prob'])\n",
    "                self.add_one_node_record(nodeRecord,slink['target'],slink['prob'])\n",
    "        # 计算nodes\n",
    "        for name,v in nodeRecord.items():\n",
    "            node = {}\n",
    "            node['category'] = 0\n",
    "            node['name'] = name\n",
    "            node['symbolSize'] = v['edgeCount'] + v['probSum']*2\n",
    "            nodes.append(node)\n",
    "        return links,nodes"
   ]
  },
  {
   "cell_type": "markdown",
   "metadata": {},
   "source": [
    "## 测试"
   ]
  },
  {
   "cell_type": "code",
   "execution_count": 91,
   "metadata": {},
   "outputs": [],
   "source": [
    "cal = CalRelation(speciality_code='0501',temp_file_dir='./')"
   ]
  },
  {
   "cell_type": "code",
   "execution_count": 92,
   "metadata": {},
   "outputs": [],
   "source": [
    "cal.start()\n",
    "# cal.join()"
   ]
  },
  {
   "cell_type": "code",
   "execution_count": 87,
   "metadata": {},
   "outputs": [
    {
     "name": "stdout",
     "output_type": "stream",
     "text": [
      "已停止\n"
     ]
    }
   ],
   "source": [
    "cal.stop()"
   ]
  },
  {
   "cell_type": "code",
   "execution_count": 95,
   "metadata": {},
   "outputs": [
    {
     "data": {
      "text/plain": [
       "False"
      ]
     },
     "execution_count": 95,
     "metadata": {},
     "output_type": "execute_result"
    }
   ],
   "source": [
    "cal.isAlive()"
   ]
  },
  {
   "cell_type": "markdown",
   "metadata": {},
   "source": [
    "## 修正圆圈的大小"
   ]
  },
  {
   "cell_type": "code",
   "execution_count": 38,
   "metadata": {},
   "outputs": [],
   "source": [
    "# 使最大不超过30\n",
    "def correct_simbol_size(path):\n",
    "    nodes = None\n",
    "    with open('nodes.txt','r') as f:\n",
    "        nodes = json.load(f)\n",
    "#     print(nodes)\n",
    "    # 找出最大的\n",
    "    max_size = 0\n",
    "    for node in nodes:\n",
    "        if node['symbolSize']>max_size:\n",
    "            max_size = node['symbolSize']\n",
    "    scale = max_size/30\n",
    "    nodes_now = []\n",
    "    for node in nodes:\n",
    "        node['symbolSize'] /= scale\n",
    "        # 舍去小的\n",
    "        if node['symbolSize'] > 1:\n",
    "            nodes_now.append(node)\n",
    "    dump_obj(path,nodes_now)"
   ]
  },
  {
   "cell_type": "code",
   "execution_count": 39,
   "metadata": {},
   "outputs": [],
   "source": [
    "correct_simbol_size('new_nondes.txt')"
   ]
  },
  {
   "cell_type": "markdown",
   "metadata": {},
   "source": [
    "## 组合上述方法"
   ]
  },
  {
   "cell_type": "code",
   "execution_count": 26,
   "metadata": {},
   "outputs": [],
   "source": [
    "def final_cal_relation(speciality_code,grade,store_links_path='links.txt',store_nodes_path='nodes.txt'):\n",
    "    course_records = get_course_code(speciality_code,grade)\n",
    "    print('已获取该专业课程')\n",
    "    single_links = get_single_links(course_records)\n",
    "    print('完成所有课程关系的计算')\n",
    "    links,nodes = get_nodes_and_links(single_links)\n",
    "    print('已生成nodes和links结构')\n",
    "    # 存到文件里\n",
    "    dump_obj(store_links_path,links)\n",
    "    dump_obj(store_nodes_path,nodes)\n",
    "    print('已存储在文件里')\n",
    "    # TODO 记录所有时间\n",
    "    # 改成多线程下载"
   ]
  },
  {
   "cell_type": "code",
   "execution_count": 28,
   "metadata": {},
   "outputs": [],
   "source": [
    "#final_cal_relation('0501','2015')\n",
    "# 127.0.0.1 - - [18/Mar/2018 00:49:00] \"GET /course/relation/8010220/7001152 HTTP/1.1\" 500 "
   ]
  },
  {
   "cell_type": "markdown",
   "metadata": {},
   "source": [
    "1. 修改代码,可以存储中间结果,这样随时可中断\n",
    "2. 多线程计算,只考虑按专业来分,一个专业一个线程\n",
    "3. 界面可控制整个过程,将中间结果存入文件"
   ]
  }
 ],
 "metadata": {
  "kernelspec": {
   "display_name": "Python 3",
   "language": "python",
   "name": "python3"
  },
  "language_info": {
   "codemirror_mode": {
    "name": "ipython",
    "version": 3
   },
   "file_extension": ".py",
   "mimetype": "text/x-python",
   "name": "python",
   "nbconvert_exporter": "python",
   "pygments_lexer": "ipython3",
   "version": "3.6.4"
  }
 },
 "nbformat": 4,
 "nbformat_minor": 2
}
