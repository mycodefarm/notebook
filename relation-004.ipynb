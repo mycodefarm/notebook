{
 "cells": [
  {
   "cell_type": "code",
   "execution_count": 1,
   "metadata": {},
   "outputs": [],
   "source": [
    "import pandas as pd\n",
    "import jutil"
   ]
  },
  {
   "cell_type": "code",
   "execution_count": 112,
   "metadata": {},
   "outputs": [
    {
     "data": {
      "text/html": [
       "<div>\n",
       "<style>\n",
       "    .dataframe thead tr:only-child th {\n",
       "        text-align: right;\n",
       "    }\n",
       "\n",
       "    .dataframe thead th {\n",
       "        text-align: left;\n",
       "    }\n",
       "\n",
       "    .dataframe tbody tr th {\n",
       "        vertical-align: top;\n",
       "    }\n",
       "</style>\n",
       "<table border=\"1\" class=\"dataframe\">\n",
       "  <thead>\n",
       "    <tr style=\"text-align: right;\">\n",
       "      <th></th>\n",
       "      <th>code1</th>\n",
       "      <th>code2</th>\n",
       "      <th>mark1</th>\n",
       "      <th>mark2</th>\n",
       "      <th>name1</th>\n",
       "      <th>name2</th>\n",
       "      <th>speciality_code</th>\n",
       "      <th>student_id</th>\n",
       "    </tr>\n",
       "  </thead>\n",
       "  <tbody>\n",
       "    <tr>\n",
       "      <th>0</th>\n",
       "      <td>6011310</td>\n",
       "      <td>6011320</td>\n",
       "      <td>35.0</td>\n",
       "      <td>67.0</td>\n",
       "      <td>高等数学Ⅰ</td>\n",
       "      <td>高等数学Ⅱ</td>\n",
       "      <td>0305</td>\n",
       "      <td>19970936</td>\n",
       "    </tr>\n",
       "    <tr>\n",
       "      <th>1</th>\n",
       "      <td>6011310</td>\n",
       "      <td>6011320</td>\n",
       "      <td>65.0</td>\n",
       "      <td>62.0</td>\n",
       "      <td>高等数学Ⅰ</td>\n",
       "      <td>高等数学Ⅱ</td>\n",
       "      <td>0101</td>\n",
       "      <td>19980016</td>\n",
       "    </tr>\n",
       "    <tr>\n",
       "      <th>2</th>\n",
       "      <td>6011310</td>\n",
       "      <td>6011320</td>\n",
       "      <td>60.0</td>\n",
       "      <td>28.0</td>\n",
       "      <td>高等数学Ⅰ</td>\n",
       "      <td>高等数学Ⅱ</td>\n",
       "      <td>0101</td>\n",
       "      <td>19980030</td>\n",
       "    </tr>\n",
       "    <tr>\n",
       "      <th>3</th>\n",
       "      <td>6011310</td>\n",
       "      <td>6011320</td>\n",
       "      <td>60.0</td>\n",
       "      <td>23.0</td>\n",
       "      <td>高等数学Ⅰ</td>\n",
       "      <td>高等数学Ⅱ</td>\n",
       "      <td>0101</td>\n",
       "      <td>19980173</td>\n",
       "    </tr>\n",
       "    <tr>\n",
       "      <th>4</th>\n",
       "      <td>6011310</td>\n",
       "      <td>6011320</td>\n",
       "      <td>67.0</td>\n",
       "      <td>71.0</td>\n",
       "      <td>高等数学Ⅰ</td>\n",
       "      <td>高等数学Ⅱ</td>\n",
       "      <td>0109</td>\n",
       "      <td>19980386</td>\n",
       "    </tr>\n",
       "  </tbody>\n",
       "</table>\n",
       "</div>"
      ],
      "text/plain": [
       "     code1    code2  mark1  mark2                      name1  \\\n",
       "0  6011310  6011320   35.0   67.0                      高等数学Ⅰ   \n",
       "1  6011310  6011320   65.0   62.0  高等数学Ⅰ                       \n",
       "2  6011310  6011320   60.0   28.0                      高等数学Ⅰ   \n",
       "3  6011310  6011320   60.0   23.0  高等数学Ⅰ                       \n",
       "4  6011310  6011320   67.0   71.0                      高等数学Ⅰ   \n",
       "\n",
       "                       name2 speciality_code student_id  \n",
       "0                      高等数学Ⅱ            0305   19970936  \n",
       "1  高等数学Ⅱ                                0101   19980016  \n",
       "2                      高等数学Ⅱ            0101   19980030  \n",
       "3  高等数学Ⅱ                                0101   19980173  \n",
       "4  高等数学Ⅱ                                0109   19980386  "
      ]
     },
     "execution_count": 112,
     "metadata": {},
     "output_type": "execute_result"
    }
   ],
   "source": [
    "sql = \"select DISTINCT(m1.student_id),m1.course_code as code1,m2.course_code as code2,m1.course_name as name1,m2.course_name as name2,m1.pmark as mark1,m2.pmark as mark2, \\\n",
    "m1.speciality_code from view_stu_course_mark m1 join view_stu_course_mark m2 on m1.student_id=m2.student_id \\\n",
    "where m1.course_code='6011310' and m2.course_code='6011320'\"\n",
    "df = jutil.load_pd_df(sql)\n",
    "df.head()"
   ]
  },
  {
   "cell_type": "code",
   "execution_count": 120,
   "metadata": {},
   "outputs": [
    {
     "name": "stdout",
     "output_type": "stream",
     "text": [
      "67.90256653423044\n",
      "60.21227064907062\n"
     ]
    }
   ],
   "source": [
    "# 求每门课成绩的平均值\n",
    "\n",
    "mark_mean1 = float(df.agg({'mark1':'mean'}))\n",
    "mark_mean2 = float(df.agg({'mark2':'mean'}))\n",
    "print(mark_mean1)\n",
    "print(mark_mean2)"
   ]
  },
  {
   "cell_type": "code",
   "execution_count": 119,
   "metadata": {},
   "outputs": [
    {
     "data": {
      "text/plain": [
       "pandas.core.series.Series"
      ]
     },
     "execution_count": 119,
     "metadata": {},
     "output_type": "execute_result"
    }
   ],
   "source": [
    "type(df.agg({'mark1':'mean'}))"
   ]
  },
  {
   "cell_type": "code",
   "execution_count": 104,
   "metadata": {},
   "outputs": [
    {
     "name": "stdout",
     "output_type": "stream",
     "text": [
      "92.68692512184316\n",
      "88.97126894107222\n",
      "78.06077536552945\n",
      "66.91380682321667\n"
     ]
    }
   ],
   "source": [
    "dist1 = (100-mark_mean1)/2 \n",
    "dist2 = (100-mark_mean2)/2 \n",
    "# 求优秀的分数线\n",
    "good_mark1 = mark_mean1+ dist1\n",
    "good_mark2 = mark_mean2+ dist2\n",
    "print(good_mark1)\n",
    "print(good_mark2)\n",
    "\n",
    "# 求差的分数线\n",
    "def bad_mark(mark_mean,dist):\n",
    "    line = mark_mean - dist\n",
    "    return line if line>60 else 60.0\n",
    "bad_mark1 = bad_mark(mark_mean1,dist1)\n",
    "bad_mark2 = bad_mark(mark_mean2,dist2)\n",
    "print(bad_mark1)\n",
    "print(bad_mark2)"
   ]
  },
  {
   "cell_type": "code",
   "execution_count": 105,
   "metadata": {},
   "outputs": [],
   "source": [
    "# 过滤出优秀和差的学生数据集\n",
    "\n",
    "stu_goods1 = df[df.mark1>good_mark1]\n",
    "stu_goods2 = df[df.mark2>good_mark2]\n",
    "stu_all_goods = stu_goods1[stu_goods1.mark2>good_mark2]\n",
    "\n",
    "stu_bads1 = df[df.mark1<bad_mark1]\n",
    "stu_bads2 = df[df.mark2<bad_mark2]\n",
    "stu_all_bads = stu_bads1[stu_bads1.mark2<bad_mark2]\n",
    "\n",
    "temp = df[df.mark1<=good_mark1]\n",
    "stu_normal1 = temp[temp.mark2>=bad_mark1]\n",
    "temp = stu_normal1[stu_normal1.mark2>=bad_mark2]\n",
    "stu_all_normal = temp[temp.mark2<=good_mark2]"
   ]
  },
  {
   "cell_type": "code",
   "execution_count": 106,
   "metadata": {},
   "outputs": [
    {
     "data": {
      "text/plain": [
       "0.061297860866438972"
      ]
     },
     "execution_count": 106,
     "metadata": {},
     "output_type": "execute_result"
    }
   ],
   "source": [
    "goods2_cnt = stu_goods2.count()['mark1']\n",
    "all_goods_cnt = stu_all_goods.count()['mark1']\n",
    "good_prob = all_goods_cnt /goods2_cnt\n",
    "good_prob"
   ]
  },
  {
   "cell_type": "code",
   "execution_count": 107,
   "metadata": {},
   "outputs": [
    {
     "data": {
      "text/plain": [
       "0.027107536490914508"
      ]
     },
     "execution_count": 107,
     "metadata": {},
     "output_type": "execute_result"
    }
   ],
   "source": [
    "bads2_cnt = stu_bads2.count()['mark2']\n",
    "all_bads_cnt = stu_all_bads.count()['mark2']\n",
    "bad_prob = all_bads_cnt/bads2_cnt\n",
    "bad_prob"
   ]
  },
  {
   "cell_type": "code",
   "execution_count": 108,
   "metadata": {},
   "outputs": [
    {
     "data": {
      "text/plain": [
       "0.54740871613663133"
      ]
     },
     "execution_count": 108,
     "metadata": {},
     "output_type": "execute_result"
    }
   ],
   "source": [
    "# 正常中的比例\n",
    "all_cnt = df.count()['student_id']\n",
    "normal2_cnt =  all_cnt - goods2_cnt - bads2_cnt\n",
    "all_normal_cnt = stu_all_normal.count()['mark2']\n",
    "normal_prob = all_normal_cnt/normal2_cnt\n",
    "normal_prob"
   ]
  },
  {
   "cell_type": "code",
   "execution_count": 109,
   "metadata": {},
   "outputs": [
    {
     "name": "stdout",
     "output_type": "stream",
     "text": [
      "56425\n",
      "5563\n",
      "341\n",
      "6714\n",
      "182\n",
      "44148\n",
      "24167\n"
     ]
    }
   ],
   "source": [
    "print(all_cnt)\n",
    "print(goods2_cnt)\n",
    "print(all_goods_cnt)\n",
    "print(bads2_cnt)\n",
    "print(all_bads_cnt)\n",
    "print(normal2_cnt)\n",
    "print(all_normal_cnt)"
   ]
  },
  {
   "cell_type": "code",
   "execution_count": 110,
   "metadata": {},
   "outputs": [
    {
     "data": {
      "text/plain": [
       "0.042599983709375254"
      ]
     },
     "execution_count": 110,
     "metadata": {},
     "output_type": "execute_result"
    }
   ],
   "source": [
    "# 最后按照比例分配权重\n",
    "cnt = goods2_cnt + bads2_cnt\n",
    "w_good = goods2_cnt / cnt\n",
    "w_bad = bads2_cnt / cnt\n",
    "# w_normal = normal2_cnt / all_cnt\n",
    "final_prob = w_good*good_prob+w_bad*bad_prob #+w_normal*normal_prob\n",
    "final_prob"
   ]
  },
  {
   "cell_type": "code",
   "execution_count": 111,
   "metadata": {},
   "outputs": [
    {
     "data": {
      "text/plain": [
       "0.4375719982277359"
      ]
     },
     "execution_count": 111,
     "metadata": {},
     "output_type": "execute_result"
    }
   ],
   "source": [
    "# 最后按照比例分配权重\n",
    "w_good = goods2_cnt / all_cnt\n",
    "w_bad = bads2_cnt / all_cnt\n",
    "w_normal = normal2_cnt / all_cnt\n",
    "final_prob = w_good * good_prob + w_bad * bad_prob + w_normal * normal_prob\n",
    "final_prob"
   ]
  },
  {
   "cell_type": "code",
   "execution_count": null,
   "metadata": {},
   "outputs": [],
   "source": []
  }
 ],
 "metadata": {
  "kernelspec": {
   "display_name": "Python 3",
   "language": "python",
   "name": "python3"
  },
  "language_info": {
   "codemirror_mode": {
    "name": "ipython",
    "version": 3
   },
   "file_extension": ".py",
   "mimetype": "text/x-python",
   "name": "python",
   "nbconvert_exporter": "python",
   "pygments_lexer": "ipython3",
   "version": "3.6.4"
  }
 },
 "nbformat": 4,
 "nbformat_minor": 2
}
