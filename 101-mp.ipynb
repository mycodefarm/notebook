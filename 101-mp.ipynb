{
 "cells": [
  {
   "cell_type": "code",
   "execution_count": 1,
   "metadata": {},
   "outputs": [],
   "source": [
    "import pandas as pd\n",
    "import jutil\n",
    "import matplotlib.pyplot as plt"
   ]
  },
  {
   "cell_type": "code",
   "execution_count": 22,
   "metadata": {},
   "outputs": [
    {
     "data": {
      "text/html": [
       "<div>\n",
       "<style>\n",
       "    .dataframe thead tr:only-child th {\n",
       "        text-align: right;\n",
       "    }\n",
       "\n",
       "    .dataframe thead th {\n",
       "        text-align: left;\n",
       "    }\n",
       "\n",
       "    .dataframe tbody tr th {\n",
       "        vertical-align: top;\n",
       "    }\n",
       "</style>\n",
       "<table border=\"1\" class=\"dataframe\">\n",
       "  <thead>\n",
       "    <tr style=\"text-align: right;\">\n",
       "      <th></th>\n",
       "      <th>course_code</th>\n",
       "      <th>course_name</th>\n",
       "      <th>mark</th>\n",
       "      <th>order_num</th>\n",
       "      <th>pmark</th>\n",
       "      <th>student_id</th>\n",
       "    </tr>\n",
       "  </thead>\n",
       "  <tbody>\n",
       "    <tr>\n",
       "      <th>0</th>\n",
       "      <td>1371022</td>\n",
       "      <td>力学</td>\n",
       "      <td>8</td>\n",
       "      <td>6.0</td>\n",
       "      <td>84.0</td>\n",
       "      <td>2014112092</td>\n",
       "    </tr>\n",
       "    <tr>\n",
       "      <th>1</th>\n",
       "      <td>1371022</td>\n",
       "      <td>力学</td>\n",
       "      <td>8</td>\n",
       "      <td>41.0</td>\n",
       "      <td>82.0</td>\n",
       "      <td>2014113973</td>\n",
       "    </tr>\n",
       "    <tr>\n",
       "      <th>2</th>\n",
       "      <td>1371022</td>\n",
       "      <td>力学</td>\n",
       "      <td>9</td>\n",
       "      <td>42.0</td>\n",
       "      <td>85.0</td>\n",
       "      <td>2014113974</td>\n",
       "    </tr>\n",
       "    <tr>\n",
       "      <th>3</th>\n",
       "      <td>1371022</td>\n",
       "      <td>力学</td>\n",
       "      <td>7</td>\n",
       "      <td>33.0</td>\n",
       "      <td>78.0</td>\n",
       "      <td>2014113975</td>\n",
       "    </tr>\n",
       "    <tr>\n",
       "      <th>4</th>\n",
       "      <td>1371022</td>\n",
       "      <td>力学</td>\n",
       "      <td>9</td>\n",
       "      <td>44.0</td>\n",
       "      <td>86.0</td>\n",
       "      <td>2014113976</td>\n",
       "    </tr>\n",
       "  </tbody>\n",
       "</table>\n",
       "</div>"
      ],
      "text/plain": [
       "  course_code course_name mark  order_num  pmark  student_id\n",
       "0     1371022          力学    8        6.0   84.0  2014112092\n",
       "1     1371022          力学    8       41.0   82.0  2014113973\n",
       "2     1371022          力学    9       42.0   85.0  2014113974\n",
       "3     1371022          力学    7       33.0   78.0  2014113975\n",
       "4     1371022          力学    9       44.0   86.0  2014113976"
      ]
     },
     "execution_count": 22,
     "metadata": {},
     "output_type": "execute_result"
    }
   ],
   "source": [
    "sql_mark = \"select m.student_id,m.mark,m.pmark,e.order_num,m.course_name,m.course_code from view_stu_course_mark m \\\n",
    "left join exam_mark_rank_student e on m.student_id=e.student_id \\\n",
    "where m.student_id like '2014%' and  m.speciality_code='1304' and course_code='1371022'\"\n",
    "df = jutil.load_pd_df(sql_mark)\n",
    "df.head()"
   ]
  },
  {
   "cell_type": "code",
   "execution_count": 23,
   "metadata": {},
   "outputs": [],
   "source": [
    "y_mark = list(df['pmark'])\n",
    "y_rank = list(df['order_num'])\n",
    "y_mark2 = list(pd.to_numeric(df['mark']))"
   ]
  },
  {
   "cell_type": "code",
   "execution_count": 25,
   "metadata": {},
   "outputs": [
    {
     "data": {
      "image/png": "[encoded data removed]",
      "text/plain": [
       "<matplotlib.figure.Figure at 0x7f965a56ee48>"
      ]
     },
     "metadata": {},
     "output_type": "display_data"
    }
   ],
   "source": [
    "\n",
    "plt.scatter(y_rank,y_mark)\n",
    "# plt.scatter(y_rank,y_mark2)\n",
    "plt.show()"
   ]
  },
  {
   "cell_type": "code",
   "execution_count": 27,
   "metadata": {},
   "outputs": [
    {
     "data": {
      "image/png": "[encoded data removed]",
      "text/plain": [
       "<matplotlib.figure.Figure at 0x7f965a42a048>"
      ]
     },
     "metadata": {},
     "output_type": "display_data"
    }
   ],
   "source": [
    "sql_mark = \"select m.student_id,m.mark,m.pmark,e.order_num,m.course_name,m.course_code from view_stu_course_mark m \\\n",
    "left join exam_mark_rank_student e on m.student_id=e.student_id \\\n",
    "where m.student_id like '2016%' and  m.speciality_code='1304' and course_code='1371022'\"\n",
    "df = jutil.load_pd_df(sql_mark)\n",
    "df.head()\n",
    "\n",
    "y_mark = list(df['pmark'])\n",
    "y_rank = list(df['order_num'])\n",
    "y_mark2 = list(pd.to_numeric(df['mark']))\n",
    "\n",
    "plt.scatter(y_rank,y_mark)\n",
    "# plt.scatter(y_rank,y_mark2)\n",
    "plt.title('2016')\n",
    "plt.show()"
   ]
  }
 ],
 "metadata": {
  "kernelspec": {
   "display_name": "Python 3",
   "language": "python",
   "name": "python3"
  },
  "language_info": {
   "codemirror_mode": {
    "name": "ipython",
    "version": 3
   },
   "file_extension": ".py",
   "mimetype": "text/x-python",
   "name": "python",
   "nbconvert_exporter": "python",
   "pygments_lexer": "ipython3",
   "version": "3.6.4"
  }
 },
 "nbformat": 4,
 "nbformat_minor": 2
}
