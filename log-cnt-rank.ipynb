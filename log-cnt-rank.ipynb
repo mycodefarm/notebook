{
 "cells": [
  {
   "cell_type": "code",
   "execution_count": 2,
   "metadata": {},
   "outputs": [],
   "source": [
    "import requests"
   ]
  },
  {
   "cell_type": "code",
   "execution_count": 58,
   "metadata": {},
   "outputs": [],
   "source": [
    "sql = \"select count(u.LoginUser) as cnt,e.student_id,e.order_num from log_user_login u right join exam_mark_rank_student e on u.LoginUser=e.student_id    \\\n",
    "group by e.student_id,e.order_num\""
   ]
  },
  {
   "cell_type": "code",
   "execution_count": 59,
   "metadata": {},
   "outputs": [],
   "source": [
    "param = {'sql':sql}\n",
    "url = 'http://localhost:8081/test/data'\n",
    "re = requests.get(url,params=param)"
   ]
  },
  {
   "cell_type": "code",
   "execution_count": 60,
   "metadata": {},
   "outputs": [
    {
     "name": "stdout",
     "output_type": "stream",
     "text": [
      "<class 'list'>\n"
     ]
    }
   ],
   "source": [
    "data = re.json()['data']\n",
    "print(type(data))"
   ]
  },
  {
   "cell_type": "code",
   "execution_count": 61,
   "metadata": {},
   "outputs": [
    {
     "data": {
      "text/plain": [
       "5206"
      ]
     },
     "execution_count": 61,
     "metadata": {},
     "output_type": "execute_result"
    }
   ],
   "source": [
    "len(data)"
   ]
  },
  {
   "cell_type": "code",
   "execution_count": 14,
   "metadata": {},
   "outputs": [],
   "source": [
    "import pandas as pd\n",
    "import matplotlib.pyplot as plt"
   ]
  },
  {
   "cell_type": "code",
   "execution_count": 62,
   "metadata": {},
   "outputs": [
    {
     "data": {
      "text/html": [
       "<div>\n",
       "<style>\n",
       "    .dataframe thead tr:only-child th {\n",
       "        text-align: right;\n",
       "    }\n",
       "\n",
       "    .dataframe thead th {\n",
       "        text-align: left;\n",
       "    }\n",
       "\n",
       "    .dataframe tbody tr th {\n",
       "        vertical-align: top;\n",
       "    }\n",
       "</style>\n",
       "<table border=\"1\" class=\"dataframe\">\n",
       "  <thead>\n",
       "    <tr style=\"text-align: right;\">\n",
       "      <th></th>\n",
       "      <th>cnt</th>\n",
       "      <th>order_num</th>\n",
       "      <th>student_id</th>\n",
       "    </tr>\n",
       "  </thead>\n",
       "  <tbody>\n",
       "    <tr>\n",
       "      <th>0</th>\n",
       "      <td>3232</td>\n",
       "      <td>1</td>\n",
       "      <td>20130011</td>\n",
       "    </tr>\n",
       "    <tr>\n",
       "      <th>1</th>\n",
       "      <td>4205</td>\n",
       "      <td>1</td>\n",
       "      <td>20130069</td>\n",
       "    </tr>\n",
       "    <tr>\n",
       "      <th>2</th>\n",
       "      <td>6175</td>\n",
       "      <td>1</td>\n",
       "      <td>20130078</td>\n",
       "    </tr>\n",
       "    <tr>\n",
       "      <th>3</th>\n",
       "      <td>736</td>\n",
       "      <td>1</td>\n",
       "      <td>2014113297</td>\n",
       "    </tr>\n",
       "    <tr>\n",
       "      <th>4</th>\n",
       "      <td>1100</td>\n",
       "      <td>1</td>\n",
       "      <td>2015110065</td>\n",
       "    </tr>\n",
       "  </tbody>\n",
       "</table>\n",
       "</div>"
      ],
      "text/plain": [
       "    cnt  order_num  student_id\n",
       "0  3232          1    20130011\n",
       "1  4205          1    20130069\n",
       "2  6175          1    20130078\n",
       "3   736          1  2014113297\n",
       "4  1100          1  2015110065"
      ]
     },
     "execution_count": 62,
     "metadata": {},
     "output_type": "execute_result"
    }
   ],
   "source": [
    "df = pd.DataFrame(data)\n",
    "df.head()"
   ]
  },
  {
   "cell_type": "code",
   "execution_count": 63,
   "metadata": {},
   "outputs": [],
   "source": [
    "dd = df.groupby('order_num')\n",
    "hehe = dd.agg({'cnt':'mean'})"
   ]
  },
  {
   "cell_type": "code",
   "execution_count": 65,
   "metadata": {},
   "outputs": [
    {
     "data": {
      "image/png": "[encoded data removed]",
      "text/plain": [
       "<matplotlib.figure.Figure at 0x7fa260809400>"
      ]
     },
     "metadata": {},
     "output_type": "display_data"
    }
   ],
   "source": [
    "\n",
    "y = hehe['cnt']\n",
    "x = list(range(len(y)))\n",
    "plt.plot(x,y)\n",
    "plt.xlabel('rank')\n",
    "plt.ylabel('mean login count')\n",
    "plt.show()"
   ]
  },
  {
   "cell_type": "code",
   "execution_count": 66,
   "metadata": {},
   "outputs": [],
   "source": [
    "import requests\n",
    "\n",
    "url = 'http://localhost:8081/test/data'\n",
    "def load_data(sql):\n",
    "    '''\n",
    "    从服务器访问数据\n",
    "    传入sql\n",
    "    返回list(json)\n",
    "    '''\n",
    "    param = {'sql':sql}\n",
    "    re = requests.get(url,params=param)\n",
    "    data = re.json()['data']\n",
    "    return data"
   ]
  },
  {
   "cell_type": "code",
   "execution_count": 67,
   "metadata": {},
   "outputs": [
    {
     "name": "stdout",
     "output_type": "stream",
     "text": [
      "[{'LoginIP': '127.0.0.1', 'LoginTime': 1155607889200, 'LoginID': 1, 'LoginType': '01', 'LoginUser': '方伊'}, {'LoginIP': '127.0.0.1', 'LoginTime': 1155780316763, 'LoginID': 2, 'LoginType': '01', 'LoginUser': '方伊'}, {'LoginIP': '127.0.0.1', 'LoginTime': 1155782859357, 'LoginID': 3, 'LoginType': '01', 'LoginUser': '方伊'}, {'LoginIP': '127.0.0.1', 'LoginTime': 1155786027373, 'LoginID': 4, 'LoginType': '01', 'LoginUser': '方伊'}, {'LoginIP': '127.0.0.1', 'LoginTime': 1155787118217, 'LoginID': 5, 'LoginType': '01', 'LoginUser': '方伊'}]\n"
     ]
    }
   ],
   "source": [
    "print(load_data('select top 5 * from log_user_login'))"
   ]
  },
  {
   "cell_type": "code",
   "execution_count": 69,
   "metadata": {},
   "outputs": [],
   "source": [
    "import jutil"
   ]
  },
  {
   "cell_type": "code",
   "execution_count": 70,
   "metadata": {},
   "outputs": [
    {
     "name": "stdout",
     "output_type": "stream",
     "text": [
      "[{'LoginIP': '127.0.0.1', 'LoginTime': 1155607889200, 'LoginID': 1, 'LoginType': '01', 'LoginUser': '方伊'}, {'LoginIP': '127.0.0.1', 'LoginTime': 1155780316763, 'LoginID': 2, 'LoginType': '01', 'LoginUser': '方伊'}, {'LoginIP': '127.0.0.1', 'LoginTime': 1155782859357, 'LoginID': 3, 'LoginType': '01', 'LoginUser': '方伊'}, {'LoginIP': '127.0.0.1', 'LoginTime': 1155786027373, 'LoginID': 4, 'LoginType': '01', 'LoginUser': '方伊'}, {'LoginIP': '127.0.0.1', 'LoginTime': 1155787118217, 'LoginID': 5, 'LoginType': '01', 'LoginUser': '方伊'}]\n"
     ]
    }
   ],
   "source": [
    "print(jutil.load_data('select top 5 * from log_user_login'))"
   ]
  }
 ],
 "metadata": {
  "kernelspec": {
   "display_name": "Python 3",
   "language": "python",
   "name": "python3"
  },
  "language_info": {
   "codemirror_mode": {
    "name": "ipython",
    "version": 3
   },
   "file_extension": ".py",
   "mimetype": "text/x-python",
   "name": "python",
   "nbconvert_exporter": "python",
   "pygments_lexer": "ipython3",
   "version": "3.6.4"
  }
 },
 "nbformat": 4,
 "nbformat_minor": 2
}
