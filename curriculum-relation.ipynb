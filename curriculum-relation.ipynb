{
 "cells": [
  {
   "cell_type": "code",
   "execution_count": 1,
   "metadata": {},
   "outputs": [],
   "source": [
    "dbUrl = \"jdbc:sqlserver://114.55.148.101:1433;databaseName=jiaowu\"\n",
    "df = spark.read.jdbc(dbUrl,\"view_stu_course_mark\",properties={\"user\":\"wangpeng\",\"password\":\"wangpeng2018!*swjtudean\"})\n",
    "df.createOrReplaceTempView(\"mark\")"
   ]
  },
  {
   "cell_type": "code",
   "execution_count": 4,
   "metadata": {},
   "outputs": [],
   "source": [
    "data = spark.sql(\"select DISTINCT(m1.student_id),m1.course_name as code1,m2.course_name as code2,m1.mark as mark1,m2.mark as mark2, \\\n",
    "m1.speciality_code from mark m1 join mark m2 on m1.student_id=m2.student_id \\\n",
    "where m1.course_code='3223700' and m2.course_code='0471024'\")"
   ]
  },
  {
   "cell_type": "code",
   "execution_count": 8,
   "metadata": {},
   "outputs": [
    {
     "name": "stdout",
     "output_type": "stream",
     "text": [
      "+----------+-----+---------+-----+-----+---------------+\n",
      "|student_id|code1|    code2|mark1|mark2|speciality_code|\n",
      "+----------+-----+---------+-----+-----+---------------+\n",
      "|  20092195|计算机网络|计算机网络工程实验|    8|    7|           0403|\n",
      "|  20092241|计算机网络|计算机网络工程实验|    4|    4|           0403|\n",
      "|  20112442|计算机网络|计算机网络工程实验|    4|    7|           0402|\n",
      "|  20112722|计算机网络|计算机网络工程实验|    6|   10|           0408|\n",
      "|  20122348|计算机网络|计算机网络工程实验|    9|   10|           0402|\n",
      "+----------+-----+---------+-----+-----+---------------+\n",
      "only showing top 5 rows\n",
      "\n"
     ]
    },
    {
     "data": {
      "text/plain": [
       "2914"
      ]
     },
     "execution_count": 8,
     "metadata": {},
     "output_type": "execute_result"
    }
   ],
   "source": [
    "data.cache()\n",
    "data.show(5)\n",
    "data.count()"
   ]
  },
  {
   "cell_type": "code",
   "execution_count": 6,
   "metadata": {},
   "outputs": [],
   "source": [
    "from pyspark.sql.functions import *"
   ]
  },
  {
   "cell_type": "code",
   "execution_count": 55,
   "metadata": {},
   "outputs": [
    {
     "name": "stdout",
     "output_type": "stream",
     "text": [
      "961\n",
      "665\n",
      "451\n",
      "190\n",
      "课程X-->Y的概率为:0.45094395718745356\n"
     ]
    }
   ],
   "source": [
    "x_good = data.filter(data.mark1>7)\n",
    "x_good_cnt = x_good.count()\n",
    "print(x_good_cnt)\n",
    "\n",
    "x_bad = data.filter(data.mark1<3)\n",
    "x_bad_cnt = x_bad.count()\n",
    "print(x_bad_cnt)\n",
    "\n",
    "x_y_good = x_good.filter(x_good.mark2>7)\n",
    "x_y_good_cnt = x_y_good.count()\n",
    "print(x_y_good_cnt)\n",
    "\n",
    "x_y_bad = x_bad.filter(x_bad.mark2<3)\n",
    "x_y_bad_cnt = x_y_bad.count()\n",
    "print(x_y_bad_cnt)\n",
    "\n",
    "# 分配同样的权重,各0.5\n",
    "rxy = 0.9*(x_y_good_cnt/x_good_cnt) + 0.1*(x_y_bad_cnt/x_bad_cnt)\n",
    "print(\"课程X-->Y的概率为:\"+str(rxy))"
   ]
  },
  {
   "cell_type": "code",
   "execution_count": 56,
   "metadata": {},
   "outputs": [
    {
     "name": "stdout",
     "output_type": "stream",
     "text": [
      "773\n",
      "360\n",
      "451\n",
      "190\n",
      "课程Y-->X的概率为:0.577874802357338\n"
     ]
    }
   ],
   "source": [
    "x_good = data.filter(data.mark2>7)\n",
    "x_good_cnt = x_good.count()\n",
    "print(x_good_cnt)\n",
    "\n",
    "x_bad = data.filter(data.mark2<3)\n",
    "x_bad_cnt = x_bad.count()\n",
    "print(x_bad_cnt)\n",
    "\n",
    "x_y_good = x_good.filter(x_good.mark1>7)\n",
    "x_y_good_cnt = x_y_good.count()\n",
    "print(x_y_good_cnt)\n",
    "\n",
    "x_y_bad = x_bad.filter(x_bad.mark1<3)\n",
    "x_y_bad_cnt = x_y_bad.count()\n",
    "print(x_y_bad_cnt)\n",
    "\n",
    "# 分配同样的权重,各0.5\n",
    "rxy = 0.9*(x_y_good_cnt/x_good_cnt) + 0.1*(x_y_bad_cnt/x_bad_cnt)\n",
    "print(\"课程Y-->X的概率为:\"+str(rxy))"
   ]
  },
  {
   "cell_type": "code",
   "execution_count": 41,
   "metadata": {},
   "outputs": [],
   "source": [
    "from pyspark.sql import SQLContext"
   ]
  },
  {
   "cell_type": "code",
   "execution_count": 57,
   "metadata": {},
   "outputs": [],
   "source": [
    "# 将上述过程写成一个函数\n",
    "\n",
    "def cal_relation(data,direction=True):\n",
    "    '''True:X->Y , False:Y->X'''\n",
    "    if direction:\n",
    "        g_con = 'mark1>7'\n",
    "        b_con = 'mark1<3'\n",
    "        gg_con = 'mark2>7'\n",
    "        bb_con = 'mark2<3'\n",
    "    else:\n",
    "        g_con = 'mark2>7'\n",
    "        b_con = 'mark2<3'\n",
    "        gg_con = 'mark1>7'\n",
    "        bb_con = 'mark1<3'\n",
    "        \n",
    "    x_good = data.filter(g_con)\n",
    "    x_good_cnt = x_good.count()\n",
    "    print(x_good_cnt)\n",
    "\n",
    "    x_bad = data.filter(b_con)\n",
    "    x_bad_cnt = x_bad.count()\n",
    "    print(x_bad_cnt)\n",
    "\n",
    "    x_y_good = x_good.filter(gg_con)\n",
    "    x_y_good_cnt = x_y_good.count()\n",
    "    print(x_y_good_cnt)\n",
    "\n",
    "    x_y_bad = x_bad.filter(bb_con)\n",
    "    x_y_bad_cnt = x_y_bad.count()\n",
    "    print(x_y_bad_cnt)\n",
    "\n",
    "    # 分配权重,根据占比计算\n",
    "    w_1 = x_y_good_cnt / (x_y_good_cnt + x_y_bad_cnt)\n",
    "    w_2 = 1 - w_1\n",
    "    try:\n",
    "        rxy = w_1*(x_y_good_cnt/x_good_cnt) + w_2*(x_y_bad_cnt/x_bad_cnt)\n",
    "    except ZeroDivisionError:\n",
    "        print('出现除0异常')\n",
    "        return 0\n",
    "    return rxy\n",
    "\n",
    "def cal_course_relation(code1,code2):\n",
    "    sqlContext = SQLContext(sc)\n",
    "    sqlContext.clearCache()\n",
    "    data1 = spark.sql(\"select DISTINCT(m1.student_id),m1.course_name as code1,m2.course_name as code2,m1.mark as mark1,m2.mark as mark2, \\\n",
    "    m1.speciality_code from mark m1 join mark m2 on m1.student_id=m2.student_id \\\n",
    "    where m1.course_code='%s'  and m2.course_code='%s'\" % (code1,code2))\n",
    "    data1.show(5)\n",
    "    x = data1.select('code1').first()['code1']\n",
    "    y = data1.select('code2').first()['code2']\n",
    "    data1.cache()\n",
    "    rxy = cal_relation(data1)\n",
    "    ryx = cal_relation(data1,False)\n",
    "    print(\"课程 [%s-->%s]的概率为: %.4f\" % (x,y,rxy))\n",
    "    print(\"课程 [%s-->%s]的概率为: %.4f\" % (y,x,ryx))"
   ]
  },
  {
   "cell_type": "code",
   "execution_count": 58,
   "metadata": {},
   "outputs": [
    {
     "name": "stdout",
     "output_type": "stream",
     "text": [
      "+----------+-----+---------+-----+-----+---------------+\n",
      "|student_id|code1|    code2|mark1|mark2|speciality_code|\n",
      "+----------+-----+---------+-----+-----+---------------+\n",
      "|  20092195|计算机网络|计算机网络工程实验|    8|    7|           0403|\n",
      "|  20092241|计算机网络|计算机网络工程实验|    4|    4|           0403|\n",
      "|  20112442|计算机网络|计算机网络工程实验|    4|    7|           0402|\n",
      "|  20112722|计算机网络|计算机网络工程实验|    6|   10|           0408|\n",
      "|  20122348|计算机网络|计算机网络工程实验|    9|   10|           0402|\n",
      "+----------+-----+---------+-----+-----+---------------+\n",
      "only showing top 5 rows\n",
      "\n",
      "961\n",
      "665\n",
      "451\n",
      "190\n",
      "773\n",
      "360\n",
      "451\n",
      "190\n",
      "课程 [计算机网络-->计算机网络工程实验]的概率为: 0.4149\n",
      "课程 [计算机网络工程实验-->计算机网络]的概率为: 0.5669\n"
     ]
    }
   ],
   "source": [
    "cal_course_relation('3223700','0471024')"
   ]
  },
  {
   "cell_type": "code",
   "execution_count": 59,
   "metadata": {},
   "outputs": [
    {
     "name": "stdout",
     "output_type": "stream",
     "text": [
      "+----------+-----+-------+-----+-----+---------------+\n",
      "|student_id|code1|  code2|mark1|mark2|speciality_code|\n",
      "+----------+-----+-------+-----+-----+---------------+\n",
      "|2015111822| 操作系统|计算机组成原理|    5|    5|           0402|\n",
      "|2015111940| 操作系统|计算机组成原理|    3|    7|           0402|\n",
      "|2015111897| 操作系统|计算机组成原理|    4|    9|           0402|\n",
      "|2015110992| 操作系统|计算机组成原理|    8|    9|           0402|\n",
      "|2015111816| 操作系统|计算机组成原理|    7|    9|           0402|\n",
      "+----------+-----+-------+-----+-----+---------------+\n",
      "only showing top 5 rows\n",
      "\n",
      "15\n",
      "42\n",
      "13\n",
      "22\n",
      "41\n",
      "28\n",
      "13\n",
      "22\n",
      "课程 [操作系统-->计算机组成原理]的概率为: 0.6512\n",
      "课程 [计算机组成原理-->操作系统]的概率为: 0.6116\n"
     ]
    }
   ],
   "source": [
    "cal_course_relation('0471108','3273524')"
   ]
  },
  {
   "cell_type": "code",
   "execution_count": 60,
   "metadata": {},
   "outputs": [
    {
     "name": "stdout",
     "output_type": "stream",
     "text": [
      "+----------+----------+------------+-----+-----+---------------+\n",
      "|student_id|     code1|       code2|mark1|mark2|speciality_code|\n",
      "+----------+----------+------------+-----+-----+---------------+\n",
      "|  20112442|嵌入式系统设计与应用|嵌入式系统设计与应用实验|    1|    1|           0402|\n",
      "|  20122348|嵌入式系统设计与应用|嵌入式系统设计与应用实验|   10|   10|           0402|\n",
      "|  20122380|嵌入式系统设计与应用|嵌入式系统设计与应用实验|    1|    0|           0402|\n",
      "|  20122380|嵌入式系统设计与应用|嵌入式系统设计与应用实验|    1|    6|           0402|\n",
      "|  20131986|嵌入式系统设计与应用|嵌入式系统设计与应用实验|    9|    6|           0402|\n",
      "+----------+----------+------------+-----+-----+---------------+\n",
      "only showing top 5 rows\n",
      "\n",
      "193\n",
      "357\n",
      "98\n",
      "177\n",
      "170\n",
      "288\n",
      "98\n",
      "177\n",
      "课程 [嵌入式系统设计与应用-->嵌入式系统设计与应用实验]的概率为: 0.5001\n",
      "课程 [嵌入式系统设计与应用实验-->嵌入式系统设计与应用]的概率为: 0.6010\n"
     ]
    }
   ],
   "source": [
    "cal_course_relation('0473003','0473004')"
   ]
  },
  {
   "cell_type": "code",
   "execution_count": 61,
   "metadata": {},
   "outputs": [
    {
     "name": "stdout",
     "output_type": "stream",
     "text": [
      "+----------+-------+-----+-----+-----+---------------+\n",
      "|student_id|  code1|code2|mark1|mark2|speciality_code|\n",
      "+----------+-------+-----+-----+-----+---------------+\n",
      "|2015111822|算法分析与设计| 数据结构|    4|    6|           0402|\n",
      "|2015111940|算法分析与设计| 数据结构|    3|    5|           0402|\n",
      "|2015111897|算法分析与设计| 数据结构|    7|    7|           0402|\n",
      "|2015110992|算法分析与设计| 数据结构|   10|    8|           0402|\n",
      "|2015111816|算法分析与设计| 数据结构|    7|    7|           0402|\n",
      "+----------+-------+-----+-----+-----+---------------+\n",
      "only showing top 5 rows\n",
      "\n",
      "32\n",
      "62\n",
      "18\n",
      "35\n",
      "28\n",
      "43\n",
      "18\n",
      "35\n",
      "课程 [算法分析与设计-->数据结构]的概率为: 0.5638\n",
      "课程 [数据结构-->算法分析与设计]的概率为: 0.7558\n"
     ]
    }
   ],
   "source": [
    "cal_course_relation('0473097','3273523')"
   ]
  },
  {
   "cell_type": "code",
   "execution_count": null,
   "metadata": {},
   "outputs": [],
   "source": []
  }
 ],
 "metadata": {
  "kernelspec": {
   "display_name": "Python 3",
   "language": "python",
   "name": "python3"
  },
  "language_info": {
   "codemirror_mode": {
    "name": "ipython",
    "version": 3
   },
   "file_extension": ".py",
   "mimetype": "text/x-python",
   "name": "python",
   "nbconvert_exporter": "python",
   "pygments_lexer": "ipython3",
   "version": "3.6.4"
  }
 },
 "nbformat": 4,
 "nbformat_minor": 2
}
