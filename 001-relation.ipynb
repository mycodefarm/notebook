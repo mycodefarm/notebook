{
 "cells": [
  {
   "cell_type": "code",
   "execution_count": 42,
   "metadata": {},
   "outputs": [],
   "source": [
    "import pandas as pd\n",
    "import numpy as np\n",
    "import jutil"
   ]
  },
  {
   "cell_type": "code",
   "execution_count": 21,
   "metadata": {},
   "outputs": [
    {
     "data": {
      "text/html": [
       "<div>\n",
       "<style>\n",
       "    .dataframe thead tr:only-child th {\n",
       "        text-align: right;\n",
       "    }\n",
       "\n",
       "    .dataframe thead th {\n",
       "        text-align: left;\n",
       "    }\n",
       "\n",
       "    .dataframe tbody tr th {\n",
       "        vertical-align: top;\n",
       "    }\n",
       "</style>\n",
       "<table border=\"1\" class=\"dataframe\">\n",
       "  <thead>\n",
       "    <tr style=\"text-align: right;\">\n",
       "      <th></th>\n",
       "      <th>college_code</th>\n",
       "      <th>course_code</th>\n",
       "      <th>course_name</th>\n",
       "      <th>course_type</th>\n",
       "      <th>mark</th>\n",
       "      <th>pmark</th>\n",
       "      <th>speciality_code</th>\n",
       "      <th>speciality_name</th>\n",
       "      <th>student_id</th>\n",
       "      <th>term_order</th>\n",
       "    </tr>\n",
       "  </thead>\n",
       "  <tbody>\n",
       "    <tr>\n",
       "      <th>0</th>\n",
       "      <td>01</td>\n",
       "      <td>6111120</td>\n",
       "      <td>大学物理实验Ⅱ</td>\n",
       "      <td>必</td>\n",
       "      <td>5</td>\n",
       "      <td>73.0</td>\n",
       "      <td>0101</td>\n",
       "      <td>土木工程</td>\n",
       "      <td>19950854</td>\n",
       "      <td>-2</td>\n",
       "    </tr>\n",
       "    <tr>\n",
       "      <th>1</th>\n",
       "      <td>01</td>\n",
       "      <td>9010110</td>\n",
       "      <td>体育Ⅰ</td>\n",
       "      <td>必</td>\n",
       "      <td>7</td>\n",
       "      <td>80.0</td>\n",
       "      <td>0101</td>\n",
       "      <td>土木工程</td>\n",
       "      <td>19950854</td>\n",
       "      <td>-3</td>\n",
       "    </tr>\n",
       "    <tr>\n",
       "      <th>2</th>\n",
       "      <td>01</td>\n",
       "      <td>6111120</td>\n",
       "      <td>大学物理实验Ⅱ</td>\n",
       "      <td>必</td>\n",
       "      <td>1</td>\n",
       "      <td>61.0</td>\n",
       "      <td>0101</td>\n",
       "      <td>土木工程</td>\n",
       "      <td>19960006</td>\n",
       "      <td>2</td>\n",
       "    </tr>\n",
       "    <tr>\n",
       "      <th>3</th>\n",
       "      <td>01</td>\n",
       "      <td>9010120</td>\n",
       "      <td>体育Ⅱ</td>\n",
       "      <td>必</td>\n",
       "      <td>6</td>\n",
       "      <td>76.0</td>\n",
       "      <td>0101</td>\n",
       "      <td>土木工程</td>\n",
       "      <td>19960006</td>\n",
       "      <td>2</td>\n",
       "    </tr>\n",
       "    <tr>\n",
       "      <th>4</th>\n",
       "      <td>01</td>\n",
       "      <td>7035000</td>\n",
       "      <td>马克思主义哲学原理</td>\n",
       "      <td>必</td>\n",
       "      <td>8</td>\n",
       "      <td>83.0</td>\n",
       "      <td>0101</td>\n",
       "      <td>土木工程</td>\n",
       "      <td>19960037</td>\n",
       "      <td>4</td>\n",
       "    </tr>\n",
       "  </tbody>\n",
       "</table>\n",
       "</div>"
      ],
      "text/plain": [
       "  college_code course_code course_name course_type  mark  pmark  \\\n",
       "0           01     6111120     大学物理实验Ⅱ           必     5   73.0   \n",
       "1           01     9010110         体育Ⅰ           必     7   80.0   \n",
       "2           01     6111120     大学物理实验Ⅱ           必     1   61.0   \n",
       "3           01     9010120         体育Ⅱ           必     6   76.0   \n",
       "4           01     7035000   马克思主义哲学原理           必     8   83.0   \n",
       "\n",
       "  speciality_code speciality_name student_id  term_order  \n",
       "0            0101            土木工程   19950854          -2  \n",
       "1            0101            土木工程   19950854          -3  \n",
       "2            0101            土木工程   19960006           2  \n",
       "3            0101            土木工程   19960006           2  \n",
       "4            0101            土木工程   19960037           4  "
      ]
     },
     "execution_count": 21,
     "metadata": {},
     "output_type": "execute_result"
    }
   ],
   "source": [
    "df = pd.read_csv('000-mark-0101.csv',usecols=range(1,11),dtype={'college_code':np.object,'course_code':np.object,'speciality_code':np.object,'student_id':np.object})\n",
    "df.head()"
   ]
  },
  {
   "cell_type": "code",
   "execution_count": 22,
   "metadata": {},
   "outputs": [
    {
     "data": {
      "text/plain": [
       "college_code        object\n",
       "course_code         object\n",
       "course_name         object\n",
       "course_type         object\n",
       "mark                 int64\n",
       "pmark              float64\n",
       "speciality_code     object\n",
       "speciality_name     object\n",
       "student_id          object\n",
       "term_order           int64\n",
       "dtype: object"
      ]
     },
     "execution_count": 22,
     "metadata": {},
     "output_type": "execute_result"
    }
   ],
   "source": [
    "df.dtypes"
   ]
  },
  {
   "cell_type": "code",
   "execution_count": 23,
   "metadata": {},
   "outputs": [],
   "source": [
    "data = df[~df.course_name.str.startswith('形势与政策')] # 去除行政课"
   ]
  },
  {
   "cell_type": "code",
   "execution_count": 26,
   "metadata": {},
   "outputs": [
    {
     "data": {
      "text/plain": [
       "college_code       620013\n",
       "course_code        620013\n",
       "course_name        620013\n",
       "course_type        620013\n",
       "mark               620013\n",
       "pmark              620013\n",
       "speciality_code    620013\n",
       "speciality_name    620013\n",
       "student_id         620013\n",
       "term_order         620013\n",
       "dtype: int64"
      ]
     },
     "execution_count": 26,
     "metadata": {},
     "output_type": "execute_result"
    }
   ],
   "source": [
    "data.count()"
   ]
  },
  {
   "cell_type": "code",
   "execution_count": 25,
   "metadata": {},
   "outputs": [
    {
     "name": "stdout",
     "output_type": "stream",
     "text": [
      "Int64Index([246337, 246338, 246339, 246340, 246341, 246342, 246343, 246345,\n",
      "            246346, 257806, 257807, 257808, 257809, 257813, 257814, 257815,\n",
      "            257816, 538126, 538127, 538128, 538871, 538872, 538873, 538874,\n",
      "            538875, 538876, 538877, 538878, 538879, 538880, 538881, 538882,\n",
      "            593040, 593041, 593042, 593043, 593044, 593045, 593046, 593047,\n",
      "            593048, 593049, 593050, 600854, 600855, 600856, 600857, 600858,\n",
      "            600859, 600860, 600862, 600863, 604156, 604157, 604158, 604159,\n",
      "            604160, 604161, 604162, 604163, 604164, 616228, 616229, 616230,\n",
      "            616231, 616232, 616233, 616234, 616235, 616236, 616237, 616238,\n",
      "            616239, 616242, 616243, 620011, 620012, 620013, 620014, 620015,\n",
      "            620016, 620017, 620018, 620019, 620020],\n",
      "           dtype='int64')\n"
     ]
    },
    {
     "data": {
      "text/plain": [
       "9386"
      ]
     },
     "execution_count": 25,
     "metadata": {},
     "output_type": "execute_result"
    }
   ],
   "source": [
    "dg = data.groupby('student_id').groups\n",
    "\n",
    "input_list = []\n",
    "iii = None\n",
    "try:\n",
    "    for k in dg:\n",
    "        ids = dg[k]\n",
    "        iii = ids\n",
    "        items = [ data.iloc[id].get('course_code')+'_'+str(data.iloc[id].get('mark')) for id in ids]\n",
    "        items = list(set(items)) # 去重\n",
    "        input_list.append((k,items))\n",
    "except:\n",
    "    print(iii)\n",
    "len(input_list)"
   ]
  },
  {
   "cell_type": "code",
   "execution_count": 54,
   "metadata": {},
   "outputs": [],
   "source": [
    "from pyspark.ml.fpm import FPGrowth\n",
    "\n",
    "ddd = spark.createDataFrame(input_list,['id','items'])\n",
    "\n",
    "fpG = FPGrowth(itemsCol=\"items\",minSupport=0.1,minConfidence=0.2)\n",
    "model = fpG.fit(ddd)"
   ]
  },
  {
   "cell_type": "code",
   "execution_count": 55,
   "metadata": {},
   "outputs": [
    {
     "name": "stdout",
     "output_type": "stream",
     "text": [
      "+-----------+----+\n",
      "|items      |freq|\n",
      "+-----------+----+\n",
      "|[9010110_8]|1083|\n",
      "|[9990004_8]|1020|\n",
      "|[0132410_1]|1241|\n",
      "|[9990004_9]|1662|\n",
      "|[9990226_9]|1378|\n",
      "|[8010230_1]|2176|\n",
      "|[0153570_1]|1177|\n",
      "|[8010220_5]|956 |\n",
      "|[6111120_4]|1316|\n",
      "|[9010130_9]|1853|\n",
      "+-----------+----+\n",
      "only showing top 10 rows\n",
      "\n"
     ]
    }
   ],
   "source": [
    "model.freqItemsets.show(n=10,truncate=False)"
   ]
  },
  {
   "cell_type": "code",
   "execution_count": 56,
   "metadata": {},
   "outputs": [
    {
     "name": "stdout",
     "output_type": "stream",
     "text": [
      "+-----------+-----------+-------------------+\n",
      "|antecedent |consequent |confidence         |\n",
      "+-----------+-----------+-------------------+\n",
      "|[6335110_0]|[6321920_0]|0.4203770557561171 |\n",
      "|[6322010_0]|[6321920_0]|0.4025679758308157 |\n",
      "|[6322020_0]|[6321920_0]|0.41833466773418737|\n",
      "|[6321920_0]|[6322020_0]|0.3254437869822485 |\n",
      "|[6321920_0]|[6335110_0]|0.3263780753659296 |\n",
      "|[6321920_0]|[6322010_0]|0.3319838056680162 |\n",
      "|[6321920_0]|[6321910_0]|0.3453752725007786 |\n",
      "|[6321920_0]|[6322010_1]|0.30177514792899407|\n",
      "|[6321920_0]|[6011320_0]|0.29554655870445345|\n",
      "|[6321920_0]|[6321920_1]|0.31236374961071317|\n",
      "|[6322010_1]|[6321920_0]|0.39214892755969244|\n",
      "|[6011320_0]|[6321920_0]|0.41568112133158125|\n",
      "|[6321910_0]|[6321920_0]|0.41944024205748864|\n",
      "|[6321920_1]|[6321920_0]|0.39581689029202843|\n",
      "+-----------+-----------+-------------------+\n",
      "\n"
     ]
    }
   ],
   "source": [
    "model.associationRules.show(truncate=False)"
   ]
  },
  {
   "cell_type": "code",
   "execution_count": null,
   "metadata": {},
   "outputs": [],
   "source": [
    "pdc = model.associationRules.toPandas()"
   ]
  }
 ],
 "metadata": {
  "kernelspec": {
   "display_name": "Python 3",
   "language": "python",
   "name": "python3"
  },
  "language_info": {
   "codemirror_mode": {
    "name": "ipython",
    "version": 3
   },
   "file_extension": ".py",
   "mimetype": "text/x-python",
   "name": "python",
   "nbconvert_exporter": "python",
   "pygments_lexer": "ipython3",
   "version": "3.6.4"
  }
 },
 "nbformat": 4,
 "nbformat_minor": 2
}
