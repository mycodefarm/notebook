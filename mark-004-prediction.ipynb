{
 "cells": [
  {
   "cell_type": "code",
   "execution_count": 1,
   "metadata": {},
   "outputs": [],
   "source": [
    "import jutil\n",
    "import numpy as np"
   ]
  },
  {
   "cell_type": "code",
   "execution_count": 2,
   "metadata": {},
   "outputs": [],
   "source": [
    "# 输入学生学号,要预测的课程X,返回该门课是否挂科"
   ]
  },
  {
   "cell_type": "code",
   "execution_count": 3,
   "metadata": {},
   "outputs": [
    {
     "data": {
      "text/html": [
       "<div>\n",
       "<style>\n",
       "    .dataframe thead tr:only-child th {\n",
       "        text-align: right;\n",
       "    }\n",
       "\n",
       "    .dataframe thead th {\n",
       "        text-align: left;\n",
       "    }\n",
       "\n",
       "    .dataframe tbody tr th {\n",
       "        vertical-align: top;\n",
       "    }\n",
       "</style>\n",
       "<table border=\"1\" class=\"dataframe\">\n",
       "  <thead>\n",
       "    <tr style=\"text-align: right;\">\n",
       "      <th></th>\n",
       "      <th>course_code</th>\n",
       "      <th>course_name</th>\n",
       "      <th>grade</th>\n",
       "      <th>mark</th>\n",
       "      <th>pmark</th>\n",
       "      <th>speciality_code</th>\n",
       "      <th>term_order</th>\n",
       "    </tr>\n",
       "  </thead>\n",
       "  <tbody>\n",
       "    <tr>\n",
       "      <th>0</th>\n",
       "      <td>0471004</td>\n",
       "      <td>面向对象程序设计</td>\n",
       "      <td>2014</td>\n",
       "      <td>10</td>\n",
       "      <td>90.0</td>\n",
       "      <td>0408</td>\n",
       "      <td>2</td>\n",
       "    </tr>\n",
       "    <tr>\n",
       "      <th>1</th>\n",
       "      <td>0471005</td>\n",
       "      <td>面向对象程序设计实验</td>\n",
       "      <td>2014</td>\n",
       "      <td>10</td>\n",
       "      <td>96.0</td>\n",
       "      <td>0408</td>\n",
       "      <td>2</td>\n",
       "    </tr>\n",
       "    <tr>\n",
       "      <th>2</th>\n",
       "      <td>0471024</td>\n",
       "      <td>计算机网络工程实验</td>\n",
       "      <td>2014</td>\n",
       "      <td>6</td>\n",
       "      <td>76.0</td>\n",
       "      <td>0408</td>\n",
       "      <td>4</td>\n",
       "    </tr>\n",
       "    <tr>\n",
       "      <th>3</th>\n",
       "      <td>0471046</td>\n",
       "      <td>J2EE体系结构及程序设计</td>\n",
       "      <td>2014</td>\n",
       "      <td>10</td>\n",
       "      <td>95.0</td>\n",
       "      <td>0408</td>\n",
       "      <td>4</td>\n",
       "    </tr>\n",
       "    <tr>\n",
       "      <th>4</th>\n",
       "      <td>0471054</td>\n",
       "      <td>程序语言综合课程设计</td>\n",
       "      <td>2014</td>\n",
       "      <td>10</td>\n",
       "      <td>90.0</td>\n",
       "      <td>0408</td>\n",
       "      <td>2</td>\n",
       "    </tr>\n",
       "  </tbody>\n",
       "</table>\n",
       "</div>"
      ],
      "text/plain": [
       "  course_code    course_name grade mark  pmark speciality_code  term_order\n",
       "0     0471004       面向对象程序设计  2014   10   90.0            0408           2\n",
       "1     0471005     面向对象程序设计实验  2014   10   96.0            0408           2\n",
       "2     0471024      计算机网络工程实验  2014    6   76.0            0408           4\n",
       "3     0471046  J2EE体系结构及程序设计  2014   10   95.0            0408           4\n",
       "4     0471054     程序语言综合课程设计  2014   10   90.0            0408           2"
      ]
     },
     "execution_count": 3,
     "metadata": {},
     "output_type": "execute_result"
    }
   ],
   "source": [
    "# 1.找出X的前置课程,确定学生的专业和年级\n",
    "sql = \"select grade,speciality_code,course_code,course_name,term_order,mark,pmark from view_stu_course_mark where student_id='2014112135'\"\n",
    "stu = jutil.load_pd_df(sql)\n",
    "stu.head()"
   ]
  },
  {
   "cell_type": "code",
   "execution_count": 6,
   "metadata": {},
   "outputs": [
    {
     "data": {
      "text/html": [
       "<div>\n",
       "<style>\n",
       "    .dataframe thead tr:only-child th {\n",
       "        text-align: right;\n",
       "    }\n",
       "\n",
       "    .dataframe thead th {\n",
       "        text-align: left;\n",
       "    }\n",
       "\n",
       "    .dataframe tbody tr th {\n",
       "        vertical-align: top;\n",
       "    }\n",
       "</style>\n",
       "<table border=\"1\" class=\"dataframe\">\n",
       "  <thead>\n",
       "    <tr style=\"text-align: right;\">\n",
       "      <th></th>\n",
       "      <th>course_code</th>\n",
       "      <th>course_name</th>\n",
       "      <th>grade</th>\n",
       "      <th>mark</th>\n",
       "      <th>pmark</th>\n",
       "      <th>speciality_code</th>\n",
       "      <th>term_order</th>\n",
       "    </tr>\n",
       "  </thead>\n",
       "  <tbody>\n",
       "    <tr>\n",
       "      <th>8</th>\n",
       "      <td>0471076</td>\n",
       "      <td>人机交互技术</td>\n",
       "      <td>2014</td>\n",
       "      <td>9</td>\n",
       "      <td>85.0</td>\n",
       "      <td>0408</td>\n",
       "      <td>4</td>\n",
       "    </tr>\n",
       "  </tbody>\n",
       "</table>\n",
       "</div>"
      ],
      "text/plain": [
       "  course_code course_name grade mark  pmark speciality_code  term_order\n",
       "8     0471076      人机交互技术  2014    9   85.0            0408           4"
      ]
     },
     "execution_count": 6,
     "metadata": {},
     "output_type": "execute_result"
    }
   ],
   "source": [
    "a = stu[stu['course_name']=='人机交互技术']\n",
    "a"
   ]
  },
  {
   "cell_type": "code",
   "execution_count": 15,
   "metadata": {},
   "outputs": [],
   "source": [
    "grade = a['grade'].values[0]\n",
    "term_order = a['term_order'].values[0]\n",
    "speciality_code = a['speciality_code'].values[0]\n",
    "course_code = a['speciality_code'].values[0]"
   ]
  },
  {
   "cell_type": "code",
   "execution_count": 17,
   "metadata": {},
   "outputs": [],
   "source": [
    "pre_course = stu[stu['term_order']<term_order]"
   ]
  },
  {
   "cell_type": "code",
   "execution_count": 19,
   "metadata": {},
   "outputs": [
    {
     "data": {
      "text/plain": [
       "array(['0471004', '0471005', '0471054', '0471071', '0471072', '0471075',\n",
       "       '0471108', '0471109', '0473031', '0473041', '0474011', '0474012',\n",
       "       '0474014', '0475010', '0871112', '0872008', '1271031', '1371032',\n",
       "       '2175005', '2572014', '3045600', '3100312', '3143300', '3200510',\n",
       "       '3200557', '3232100', '3243020', '3243120', '3243510', '3243700',\n",
       "       '3243781', '3244152', '3272003', '6010500', '6011310', '6011320',\n",
       "       '6023200', '6033100', '6041943', '6100131', '6111110', '6111120',\n",
       "       '6111220', '6771013', '7001062', '7001063', '7001146', '7001150',\n",
       "       '7001151', '7001152', '7001153', '7001154', '7044900', '7047250',\n",
       "       '7047923', '7775711', '8010210', '8010220', '8048380', '9010110',\n",
       "       '9010120', '9010130', '9010140', '9990006', '9990620'],\n",
       "      dtype=object)"
      ]
     },
     "execution_count": 19,
     "metadata": {},
     "output_type": "execute_result"
    }
   ],
   "source": [
    "course_codes = pre_course['course_code'].values\n",
    "course_codes"
   ]
  },
  {
   "cell_type": "code",
   "execution_count": null,
   "metadata": {},
   "outputs": [],
   "source": []
  }
 ],
 "metadata": {
  "kernelspec": {
   "display_name": "Python 3",
   "language": "python",
   "name": "python3"
  },
  "language_info": {
   "codemirror_mode": {
    "name": "ipython",
    "version": 3
   },
   "file_extension": ".py",
   "mimetype": "text/x-python",
   "name": "python",
   "nbconvert_exporter": "python",
   "pygments_lexer": "ipython3",
   "version": "3.6.5"
  }
 },
 "nbformat": 4,
 "nbformat_minor": 2
}
