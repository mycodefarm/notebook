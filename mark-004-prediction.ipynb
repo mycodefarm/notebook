{
 "cells": [
  {
   "cell_type": "code",
   "execution_count": 70,
   "metadata": {},
   "outputs": [],
   "source": [
    "import jutil\n",
    "import numpy as np"
   ]
  },
  {
   "cell_type": "code",
   "execution_count": 2,
   "metadata": {},
   "outputs": [],
   "source": [
    "# 输入学生学号,要预测的课程X,返回该门课是否挂科"
   ]
  },
  {
   "cell_type": "code",
   "execution_count": 103,
   "metadata": {},
   "outputs": [
    {
     "data": {
      "text/html": [
       "<div>\n",
       "<style>\n",
       "    .dataframe thead tr:only-child th {\n",
       "        text-align: right;\n",
       "    }\n",
       "\n",
       "    .dataframe thead th {\n",
       "        text-align: left;\n",
       "    }\n",
       "\n",
       "    .dataframe tbody tr th {\n",
       "        vertical-align: top;\n",
       "    }\n",
       "</style>\n",
       "<table border=\"1\" class=\"dataframe\">\n",
       "  <thead>\n",
       "    <tr style=\"text-align: right;\">\n",
       "      <th></th>\n",
       "      <th>course_code</th>\n",
       "      <th>course_name</th>\n",
       "      <th>grade</th>\n",
       "      <th>mark</th>\n",
       "      <th>pmark</th>\n",
       "      <th>speciality_code</th>\n",
       "      <th>term_order</th>\n",
       "    </tr>\n",
       "  </thead>\n",
       "  <tbody>\n",
       "    <tr>\n",
       "      <th>0</th>\n",
       "      <td>0471004</td>\n",
       "      <td>面向对象程序设计</td>\n",
       "      <td>2015</td>\n",
       "      <td>5</td>\n",
       "      <td>74.0</td>\n",
       "      <td>0408</td>\n",
       "      <td>2</td>\n",
       "    </tr>\n",
       "    <tr>\n",
       "      <th>1</th>\n",
       "      <td>0471005</td>\n",
       "      <td>面向对象程序设计实验</td>\n",
       "      <td>2015</td>\n",
       "      <td>9</td>\n",
       "      <td>85.0</td>\n",
       "      <td>0408</td>\n",
       "      <td>2</td>\n",
       "    </tr>\n",
       "    <tr>\n",
       "      <th>2</th>\n",
       "      <td>0471054</td>\n",
       "      <td>程序语言综合课程设计</td>\n",
       "      <td>2015</td>\n",
       "      <td>6</td>\n",
       "      <td>77.0</td>\n",
       "      <td>0408</td>\n",
       "      <td>2</td>\n",
       "    </tr>\n",
       "    <tr>\n",
       "      <th>3</th>\n",
       "      <td>0471078</td>\n",
       "      <td>高级#语言程序设计</td>\n",
       "      <td>2015</td>\n",
       "      <td>8</td>\n",
       "      <td>84.0</td>\n",
       "      <td>0408</td>\n",
       "      <td>1</td>\n",
       "    </tr>\n",
       "    <tr>\n",
       "      <th>4</th>\n",
       "      <td>0471108</td>\n",
       "      <td>操作系统</td>\n",
       "      <td>2015</td>\n",
       "      <td>4</td>\n",
       "      <td>69.0</td>\n",
       "      <td>0408</td>\n",
       "      <td>3</td>\n",
       "    </tr>\n",
       "  </tbody>\n",
       "</table>\n",
       "</div>"
      ],
      "text/plain": [
       "  course_code course_name grade mark  pmark speciality_code  term_order\n",
       "0     0471004    面向对象程序设计  2015    5   74.0            0408           2\n",
       "1     0471005  面向对象程序设计实验  2015    9   85.0            0408           2\n",
       "2     0471054  程序语言综合课程设计  2015    6   77.0            0408           2\n",
       "3     0471078   高级#语言程序设计  2015    8   84.0            0408           1\n",
       "4     0471108        操作系统  2015    4   69.0            0408           3"
      ]
     },
     "execution_count": 103,
     "metadata": {},
     "output_type": "execute_result"
    }
   ],
   "source": [
    "# 1.找出X的前置课程,确定学生的专业和年级\n",
    "sql = \"select grade,speciality_code,course_code,course_name,term_order,mark,pmark from view_stu_course_mark where student_id='2015111848'\"\n",
    "stu = jutil.load_pd_df(sql)\n",
    "stu.head()"
   ]
  },
  {
   "cell_type": "code",
   "execution_count": 107,
   "metadata": {},
   "outputs": [
    {
     "data": {
      "text/html": [
       "<div>\n",
       "<style>\n",
       "    .dataframe thead tr:only-child th {\n",
       "        text-align: right;\n",
       "    }\n",
       "\n",
       "    .dataframe thead th {\n",
       "        text-align: left;\n",
       "    }\n",
       "\n",
       "    .dataframe tbody tr th {\n",
       "        vertical-align: top;\n",
       "    }\n",
       "</style>\n",
       "<table border=\"1\" class=\"dataframe\">\n",
       "  <thead>\n",
       "    <tr style=\"text-align: right;\">\n",
       "      <th></th>\n",
       "      <th>course_code</th>\n",
       "      <th>course_name</th>\n",
       "      <th>grade</th>\n",
       "      <th>mark</th>\n",
       "      <th>pmark</th>\n",
       "      <th>speciality_code</th>\n",
       "      <th>term_order</th>\n",
       "    </tr>\n",
       "  </thead>\n",
       "  <tbody>\n",
       "  </tbody>\n",
       "</table>\n",
       "</div>"
      ],
      "text/plain": [
       "Empty DataFrame\n",
       "Columns: [course_code, course_name, grade, mark, pmark, speciality_code, term_order]\n",
       "Index: []"
      ]
     },
     "execution_count": 107,
     "metadata": {},
     "output_type": "execute_result"
    }
   ],
   "source": []
  },
  {
   "cell_type": "code",
   "execution_count": 112,
   "metadata": {},
   "outputs": [],
   "source": [
    "grade = stu.iloc[0]['grade']\n",
    "term_order = stu['term_order'].max()\n",
    "speciality_code = stu.iloc[0]['speciality_code']"
   ]
  },
  {
   "cell_type": "code",
   "execution_count": 113,
   "metadata": {},
   "outputs": [
    {
     "data": {
      "text/plain": [
       "3"
      ]
     },
     "execution_count": 113,
     "metadata": {},
     "output_type": "execute_result"
    }
   ],
   "source": [
    "term_order"
   ]
  },
  {
   "cell_type": "code",
   "execution_count": 119,
   "metadata": {},
   "outputs": [],
   "source": [
    "pre_course = stu[stu['term_order']<=term_order]"
   ]
  },
  {
   "cell_type": "code",
   "execution_count": 120,
   "metadata": {},
   "outputs": [],
   "source": [
    "course_codes = list(pre_course['course_code'].values)\n",
    "course_codes.append(course_code)\n",
    "# course_codes\n",
    "course_names = list(pre_course['course_code'].values)\n",
    "course_names.append(course_name)"
   ]
  },
  {
   "cell_type": "code",
   "execution_count": 20,
   "metadata": {},
   "outputs": [],
   "source": [
    "# 找前一个年级的成绩数据来预测"
   ]
  },
  {
   "cell_type": "code",
   "execution_count": 76,
   "metadata": {},
   "outputs": [
    {
     "data": {
      "text/html": [
       "<div>\n",
       "<style>\n",
       "    .dataframe thead tr:only-child th {\n",
       "        text-align: right;\n",
       "    }\n",
       "\n",
       "    .dataframe thead th {\n",
       "        text-align: left;\n",
       "    }\n",
       "\n",
       "    .dataframe tbody tr th {\n",
       "        vertical-align: top;\n",
       "    }\n",
       "</style>\n",
       "<table border=\"1\" class=\"dataframe\">\n",
       "  <thead>\n",
       "    <tr style=\"text-align: right;\">\n",
       "      <th></th>\n",
       "      <th>course_code</th>\n",
       "      <th>course_name</th>\n",
       "      <th>mark</th>\n",
       "      <th>pmark</th>\n",
       "      <th>student_id</th>\n",
       "    </tr>\n",
       "  </thead>\n",
       "  <tbody>\n",
       "    <tr>\n",
       "      <th>0</th>\n",
       "      <td>3143300</td>\n",
       "      <td>数字电子技术实验B(电类)</td>\n",
       "      <td>5</td>\n",
       "      <td>74.0</td>\n",
       "      <td>20112807</td>\n",
       "    </tr>\n",
       "    <tr>\n",
       "      <th>1</th>\n",
       "      <td>3143328</td>\n",
       "      <td>数据库技术与应用</td>\n",
       "      <td>7</td>\n",
       "      <td>81.0</td>\n",
       "      <td>20112807</td>\n",
       "    </tr>\n",
       "    <tr>\n",
       "      <th>2</th>\n",
       "      <td>3232100</td>\n",
       "      <td>数据结构A</td>\n",
       "      <td>5</td>\n",
       "      <td>72.0</td>\n",
       "      <td>20112807</td>\n",
       "    </tr>\n",
       "    <tr>\n",
       "      <th>3</th>\n",
       "      <td>6111120</td>\n",
       "      <td>大学物理实验Ⅱ</td>\n",
       "      <td>9</td>\n",
       "      <td>86.7</td>\n",
       "      <td>20112807</td>\n",
       "    </tr>\n",
       "    <tr>\n",
       "      <th>4</th>\n",
       "      <td>7044900</td>\n",
       "      <td>信息检索</td>\n",
       "      <td>7</td>\n",
       "      <td>80.0</td>\n",
       "      <td>20112807</td>\n",
       "    </tr>\n",
       "  </tbody>\n",
       "</table>\n",
       "</div>"
      ],
      "text/plain": [
       "  course_code    course_name mark  pmark student_id\n",
       "0     3143300  数字电子技术实验B(电类)    5   74.0   20112807\n",
       "1     3143328       数据库技术与应用    7   81.0   20112807\n",
       "2     3232100          数据结构A    5   72.0   20112807\n",
       "3     6111120        大学物理实验Ⅱ    9   86.7   20112807\n",
       "4     7044900           信息检索    7   80.0   20112807"
      ]
     },
     "execution_count": 76,
     "metadata": {},
     "output_type": "execute_result"
    }
   ],
   "source": [
    "pre_grade = str(int(grade) - 1)\n",
    "sql = \"select student_id,course_name,course_code,pmark,mark from view_stu_course_mark where speciality_code='%s' and grade='%s'\" \\\n",
    "    %(speciality_code,pre_grade)\n",
    "df = jutil.load_pd_df(sql)\n",
    "df = df.drop_duplicates(subset=['student_id','course_code'])\n",
    "df.head()"
   ]
  },
  {
   "cell_type": "code",
   "execution_count": 118,
   "metadata": {},
   "outputs": [
    {
     "data": {
      "text/plain": [
       "'3232400'"
      ]
     },
     "execution_count": 118,
     "metadata": {},
     "output_type": "execute_result"
    }
   ],
   "source": [
    "course_name = '计算机图形学'\n",
    "a = df[df['course_name']==course_name].iloc[0]\n",
    "a['course_code']\n",
    "# course_code = a['course_code'].values[0]"
   ]
  },
  {
   "cell_type": "code",
   "execution_count": 25,
   "metadata": {},
   "outputs": [],
   "source": [
    "# 选出需要的课程\n"
   ]
  },
  {
   "cell_type": "code",
   "execution_count": 77,
   "metadata": {},
   "outputs": [],
   "source": [
    "stu_ids = df[df['course_code']==course_code]['student_id'].values\n",
    "d1 = df[df['student_id'].isin(stu_ids)]\n",
    "dd = d1[d1['course_code'].isin(course_codes)]"
   ]
  },
  {
   "cell_type": "code",
   "execution_count": 78,
   "metadata": {},
   "outputs": [
    {
     "data": {
      "text/plain": [
       "61"
      ]
     },
     "execution_count": 78,
     "metadata": {},
     "output_type": "execute_result"
    }
   ],
   "source": [
    "now_names = set(dd['course_name'].values)\n",
    "len(now_names)"
   ]
  },
  {
   "cell_type": "code",
   "execution_count": 79,
   "metadata": {},
   "outputs": [
    {
     "data": {
      "text/plain": [
       "array([[85. , 64. , 62. , ...,  4. , 90. , 72. ],\n",
       "       [85. , 60. , 74. , ..., 80. , 75. , 84. ],\n",
       "       [85. , 60. , 66. , ..., 84.6, 88. , 92. ],\n",
       "       ...,\n",
       "       [85. , 60. , 25. , ..., 80.5, 88. , 80. ],\n",
       "       [93. , 60. , 68. , ..., 74. , 90. , 81. ],\n",
       "       [60. , 60. , 65. , ..., 77.1, 86. , 82. ]])"
      ]
     },
     "execution_count": 79,
     "metadata": {},
     "output_type": "execute_result"
    }
   ],
   "source": [
    "\n",
    "gd = dd.groupby(['student_id'],as_index=False)\n",
    "d_arr = dict() # key存的是课程名,value是存放成绩的数组,这样竖着看就是一个学生的成绩列表了,也就是转置操作\n",
    "d_arr2 = dict() \n",
    "for name ,g in gd:\n",
    "    d_m = dict()\n",
    "    d_m2 = dict()\n",
    "    for i,row in g.iterrows():\n",
    "        d_m[row['course_name']] = row['pmark']\n",
    "        d_m2[row['course_name']] = row['mark']\n",
    "    for c in now_names:\n",
    "        d_arr[c] = d_arr.get(c,[])\n",
    "        d_arr[c].append(d_m.get(c,60))\n",
    "        d_arr2[c] = d_arr2.get(c,[])\n",
    "        d_arr2[c].append(d_m2.get(c,1))\n",
    "courses = d_arr.keys()\n",
    "mt_old = [arr for arr in d_arr.values()]\n",
    "mt2_old = [arr for arr in d_arr2.values()]\n",
    "mt = np.transpose(mt_old)\n",
    "mt"
   ]
  },
  {
   "cell_type": "code",
   "execution_count": 80,
   "metadata": {},
   "outputs": [],
   "source": [
    "# 要将mt矩阵进行拆分成数据和标签(预测的那门课)\n",
    "y = d_arr[course_name]\n",
    "X = np.transpose([v for k,v in d_arr.items() if not k==course_name])\n",
    "course_old = [k for k in d_arr.keys() if not k==course_name]"
   ]
  },
  {
   "cell_type": "code",
   "execution_count": 68,
   "metadata": {},
   "outputs": [
    {
     "data": {
      "text/plain": [
       "(116, 60)"
      ]
     },
     "execution_count": 68,
     "metadata": {},
     "output_type": "execute_result"
    }
   ],
   "source": [
    "X.shape"
   ]
  },
  {
   "cell_type": "code",
   "execution_count": 65,
   "metadata": {},
   "outputs": [
    {
     "data": {
      "text/plain": [
       "116"
      ]
     },
     "execution_count": 65,
     "metadata": {},
     "output_type": "execute_result"
    }
   ],
   "source": [
    "len(y)"
   ]
  },
  {
   "cell_type": "code",
   "execution_count": 81,
   "metadata": {},
   "outputs": [],
   "source": [
    "label = []\n",
    "for m in y:\n",
    "    if m>65:\n",
    "        label.append(1)\n",
    "    else:\n",
    "        label.append(0)"
   ]
  },
  {
   "cell_type": "code",
   "execution_count": 71,
   "metadata": {},
   "outputs": [],
   "source": [
    "# 对X做特征选取和降维操作\n",
    "from sklearn.feature_selection import SelectKBest\n",
    "from sklearn.feature_selection import chi2"
   ]
  },
  {
   "cell_type": "code",
   "execution_count": 135,
   "metadata": {},
   "outputs": [],
   "source": [
    "sel = SelectKBest(chi2, k=20)\n",
    "X_new = sel.fit_transform(X, label)\n",
    "indice = sel.get_support()"
   ]
  },
  {
   "cell_type": "code",
   "execution_count": 136,
   "metadata": {},
   "outputs": [
    {
     "data": {
      "text/plain": [
       "array([[61., 64., 76., ..., 85., 81., 75.],\n",
       "       [60., 60., 46., ..., 65., 83., 83.],\n",
       "       [75., 74., 76., ..., 68., 81., 72.],\n",
       "       ...,\n",
       "       [83., 60., 74., ..., 64., 71., 82.],\n",
       "       [87., 60., 71., ..., 85., 89., 86.],\n",
       "       [68., 60., 62., ..., 63., 79., 92.]])"
      ]
     },
     "execution_count": 136,
     "metadata": {},
     "output_type": "execute_result"
    }
   ],
   "source": [
    "X_new"
   ]
  },
  {
   "cell_type": "code",
   "execution_count": 74,
   "metadata": {},
   "outputs": [],
   "source": [
    "# 进行交叉验证下"
   ]
  },
  {
   "cell_type": "code",
   "execution_count": 95,
   "metadata": {},
   "outputs": [],
   "source": [
    "from sklearn.model_selection import train_test_split"
   ]
  },
  {
   "cell_type": "code",
   "execution_count": 96,
   "metadata": {},
   "outputs": [],
   "source": [
    "X_train, X_test, y_train, y_test = train_test_split(X, label, test_size=0.4)"
   ]
  },
  {
   "cell_type": "code",
   "execution_count": 82,
   "metadata": {},
   "outputs": [],
   "source": [
    "from sklearn.tree import DecisionTreeClassifier\n",
    "from sklearn import tree\n",
    "from sklearn.metrics import accuracy_score"
   ]
  },
  {
   "cell_type": "code",
   "execution_count": 97,
   "metadata": {},
   "outputs": [],
   "source": [
    "clf = DecisionTreeClassifier()\n",
    "clf = clf.fit(X_train,y_train)"
   ]
  },
  {
   "cell_type": "code",
   "execution_count": 98,
   "metadata": {},
   "outputs": [],
   "source": [
    "y_pred = clf.predict(X_test)"
   ]
  },
  {
   "cell_type": "code",
   "execution_count": 99,
   "metadata": {},
   "outputs": [
    {
     "data": {
      "text/plain": [
       "0.723404255319149"
      ]
     },
     "execution_count": 99,
     "metadata": {},
     "output_type": "execute_result"
    }
   ],
   "source": [
    "accuracy_score(y_test,y_pred)"
   ]
  },
  {
   "cell_type": "code",
   "execution_count": 85,
   "metadata": {},
   "outputs": [],
   "source": [
    "import graphviz"
   ]
  },
  {
   "cell_type": "code",
   "execution_count": 100,
   "metadata": {},
   "outputs": [
    {
     "data": {
      "text/plain": [
       "'jimo.pdf'"
      ]
     },
     "execution_count": 100,
     "metadata": {},
     "output_type": "execute_result"
    }
   ],
   "source": [
    "dot_data = tree.export_graphviz(clf, out_file=None,class_names=True,feature_names=course_old) \n",
    "graph = graphviz.Source(dot_data)\n",
    "graph.render(\"jimo\") "
   ]
  },
  {
   "cell_type": "code",
   "execution_count": 83,
   "metadata": {},
   "outputs": [],
   "source": [
    "clf2 = DecisionTreeClassifier()\n",
    "clf2 = clf2.fit(X,label)"
   ]
  },
  {
   "cell_type": "code",
   "execution_count": 84,
   "metadata": {},
   "outputs": [
    {
     "data": {
      "text/plain": [
       "1.0"
      ]
     },
     "execution_count": 84,
     "metadata": {},
     "output_type": "execute_result"
    }
   ],
   "source": [
    "y_pred2 = clf2.predict(X)\n",
    "accuracy_score(label,y_pred2)"
   ]
  },
  {
   "cell_type": "code",
   "execution_count": 87,
   "metadata": {},
   "outputs": [
    {
     "ename": "NameError",
     "evalue": "name 'indice' is not defined",
     "output_type": "error",
     "traceback": [
      "\u001b[0;31m---------------------------------------------------------------------------\u001b[0m",
      "\u001b[0;31mNameError\u001b[0m                                 Traceback (most recent call last)",
      "\u001b[0;32m<ipython-input-87-59a6539dc3a2>\u001b[0m in \u001b[0;36m<module>\u001b[0;34m()\u001b[0m\n\u001b[0;32m----> 1\u001b[0;31m \u001b[0mcourse_choose\u001b[0m \u001b[0;34m=\u001b[0m \u001b[0;34m[\u001b[0m\u001b[0mcourse_old\u001b[0m\u001b[0;34m[\u001b[0m\u001b[0mi\u001b[0m\u001b[0;34m]\u001b[0m \u001b[0;32mfor\u001b[0m \u001b[0mi\u001b[0m \u001b[0;32min\u001b[0m \u001b[0mrange\u001b[0m\u001b[0;34m(\u001b[0m\u001b[0mlen\u001b[0m\u001b[0;34m(\u001b[0m\u001b[0mcourse_old\u001b[0m\u001b[0;34m)\u001b[0m\u001b[0;34m)\u001b[0m \u001b[0;32mif\u001b[0m \u001b[0mindice\u001b[0m\u001b[0;34m[\u001b[0m\u001b[0mi\u001b[0m\u001b[0;34m]\u001b[0m\u001b[0;34m]\u001b[0m\u001b[0;34m\u001b[0m\u001b[0m\n\u001b[0m",
      "\u001b[0;32m<ipython-input-87-59a6539dc3a2>\u001b[0m in \u001b[0;36m<listcomp>\u001b[0;34m(.0)\u001b[0m\n\u001b[0;32m----> 1\u001b[0;31m \u001b[0mcourse_choose\u001b[0m \u001b[0;34m=\u001b[0m \u001b[0;34m[\u001b[0m\u001b[0mcourse_old\u001b[0m\u001b[0;34m[\u001b[0m\u001b[0mi\u001b[0m\u001b[0;34m]\u001b[0m \u001b[0;32mfor\u001b[0m \u001b[0mi\u001b[0m \u001b[0;32min\u001b[0m \u001b[0mrange\u001b[0m\u001b[0;34m(\u001b[0m\u001b[0mlen\u001b[0m\u001b[0;34m(\u001b[0m\u001b[0mcourse_old\u001b[0m\u001b[0;34m)\u001b[0m\u001b[0;34m)\u001b[0m \u001b[0;32mif\u001b[0m \u001b[0mindice\u001b[0m\u001b[0;34m[\u001b[0m\u001b[0mi\u001b[0m\u001b[0;34m]\u001b[0m\u001b[0;34m]\u001b[0m\u001b[0;34m\u001b[0m\u001b[0m\n\u001b[0m",
      "\u001b[0;31mNameError\u001b[0m: name 'indice' is not defined"
     ]
    }
   ],
   "source": [
    "course_choose = [course_old[i] for i in range(len(course_old)) if indice[i]]"
   ]
  },
  {
   "cell_type": "code",
   "execution_count": 96,
   "metadata": {},
   "outputs": [
    {
     "data": {
      "text/plain": [
       "['马克思主义基本原理',\n",
       " '离散数学A',\n",
       " '线性代数B',\n",
       " '计算方法C',\n",
       " '高级语言程序设计',\n",
       " '软件项目管理',\n",
       " '算法设计与分析',\n",
       " '计算机组成实验C',\n",
       " '信息检索',\n",
       " '数据结构实验',\n",
       " '面向对象程序设计',\n",
       " '高等数学Ⅰ',\n",
       " '英语Ⅱ',\n",
       " '面向对象程序设计实验',\n",
       " '高等数学Ⅱ',\n",
       " '毛泽东思想和中国特色社会主义理论体系概论Ⅰ',\n",
       " '概率论与数理统计B',\n",
       " '大学物理BⅡ',\n",
       " '微机与接口技术实验',\n",
       " '操作系统']"
      ]
     },
     "execution_count": 96,
     "metadata": {},
     "output_type": "execute_result"
    }
   ],
   "source": [
    "# 进行预测\n",
    "course_choose"
   ]
  },
  {
   "cell_type": "code",
   "execution_count": 88,
   "metadata": {},
   "outputs": [],
   "source": [
    "xx = []\n",
    "for c in course_old:\n",
    "    v = stu[stu['course_name']==c]['pmark'].values\n",
    "    if len(v)>0:\n",
    "        xx.append(v[0])\n",
    "    else: xx.append(60)\n",
    "x_n = [xx]"
   ]
  },
  {
   "cell_type": "code",
   "execution_count": 90,
   "metadata": {},
   "outputs": [
    {
     "data": {
      "text/plain": [
       "array([1])"
      ]
     },
     "execution_count": 90,
     "metadata": {},
     "output_type": "execute_result"
    }
   ],
   "source": [
    "clf2.predict(x_n)"
   ]
  },
  {
   "cell_type": "code",
   "execution_count": 92,
   "metadata": {},
   "outputs": [
    {
     "data": {
      "text/plain": [
       "array([1])"
      ]
     },
     "execution_count": 92,
     "metadata": {},
     "output_type": "execute_result"
    }
   ],
   "source": [
    "x_1 = [[50 for i in range(60)]]\n",
    "clf2.predict(x_1)"
   ]
  },
  {
   "cell_type": "markdown",
   "metadata": {},
   "source": [
    "## 下面是找出学生未修课程"
   ]
  },
  {
   "cell_type": "code",
   "execution_count": 54,
   "metadata": {},
   "outputs": [],
   "source": [
    "from datetime import datetime\n",
    "import numpy as np"
   ]
  },
  {
   "cell_type": "code",
   "execution_count": 5,
   "metadata": {},
   "outputs": [],
   "source": [
    "speciality_code = stu.iloc[0]['speciality_code']\n",
    "grade = stu.iloc[0]['grade']"
   ]
  },
  {
   "cell_type": "code",
   "execution_count": 47,
   "metadata": {},
   "outputs": [
    {
     "data": {
      "text/html": [
       "<div>\n",
       "<style>\n",
       "    .dataframe thead tr:only-child th {\n",
       "        text-align: right;\n",
       "    }\n",
       "\n",
       "    .dataframe thead th {\n",
       "        text-align: left;\n",
       "    }\n",
       "\n",
       "    .dataframe tbody tr th {\n",
       "        vertical-align: top;\n",
       "    }\n",
       "</style>\n",
       "<table border=\"1\" class=\"dataframe\">\n",
       "  <thead>\n",
       "    <tr style=\"text-align: right;\">\n",
       "      <th></th>\n",
       "      <th>course_code</th>\n",
       "      <th>course_name</th>\n",
       "      <th>course_type</th>\n",
       "      <th>term</th>\n",
       "      <th>year</th>\n",
       "    </tr>\n",
       "  </thead>\n",
       "  <tbody>\n",
       "    <tr>\n",
       "      <th>0</th>\n",
       "      <td>3273522</td>\n",
       "      <td>数字电子技术实验B</td>\n",
       "      <td>学科与专业基础课程</td>\n",
       "      <td>1</td>\n",
       "      <td>2</td>\n",
       "    </tr>\n",
       "    <tr>\n",
       "      <th>1</th>\n",
       "      <td>3273521</td>\n",
       "      <td>离散数学</td>\n",
       "      <td>学科与专业基础课程</td>\n",
       "      <td>2</td>\n",
       "      <td>1</td>\n",
       "    </tr>\n",
       "    <tr>\n",
       "      <th>2</th>\n",
       "      <td>3273573</td>\n",
       "      <td>计算机组成原理</td>\n",
       "      <td>学科与专业基础课程</td>\n",
       "      <td>2</td>\n",
       "      <td>2</td>\n",
       "    </tr>\n",
       "    <tr>\n",
       "      <th>3</th>\n",
       "      <td>0474012</td>\n",
       "      <td>操作系统实验</td>\n",
       "      <td>学科与专业基础课程</td>\n",
       "      <td>2</td>\n",
       "      <td>2</td>\n",
       "    </tr>\n",
       "    <tr>\n",
       "      <th>4</th>\n",
       "      <td>0474011</td>\n",
       "      <td>数据结构实验</td>\n",
       "      <td>学科与专业基础课程</td>\n",
       "      <td>1</td>\n",
       "      <td>2</td>\n",
       "    </tr>\n",
       "  </tbody>\n",
       "</table>\n",
       "</div>"
      ],
      "text/plain": [
       "  course_code course_name course_type term year\n",
       "0     3273522   数字电子技术实验B   学科与专业基础课程    1    2\n",
       "1     3273521        离散数学   学科与专业基础课程    2    1\n",
       "2     3273573     计算机组成原理   学科与专业基础课程    2    2\n",
       "3     0474012      操作系统实验   学科与专业基础课程    2    2\n",
       "4     0474011      数据结构实验   学科与专业基础课程    1    2"
      ]
     },
     "execution_count": 47,
     "metadata": {},
     "output_type": "execute_result"
    }
   ],
   "source": [
    "sql = \"select t.Course_name as course_name,t.Course_year as year,t.Course_term as term,t.Course_code as course_code,c.type_name as course_type from \\\n",
    "train_plan_course t,train_plan_credit c where t.Course_big_type_id=c.sid \\\n",
    "and t.Grade='%s' and c.type_name like '%%专业%%'  and t.Speciality_code='%s'\" %(2015,speciality_code)\n",
    "df2 = jutil.load_pd_df(sql)\n",
    "df2.head()"
   ]
  },
  {
   "cell_type": "code",
   "execution_count": 69,
   "metadata": {},
   "outputs": [
    {
     "data": {
      "text/html": [
       "<div>\n",
       "<style>\n",
       "    .dataframe thead tr:only-child th {\n",
       "        text-align: right;\n",
       "    }\n",
       "\n",
       "    .dataframe thead th {\n",
       "        text-align: left;\n",
       "    }\n",
       "\n",
       "    .dataframe tbody tr th {\n",
       "        vertical-align: top;\n",
       "    }\n",
       "</style>\n",
       "<table border=\"1\" class=\"dataframe\">\n",
       "  <thead>\n",
       "    <tr style=\"text-align: right;\">\n",
       "      <th></th>\n",
       "      <th>course_code</th>\n",
       "      <th>course_name</th>\n",
       "      <th>course_type</th>\n",
       "      <th>term</th>\n",
       "      <th>year</th>\n",
       "    </tr>\n",
       "  </thead>\n",
       "  <tbody>\n",
       "    <tr>\n",
       "      <th>38</th>\n",
       "      <td>0473066</td>\n",
       "      <td>移动计算</td>\n",
       "      <td>专业（专业方向）课程</td>\n",
       "      <td>1</td>\n",
       "      <td>4</td>\n",
       "    </tr>\n",
       "    <tr>\n",
       "      <th>39</th>\n",
       "      <td>0673139</td>\n",
       "      <td>数据挖掘</td>\n",
       "      <td>专业（专业方向）课程</td>\n",
       "      <td>1</td>\n",
       "      <td>4</td>\n",
       "    </tr>\n",
       "    <tr>\n",
       "      <th>40</th>\n",
       "      <td>0473003</td>\n",
       "      <td>嵌入式系统设计与应用</td>\n",
       "      <td>专业（专业方向）课程</td>\n",
       "      <td>1</td>\n",
       "      <td>4</td>\n",
       "    </tr>\n",
       "    <tr>\n",
       "      <th>41</th>\n",
       "      <td>0473004</td>\n",
       "      <td>嵌入式系统设计与应用实验</td>\n",
       "      <td>专业（专业方向）课程</td>\n",
       "      <td>1</td>\n",
       "      <td>4</td>\n",
       "    </tr>\n",
       "    <tr>\n",
       "      <th>42</th>\n",
       "      <td>0473042</td>\n",
       "      <td>软件设计模式</td>\n",
       "      <td>专业（专业方向）课程</td>\n",
       "      <td>1</td>\n",
       "      <td>4</td>\n",
       "    </tr>\n",
       "    <tr>\n",
       "      <th>46</th>\n",
       "      <td>3273101</td>\n",
       "      <td>云计算与并行技术</td>\n",
       "      <td>专业（专业方向）课程</td>\n",
       "      <td>1</td>\n",
       "      <td>4</td>\n",
       "    </tr>\n",
       "    <tr>\n",
       "      <th>48</th>\n",
       "      <td>3273528</td>\n",
       "      <td>人工智能</td>\n",
       "      <td>专业（专业方向）课程</td>\n",
       "      <td>1</td>\n",
       "      <td>4</td>\n",
       "    </tr>\n",
       "  </tbody>\n",
       "</table>\n",
       "</div>"
      ],
      "text/plain": [
       "   course_code   course_name course_type term year\n",
       "38     0473066          移动计算  专业（专业方向）课程    1    4\n",
       "39     0673139          数据挖掘  专业（专业方向）课程    1    4\n",
       "40     0473003    嵌入式系统设计与应用  专业（专业方向）课程    1    4\n",
       "41     0473004  嵌入式系统设计与应用实验  专业（专业方向）课程    1    4\n",
       "42     0473042        软件设计模式  专业（专业方向）课程    1    4\n",
       "46     3273101      云计算与并行技术  专业（专业方向）课程    1    4\n",
       "48     3273528          人工智能  专业（专业方向）课程    1    4"
      ]
     },
     "execution_count": 69,
     "metadata": {},
     "output_type": "execute_result"
    }
   ],
   "source": [
    "# 计算当前学期\n",
    "today = datetime.today()\n",
    "year = str(today.year - int(grade))\n",
    "term = '1' if today.month>2 and today.month<7 else '2'\n",
    "df3 = df2[df2['year']==year]\n",
    "df3 = df3[df3['term']>=term]\n",
    "df3"
   ]
  },
  {
   "cell_type": "code",
   "execution_count": 61,
   "metadata": {},
   "outputs": [],
   "source": [
    "# 找出所有专业课程\n",
    "course_all = set(df3['course_name'].values)"
   ]
  },
  {
   "cell_type": "code",
   "execution_count": 108,
   "metadata": {},
   "outputs": [],
   "source": [
    "# 找出学生已考试的课程\n",
    "course_did = set(stu['course_name'].values)"
   ]
  },
  {
   "cell_type": "code",
   "execution_count": 109,
   "metadata": {},
   "outputs": [
    {
     "data": {
      "text/plain": [
       "{'云计算与并行技术', '人工智能', '嵌入式系统设计与应用', '嵌入式系统设计与应用实验', '数据挖掘', '移动计算', '软件设计模式'}"
      ]
     },
     "execution_count": 109,
     "metadata": {},
     "output_type": "execute_result"
    }
   ],
   "source": [
    "# 求差集,剩下的就是没修的课程\n",
    "course_all - course_did"
   ]
  },
  {
   "cell_type": "code",
   "execution_count": 65,
   "metadata": {},
   "outputs": [
    {
     "data": {
      "text/html": [
       "<div>\n",
       "<style>\n",
       "    .dataframe thead tr:only-child th {\n",
       "        text-align: right;\n",
       "    }\n",
       "\n",
       "    .dataframe thead th {\n",
       "        text-align: left;\n",
       "    }\n",
       "\n",
       "    .dataframe tbody tr th {\n",
       "        vertical-align: top;\n",
       "    }\n",
       "</style>\n",
       "<table border=\"1\" class=\"dataframe\">\n",
       "  <thead>\n",
       "    <tr style=\"text-align: right;\">\n",
       "      <th></th>\n",
       "      <th>course_code</th>\n",
       "      <th>course_name</th>\n",
       "      <th>course_type</th>\n",
       "      <th>term</th>\n",
       "      <th>year</th>\n",
       "    </tr>\n",
       "  </thead>\n",
       "  <tbody>\n",
       "  </tbody>\n",
       "</table>\n",
       "</div>"
      ],
      "text/plain": [
       "Empty DataFrame\n",
       "Columns: [course_code, course_name, course_type, term, year]\n",
       "Index: []"
      ]
     },
     "execution_count": 65,
     "metadata": {},
     "output_type": "execute_result"
    }
   ],
   "source": [
    "df4 = df2[df2['year'] > year]\n",
    "df4"
   ]
  },
  {
   "cell_type": "code",
   "execution_count": 68,
   "metadata": {},
   "outputs": [
    {
     "data": {
      "text/html": [
       "<div>\n",
       "<style>\n",
       "    .dataframe thead tr:only-child th {\n",
       "        text-align: right;\n",
       "    }\n",
       "\n",
       "    .dataframe thead th {\n",
       "        text-align: left;\n",
       "    }\n",
       "\n",
       "    .dataframe tbody tr th {\n",
       "        vertical-align: top;\n",
       "    }\n",
       "</style>\n",
       "<table border=\"1\" class=\"dataframe\">\n",
       "  <thead>\n",
       "    <tr style=\"text-align: right;\">\n",
       "      <th></th>\n",
       "      <th>course_code</th>\n",
       "      <th>course_name</th>\n",
       "      <th>course_type</th>\n",
       "      <th>term</th>\n",
       "      <th>year</th>\n",
       "    </tr>\n",
       "  </thead>\n",
       "  <tbody>\n",
       "    <tr>\n",
       "      <th>38</th>\n",
       "      <td>0473066</td>\n",
       "      <td>移动计算</td>\n",
       "      <td>专业（专业方向）课程</td>\n",
       "      <td>1</td>\n",
       "      <td>4</td>\n",
       "    </tr>\n",
       "    <tr>\n",
       "      <th>39</th>\n",
       "      <td>0673139</td>\n",
       "      <td>数据挖掘</td>\n",
       "      <td>专业（专业方向）课程</td>\n",
       "      <td>1</td>\n",
       "      <td>4</td>\n",
       "    </tr>\n",
       "    <tr>\n",
       "      <th>40</th>\n",
       "      <td>0473003</td>\n",
       "      <td>嵌入式系统设计与应用</td>\n",
       "      <td>专业（专业方向）课程</td>\n",
       "      <td>1</td>\n",
       "      <td>4</td>\n",
       "    </tr>\n",
       "    <tr>\n",
       "      <th>41</th>\n",
       "      <td>0473004</td>\n",
       "      <td>嵌入式系统设计与应用实验</td>\n",
       "      <td>专业（专业方向）课程</td>\n",
       "      <td>1</td>\n",
       "      <td>4</td>\n",
       "    </tr>\n",
       "    <tr>\n",
       "      <th>42</th>\n",
       "      <td>0473042</td>\n",
       "      <td>软件设计模式</td>\n",
       "      <td>专业（专业方向）课程</td>\n",
       "      <td>1</td>\n",
       "      <td>4</td>\n",
       "    </tr>\n",
       "    <tr>\n",
       "      <th>46</th>\n",
       "      <td>3273101</td>\n",
       "      <td>云计算与并行技术</td>\n",
       "      <td>专业（专业方向）课程</td>\n",
       "      <td>1</td>\n",
       "      <td>4</td>\n",
       "    </tr>\n",
       "    <tr>\n",
       "      <th>48</th>\n",
       "      <td>3273528</td>\n",
       "      <td>人工智能</td>\n",
       "      <td>专业（专业方向）课程</td>\n",
       "      <td>1</td>\n",
       "      <td>4</td>\n",
       "    </tr>\n",
       "  </tbody>\n",
       "</table>\n",
       "</div>"
      ],
      "text/plain": [
       "   course_code   course_name course_type term year\n",
       "38     0473066          移动计算  专业（专业方向）课程    1    4\n",
       "39     0673139          数据挖掘  专业（专业方向）课程    1    4\n",
       "40     0473003    嵌入式系统设计与应用  专业（专业方向）课程    1    4\n",
       "41     0473004  嵌入式系统设计与应用实验  专业（专业方向）课程    1    4\n",
       "42     0473042        软件设计模式  专业（专业方向）课程    1    4\n",
       "46     3273101      云计算与并行技术  专业（专业方向）课程    1    4\n",
       "48     3273528          人工智能  专业（专业方向）课程    1    4"
      ]
     },
     "execution_count": 68,
     "metadata": {},
     "output_type": "execute_result"
    }
   ],
   "source": [
    "df4.append(df3)"
   ]
  }
 ],
 "metadata": {
  "kernelspec": {
   "display_name": "Python 3",
   "language": "python",
   "name": "python3"
  },
  "language_info": {
   "codemirror_mode": {
    "name": "ipython",
    "version": 3
   },
   "file_extension": ".py",
   "mimetype": "text/x-python",
   "name": "python",
   "nbconvert_exporter": "python",
   "pygments_lexer": "ipython3",
   "version": "3.6.5"
  }
 },
 "nbformat": 4,
 "nbformat_minor": 2
}
