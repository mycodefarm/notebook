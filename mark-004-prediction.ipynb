{
 "cells": [
  {
   "cell_type": "code",
   "execution_count": 1,
   "metadata": {},
   "outputs": [],
   "source": [
    "import jutil\n",
    "import numpy as np"
   ]
  },
  {
   "cell_type": "code",
   "execution_count": 2,
   "metadata": {},
   "outputs": [],
   "source": [
    "# 输入学生学号,要预测的课程X,返回该门课是否挂科"
   ]
  },
  {
   "cell_type": "code",
   "execution_count": 3,
   "metadata": {},
   "outputs": [
    {
     "data": {
      "text/html": [
       "<div>\n",
       "<style>\n",
       "    .dataframe thead tr:only-child th {\n",
       "        text-align: right;\n",
       "    }\n",
       "\n",
       "    .dataframe thead th {\n",
       "        text-align: left;\n",
       "    }\n",
       "\n",
       "    .dataframe tbody tr th {\n",
       "        vertical-align: top;\n",
       "    }\n",
       "</style>\n",
       "<table border=\"1\" class=\"dataframe\">\n",
       "  <thead>\n",
       "    <tr style=\"text-align: right;\">\n",
       "      <th></th>\n",
       "      <th>course_code</th>\n",
       "      <th>course_name</th>\n",
       "      <th>grade</th>\n",
       "      <th>mark</th>\n",
       "      <th>pmark</th>\n",
       "      <th>speciality_code</th>\n",
       "      <th>term_order</th>\n",
       "    </tr>\n",
       "  </thead>\n",
       "  <tbody>\n",
       "    <tr>\n",
       "      <th>0</th>\n",
       "      <td>0471004</td>\n",
       "      <td>面向对象程序设计</td>\n",
       "      <td>2014</td>\n",
       "      <td>10</td>\n",
       "      <td>90.0</td>\n",
       "      <td>0408</td>\n",
       "      <td>2</td>\n",
       "    </tr>\n",
       "    <tr>\n",
       "      <th>1</th>\n",
       "      <td>0471005</td>\n",
       "      <td>面向对象程序设计实验</td>\n",
       "      <td>2014</td>\n",
       "      <td>10</td>\n",
       "      <td>96.0</td>\n",
       "      <td>0408</td>\n",
       "      <td>2</td>\n",
       "    </tr>\n",
       "    <tr>\n",
       "      <th>2</th>\n",
       "      <td>0471024</td>\n",
       "      <td>计算机网络工程实验</td>\n",
       "      <td>2014</td>\n",
       "      <td>6</td>\n",
       "      <td>76.0</td>\n",
       "      <td>0408</td>\n",
       "      <td>4</td>\n",
       "    </tr>\n",
       "    <tr>\n",
       "      <th>3</th>\n",
       "      <td>0471046</td>\n",
       "      <td>J2EE体系结构及程序设计</td>\n",
       "      <td>2014</td>\n",
       "      <td>10</td>\n",
       "      <td>95.0</td>\n",
       "      <td>0408</td>\n",
       "      <td>4</td>\n",
       "    </tr>\n",
       "    <tr>\n",
       "      <th>4</th>\n",
       "      <td>0471054</td>\n",
       "      <td>程序语言综合课程设计</td>\n",
       "      <td>2014</td>\n",
       "      <td>10</td>\n",
       "      <td>90.0</td>\n",
       "      <td>0408</td>\n",
       "      <td>2</td>\n",
       "    </tr>\n",
       "  </tbody>\n",
       "</table>\n",
       "</div>"
      ],
      "text/plain": [
       "  course_code    course_name grade mark  pmark speciality_code  term_order\n",
       "0     0471004       面向对象程序设计  2014   10   90.0            0408           2\n",
       "1     0471005     面向对象程序设计实验  2014   10   96.0            0408           2\n",
       "2     0471024      计算机网络工程实验  2014    6   76.0            0408           4\n",
       "3     0471046  J2EE体系结构及程序设计  2014   10   95.0            0408           4\n",
       "4     0471054     程序语言综合课程设计  2014   10   90.0            0408           2"
      ]
     },
     "execution_count": 3,
     "metadata": {},
     "output_type": "execute_result"
    }
   ],
   "source": [
    "# 1.找出X的前置课程,确定学生的专业和年级\n",
    "sql = \"select grade,speciality_code,course_code,course_name,term_order,mark,pmark from view_stu_course_mark where student_id='2014112135'\"\n",
    "stu = jutil.load_pd_df(sql)\n",
    "stu.head()"
   ]
  },
  {
   "cell_type": "code",
   "execution_count": 48,
   "metadata": {},
   "outputs": [
    {
     "data": {
      "text/html": [
       "<div>\n",
       "<style>\n",
       "    .dataframe thead tr:only-child th {\n",
       "        text-align: right;\n",
       "    }\n",
       "\n",
       "    .dataframe thead th {\n",
       "        text-align: left;\n",
       "    }\n",
       "\n",
       "    .dataframe tbody tr th {\n",
       "        vertical-align: top;\n",
       "    }\n",
       "</style>\n",
       "<table border=\"1\" class=\"dataframe\">\n",
       "  <thead>\n",
       "    <tr style=\"text-align: right;\">\n",
       "      <th></th>\n",
       "      <th>course_code</th>\n",
       "      <th>course_name</th>\n",
       "      <th>grade</th>\n",
       "      <th>mark</th>\n",
       "      <th>pmark</th>\n",
       "      <th>speciality_code</th>\n",
       "      <th>term_order</th>\n",
       "    </tr>\n",
       "  </thead>\n",
       "  <tbody>\n",
       "    <tr>\n",
       "      <th>33</th>\n",
       "      <td>3223700</td>\n",
       "      <td>计算机网络</td>\n",
       "      <td>2014</td>\n",
       "      <td>9</td>\n",
       "      <td>88.0</td>\n",
       "      <td>0408</td>\n",
       "      <td>4</td>\n",
       "    </tr>\n",
       "  </tbody>\n",
       "</table>\n",
       "</div>"
      ],
      "text/plain": [
       "   course_code course_name grade mark  pmark speciality_code  term_order\n",
       "33     3223700       计算机网络  2014    9   88.0            0408           4"
      ]
     },
     "execution_count": 48,
     "metadata": {},
     "output_type": "execute_result"
    }
   ],
   "source": [
    "course_name = '计算机网络'\n",
    "a = stu[stu['course_name']==course_name]\n",
    "a"
   ]
  },
  {
   "cell_type": "code",
   "execution_count": 37,
   "metadata": {},
   "outputs": [],
   "source": [
    "grade = a['grade'].values[0]\n",
    "term_order = a['term_order'].values[0]\n",
    "speciality_code = a['speciality_code'].values[0]\n",
    "course_code = a['course_code'].values[0]"
   ]
  },
  {
   "cell_type": "code",
   "execution_count": 38,
   "metadata": {},
   "outputs": [],
   "source": [
    "pre_course = stu[stu['term_order']<term_order]"
   ]
  },
  {
   "cell_type": "code",
   "execution_count": 49,
   "metadata": {},
   "outputs": [],
   "source": [
    "course_codes = list(pre_course['course_code'].values)\n",
    "course_codes.append(course_code)\n",
    "# course_codes\n",
    "course_names = list(pre_course['course_code'].values)\n",
    "course_names.append(course_name)"
   ]
  },
  {
   "cell_type": "code",
   "execution_count": 20,
   "metadata": {},
   "outputs": [],
   "source": [
    "# 找前一个年级的成绩数据来预测"
   ]
  },
  {
   "cell_type": "code",
   "execution_count": 33,
   "metadata": {},
   "outputs": [
    {
     "data": {
      "text/html": [
       "<div>\n",
       "<style>\n",
       "    .dataframe thead tr:only-child th {\n",
       "        text-align: right;\n",
       "    }\n",
       "\n",
       "    .dataframe thead th {\n",
       "        text-align: left;\n",
       "    }\n",
       "\n",
       "    .dataframe tbody tr th {\n",
       "        vertical-align: top;\n",
       "    }\n",
       "</style>\n",
       "<table border=\"1\" class=\"dataframe\">\n",
       "  <thead>\n",
       "    <tr style=\"text-align: right;\">\n",
       "      <th></th>\n",
       "      <th>course_code</th>\n",
       "      <th>course_name</th>\n",
       "      <th>mark</th>\n",
       "      <th>pmark</th>\n",
       "      <th>student_id</th>\n",
       "    </tr>\n",
       "  </thead>\n",
       "  <tbody>\n",
       "    <tr>\n",
       "      <th>0</th>\n",
       "      <td>0471004</td>\n",
       "      <td>面向对象程序设计</td>\n",
       "      <td>6</td>\n",
       "      <td>75.0</td>\n",
       "      <td>20112807</td>\n",
       "    </tr>\n",
       "    <tr>\n",
       "      <th>1</th>\n",
       "      <td>0471005</td>\n",
       "      <td>面向对象程序设计实验</td>\n",
       "      <td>3</td>\n",
       "      <td>67.0</td>\n",
       "      <td>20112807</td>\n",
       "    </tr>\n",
       "    <tr>\n",
       "      <th>2</th>\n",
       "      <td>3045600</td>\n",
       "      <td>数字电子技术B</td>\n",
       "      <td>10</td>\n",
       "      <td>96.0</td>\n",
       "      <td>20112807</td>\n",
       "    </tr>\n",
       "    <tr>\n",
       "      <th>3</th>\n",
       "      <td>3232400</td>\n",
       "      <td>计算机图形学</td>\n",
       "      <td>5</td>\n",
       "      <td>74.0</td>\n",
       "      <td>20112807</td>\n",
       "    </tr>\n",
       "    <tr>\n",
       "      <th>4</th>\n",
       "      <td>3244237</td>\n",
       "      <td>嵌入式系统开发</td>\n",
       "      <td>5</td>\n",
       "      <td>72.0</td>\n",
       "      <td>20112807</td>\n",
       "    </tr>\n",
       "  </tbody>\n",
       "</table>\n",
       "</div>"
      ],
      "text/plain": [
       "  course_code course_name mark  pmark student_id\n",
       "0     0471004    面向对象程序设计    6   75.0   20112807\n",
       "1     0471005  面向对象程序设计实验    3   67.0   20112807\n",
       "2     3045600     数字电子技术B   10   96.0   20112807\n",
       "3     3232400      计算机图形学    5   74.0   20112807\n",
       "4     3244237     嵌入式系统开发    5   72.0   20112807"
      ]
     },
     "execution_count": 33,
     "metadata": {},
     "output_type": "execute_result"
    }
   ],
   "source": [
    "pre_grade = str(int(grade) - 1)\n",
    "sql = \"select student_id,course_name,course_code,pmark,mark from view_stu_course_mark where speciality_code='%s' and grade='%s'\" \\\n",
    "    %(speciality_code,pre_grade)\n",
    "df = jutil.load_pd_df(sql)\n",
    "df = df.drop_duplicates(subset=['student_id','course_code'])\n",
    "df.head()"
   ]
  },
  {
   "cell_type": "code",
   "execution_count": 25,
   "metadata": {},
   "outputs": [],
   "source": [
    "# 选出需要的课程\n"
   ]
  },
  {
   "cell_type": "code",
   "execution_count": 47,
   "metadata": {},
   "outputs": [],
   "source": [
    "stu_ids = df[df['course_code']==course_code]['student_id'].values\n",
    "d1 = df[df['student_id'].isin(stu_ids)]\n",
    "dd = d1[d1['course_code'].isin(course_codes)]"
   ]
  },
  {
   "cell_type": "code",
   "execution_count": 58,
   "metadata": {},
   "outputs": [
    {
     "data": {
      "text/plain": [
       "61"
      ]
     },
     "execution_count": 58,
     "metadata": {},
     "output_type": "execute_result"
    }
   ],
   "source": [
    "now_names = set(dd['course_name'].values)\n",
    "len(now_names)"
   ]
  },
  {
   "cell_type": "code",
   "execution_count": 59,
   "metadata": {},
   "outputs": [
    {
     "data": {
      "text/plain": [
       "array([[60., 81., 61., ..., 75., 71., 85.],\n",
       "       [68., 60., 60., ..., 83., 22., 85.],\n",
       "       [76., 35., 75., ..., 72., 72., 85.],\n",
       "       ...,\n",
       "       [78., 60., 83., ..., 82., 60., 85.],\n",
       "       [81., 60., 87., ..., 86., 60., 85.],\n",
       "       [73., 60., 68., ..., 92., 60., 60.]])"
      ]
     },
     "execution_count": 59,
     "metadata": {},
     "output_type": "execute_result"
    }
   ],
   "source": [
    "\n",
    "gd = dd.groupby(['student_id'],as_index=False)\n",
    "d_arr = dict() # key存的是课程名,value是存放成绩的数组,这样竖着看就是一个学生的成绩列表了,也就是转置操作\n",
    "d_arr2 = dict() \n",
    "for name ,g in gd:\n",
    "    d_m = dict()\n",
    "    d_m2 = dict()\n",
    "    for i,row in g.iterrows():\n",
    "        d_m[row['course_name']] = row['pmark']\n",
    "        d_m2[row['course_name']] = row['mark']\n",
    "    for c in now_names:\n",
    "        d_arr[c] = d_arr.get(c,[])\n",
    "        d_arr[c].append(d_m.get(c,60))\n",
    "        d_arr2[c] = d_arr2.get(c,[])\n",
    "        d_arr2[c].append(d_m2.get(c,1))\n",
    "courses = d_arr.keys()\n",
    "mt_old = [arr for arr in d_arr.values()]\n",
    "mt2_old = [arr for arr in d_arr2.values()]\n",
    "mt = np.transpose(mt_old)\n",
    "mt"
   ]
  },
  {
   "cell_type": "code",
   "execution_count": 94,
   "metadata": {},
   "outputs": [],
   "source": [
    "# 要将mt矩阵进行拆分成数据和标签(预测的那门课)\n",
    "y = d_arr[course_name]\n",
    "X = np.transpose([v for k,v in d_arr.items() if not k==course_name])\n",
    "course_old = [k for k in d_arr.keys() if not k==course_name]"
   ]
  },
  {
   "cell_type": "code",
   "execution_count": 68,
   "metadata": {},
   "outputs": [
    {
     "data": {
      "text/plain": [
       "(116, 60)"
      ]
     },
     "execution_count": 68,
     "metadata": {},
     "output_type": "execute_result"
    }
   ],
   "source": [
    "X.shape"
   ]
  },
  {
   "cell_type": "code",
   "execution_count": 65,
   "metadata": {},
   "outputs": [
    {
     "data": {
      "text/plain": [
       "116"
      ]
     },
     "execution_count": 65,
     "metadata": {},
     "output_type": "execute_result"
    }
   ],
   "source": [
    "len(y)"
   ]
  },
  {
   "cell_type": "code",
   "execution_count": 134,
   "metadata": {},
   "outputs": [],
   "source": [
    "label = []\n",
    "for m in y:\n",
    "    if m>65:\n",
    "        label.append(1)\n",
    "    else:\n",
    "        label.append(0)"
   ]
  },
  {
   "cell_type": "code",
   "execution_count": 71,
   "metadata": {},
   "outputs": [],
   "source": [
    "# 对X做特征选取和降维操作\n",
    "from sklearn.feature_selection import SelectKBest\n",
    "from sklearn.feature_selection import chi2"
   ]
  },
  {
   "cell_type": "code",
   "execution_count": 135,
   "metadata": {},
   "outputs": [],
   "source": [
    "sel = SelectKBest(chi2, k=20)\n",
    "X_new = sel.fit_transform(X, label)\n",
    "indice = sel.get_support()"
   ]
  },
  {
   "cell_type": "code",
   "execution_count": 136,
   "metadata": {},
   "outputs": [
    {
     "data": {
      "text/plain": [
       "array([[61., 64., 76., ..., 85., 81., 75.],\n",
       "       [60., 60., 46., ..., 65., 83., 83.],\n",
       "       [75., 74., 76., ..., 68., 81., 72.],\n",
       "       ...,\n",
       "       [83., 60., 74., ..., 64., 71., 82.],\n",
       "       [87., 60., 71., ..., 85., 89., 86.],\n",
       "       [68., 60., 62., ..., 63., 79., 92.]])"
      ]
     },
     "execution_count": 136,
     "metadata": {},
     "output_type": "execute_result"
    }
   ],
   "source": [
    "X_new"
   ]
  },
  {
   "cell_type": "code",
   "execution_count": 74,
   "metadata": {},
   "outputs": [],
   "source": [
    "# 进行交叉验证下"
   ]
  },
  {
   "cell_type": "code",
   "execution_count": 75,
   "metadata": {},
   "outputs": [],
   "source": [
    "from sklearn.model_selection import train_test_split"
   ]
  },
  {
   "cell_type": "code",
   "execution_count": 156,
   "metadata": {},
   "outputs": [],
   "source": [
    "X_train, X_test, y_train, y_test = train_test_split(X, label, test_size=0.4)"
   ]
  },
  {
   "cell_type": "code",
   "execution_count": 111,
   "metadata": {},
   "outputs": [],
   "source": [
    "from sklearn.tree import DecisionTreeClassifier\n",
    "from sklearn import tree\n",
    "from sklearn.metrics import accuracy_score"
   ]
  },
  {
   "cell_type": "code",
   "execution_count": 157,
   "metadata": {},
   "outputs": [],
   "source": [
    "clf = DecisionTreeClassifier()\n",
    "clf = clf.fit(X_train,y_train)"
   ]
  },
  {
   "cell_type": "code",
   "execution_count": 158,
   "metadata": {},
   "outputs": [],
   "source": [
    "y_pred = clf.predict(X_test)"
   ]
  },
  {
   "cell_type": "code",
   "execution_count": 159,
   "metadata": {},
   "outputs": [
    {
     "data": {
      "text/plain": [
       "0.7659574468085106"
      ]
     },
     "execution_count": 159,
     "metadata": {},
     "output_type": "execute_result"
    }
   ],
   "source": [
    "accuracy_score(y_test,y_pred)"
   ]
  },
  {
   "cell_type": "code",
   "execution_count": 109,
   "metadata": {},
   "outputs": [],
   "source": [
    "import graphviz"
   ]
  },
  {
   "cell_type": "code",
   "execution_count": 148,
   "metadata": {},
   "outputs": [
    {
     "data": {
      "text/plain": [
       "'jimo.pdf'"
      ]
     },
     "execution_count": 148,
     "metadata": {},
     "output_type": "execute_result"
    }
   ],
   "source": [
    "dot_data = tree.export_graphviz(clf, out_file=None,class_names=['挂科','正常'],feature_names=course_old) \n",
    "graph = graphviz.Source(dot_data)\n",
    "graph.render(\"jimo\") "
   ]
  },
  {
   "cell_type": "code",
   "execution_count": null,
   "metadata": {},
   "outputs": [],
   "source": []
  },
  {
   "cell_type": "code",
   "execution_count": null,
   "metadata": {},
   "outputs": [],
   "source": []
  },
  {
   "cell_type": "code",
   "execution_count": 125,
   "metadata": {},
   "outputs": [],
   "source": [
    "course_choose = [course_old[i] for i in range(len(course_old)) if indice[i]]"
   ]
  },
  {
   "cell_type": "code",
   "execution_count": 96,
   "metadata": {},
   "outputs": [
    {
     "data": {
      "text/plain": [
       "['马克思主义基本原理',\n",
       " '离散数学A',\n",
       " '线性代数B',\n",
       " '计算方法C',\n",
       " '高级语言程序设计',\n",
       " '软件项目管理',\n",
       " '算法设计与分析',\n",
       " '计算机组成实验C',\n",
       " '信息检索',\n",
       " '数据结构实验',\n",
       " '面向对象程序设计',\n",
       " '高等数学Ⅰ',\n",
       " '英语Ⅱ',\n",
       " '面向对象程序设计实验',\n",
       " '高等数学Ⅱ',\n",
       " '毛泽东思想和中国特色社会主义理论体系概论Ⅰ',\n",
       " '概率论与数理统计B',\n",
       " '大学物理BⅡ',\n",
       " '微机与接口技术实验',\n",
       " '操作系统']"
      ]
     },
     "execution_count": 96,
     "metadata": {},
     "output_type": "execute_result"
    }
   ],
   "source": [
    "# 进行预测\n",
    "course_choose"
   ]
  },
  {
   "cell_type": "code",
   "execution_count": 150,
   "metadata": {},
   "outputs": [],
   "source": [
    "xx = []\n",
    "for c in course_old:\n",
    "    v = stu[stu['course_name']==c]['pmark'].values\n",
    "    if len(v)>0:\n",
    "        xx.append(v[0])\n",
    "    else: xx.append(60)\n",
    "x_n = [xx]"
   ]
  },
  {
   "cell_type": "code",
   "execution_count": 151,
   "metadata": {},
   "outputs": [
    {
     "data": {
      "text/plain": [
       "array([1])"
      ]
     },
     "execution_count": 151,
     "metadata": {},
     "output_type": "execute_result"
    }
   ],
   "source": [
    "clf.predict(x_n)"
   ]
  },
  {
   "cell_type": "code",
   "execution_count": 131,
   "metadata": {},
   "outputs": [
    {
     "data": {
      "text/plain": [
       "array([0])"
      ]
     },
     "execution_count": 131,
     "metadata": {},
     "output_type": "execute_result"
    }
   ],
   "source": [
    "x_1 = [[90 for i in range(20)]]\n",
    "clf.predict(x_1)"
   ]
  }
 ],
 "metadata": {
  "kernelspec": {
   "display_name": "Python 3",
   "language": "python",
   "name": "python3"
  },
  "language_info": {
   "codemirror_mode": {
    "name": "ipython",
    "version": 3
   },
   "file_extension": ".py",
   "mimetype": "text/x-python",
   "name": "python",
   "nbconvert_exporter": "python",
   "pygments_lexer": "ipython3",
   "version": "3.6.5"
  }
 },
 "nbformat": 4,
 "nbformat_minor": 2
}
