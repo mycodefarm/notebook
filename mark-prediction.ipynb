{
 "cells": [
  {
   "cell_type": "code",
   "execution_count": 2,
   "metadata": {},
   "outputs": [],
   "source": [
    "dbUrl = \"jdbc:sqlserver://114.55.148.101:1433;databaseName=jiaowu\"\n",
    "df = spark.read.jdbc(dbUrl,\"view_stu_course_mark\",properties={\"user\":\"wangpeng\",\"password\":\"wangpeng2018!*swjtudean\"})\n",
    "df.createOrReplaceTempView(\"view_stu_course_mark\")"
   ]
  },
  {
   "cell_type": "code",
   "execution_count": 62,
   "metadata": {},
   "outputs": [],
   "source": [
    "data = spark.sql(\"select DISTINCT(m1.student_id),m1.course_name as code1,m2.course_name as code2, \\\n",
    "m3.course_name as code3,m4.course_name as code4,m5.course_name as code5,m6.course_name as code6, \\\n",
    "m1.mark as mark1,m2.mark as mark2,m3.mark as mark3,m4.mark as mark4,m5.mark as mark5,m6.mark as mark6, \\\n",
    "m1.speciality_code,m1.college_code  \\\n",
    "from view_stu_course_mark m1 \\\n",
    "join view_stu_course_mark m2 on m1.student_id=m2.student_id \\\n",
    "join view_stu_course_mark m3 on m2.student_id=m3.student_id \\\n",
    "join view_stu_course_mark m4 on m3.student_id=m4.student_id \\\n",
    "join view_stu_course_mark m5 on m4.student_id=m5.student_id \\\n",
    "join view_stu_course_mark m6 on m5.student_id=m6.student_id \\\n",
    "where \\\n",
    "m1.course_code='0121000' and m2.course_code='6010500' and m3.course_code='6011310'  \\\n",
    "and m4.course_code='0320120' and m5.course_code='8010210' and m6.course_code='0130700' \\\n",
    "and m1.speciality_code='0101' and m2.speciality_code='0101' and m3.speciality_code='0101' \\\n",
    "and m4.speciality_code='0101' and m5.speciality_code='0101' and m6.speciality_code='0101'\")"
   ]
  },
  {
   "cell_type": "code",
   "execution_count": 4,
   "metadata": {},
   "outputs": [],
   "source": [
    "from pyspark.sql.functions import *"
   ]
  },
  {
   "cell_type": "code",
   "execution_count": 63,
   "metadata": {},
   "outputs": [],
   "source": [
    "data.createOrReplaceTempView(\"mark\")"
   ]
  },
  {
   "cell_type": "code",
   "execution_count": 148,
   "metadata": {
    "scrolled": true
   },
   "outputs": [
    {
     "name": "stdout",
     "output_type": "stream",
     "text": [
      "+----------+--------------------------+--------------------------+-------------------------+-------------------------+-----+---------------------------+-----+-----+-----+-----+-----+-----+---------------+------------+\n",
      "|student_id|code1                     |code2                     |code3                    |code4                    |code5|code6                      |mark1|mark2|mark3|mark4|mark5|mark6|speciality_code|college_code|\n",
      "+----------+--------------------------+--------------------------+-------------------------+-------------------------+-----+---------------------------+-----+-----+-----+-----+-----+-----+---------------+------------+\n",
      "|19990520  |建筑材料                      |线性代数B                     |高等数学Ⅰ                    |工程测量AⅡ                   |英语Ⅰ  |土力学B                       |7    |9    |3    |8    |2    |9    |0101           |01          |\n",
      "|20011181  |建筑材料A                     |线性代数B                     |高等数学Ⅰ                    |工程测量AⅡ                   |英语Ⅰ  |土力学B                       |6    |8    |4    |1    |2    |1    |0101           |01          |\n",
      "|20011181  |建筑材料A                     |线性代数B                     |高等数学Ⅰ                    |工程测量AⅡ                   |英语Ⅰ  |土力学B                       |6    |8    |4    |1    |0    |1    |0101           |01          |\n",
      "|20011181  |建筑材料A                     |线性代数B                     |高等数学Ⅰ                    |工程测量AⅡ                   |英语Ⅰ  |土力学B                       |6    |8    |0    |1    |2    |1    |0101           |01          |\n",
      "|20011181  |建筑材料A                     |线性代数B                     |高等数学Ⅰ                    |工程测量AⅡ                   |英语Ⅰ  |土力学B                       |6    |8    |0    |1    |0    |1    |0101           |01          |\n",
      "+----------+--------------------------+--------------------------+-------------------------+-------------------------+-----+---------------------------+-----+-----+-----+-----+-----+-----+---------------+------------+\n",
      "only showing top 5 rows\n",
      "\n"
     ]
    }
   ],
   "source": [
    "data.show(5,False)"
   ]
  },
  {
   "cell_type": "code",
   "execution_count": 169,
   "metadata": {},
   "outputs": [
    {
     "name": "stdout",
     "output_type": "stream",
     "text": [
      "+----------+-----+-----+-----+-----+-----+------+\n",
      "|student_id|mark1|mark2|mark3|mark4|mark5|result|\n",
      "+----------+-----+-----+-----+-----+-----+------+\n",
      "|  19990520|    7|    9|    3|    8|    2|     1|\n",
      "|  20011181|    6|    8|    0|    1|    2|     0|\n",
      "|  20011181|    6|    8|    0|    1|    0|     0|\n",
      "|  20011181|    6|    8|    4|    1|    2|     0|\n",
      "|  20011181|    6|    8|    4|    1|    0|     0|\n",
      "+----------+-----+-----+-----+-----+-----+------+\n",
      "only showing top 5 rows\n",
      "\n"
     ]
    }
   ],
   "source": [
    "marks = spark.sql(\"select student_id,mark1,mark2,mark3,mark4,mark5,( case  when mark6<3 then 0 else 1 end) as result from mark\")\n",
    "marks.cache()\n",
    "marks.show(5)"
   ]
  },
  {
   "cell_type": "code",
   "execution_count": 170,
   "metadata": {},
   "outputs": [
    {
     "name": "stdout",
     "output_type": "stream",
     "text": [
      "8567\n",
      "+----------+-----+-----+-----+-----+-----+------+\n",
      "|student_id|mark1|mark2|mark3|mark4|mark5|result|\n",
      "+----------+-----+-----+-----+-----+-----+------+\n",
      "|  19990520|    7|    9|    3|    8|    2|     1|\n",
      "|  20011181|    6|    8|    0|    1|    2|     0|\n",
      "|  20011197|    6|    1|    5|    9|    1|     1|\n",
      "|  20011271|    9|    1|    3|    6|    3|     0|\n",
      "|  20011281|    8|   10|   10|    7|    8|     1|\n",
      "+----------+-----+-----+-----+-----+-----+------+\n",
      "only showing top 5 rows\n",
      "\n"
     ]
    }
   ],
   "source": [
    "marks = marks.dropDuplicates(['student_id'])\n",
    "print(marks.count())\n",
    "marks.show(5)"
   ]
  },
  {
   "cell_type": "code",
   "execution_count": 66,
   "metadata": {},
   "outputs": [],
   "source": [
    "# 保存为文本\n",
    "marks.coalesce(1).write.csv('mark-data-all-cls','overwrite')"
   ]
  },
  {
   "cell_type": "code",
   "execution_count": 1,
   "metadata": {},
   "outputs": [],
   "source": [
    "import pandas as pd\n",
    "from sklearn.model_selection import train_test_split\n",
    "from sklearn.metrics import accuracy_score"
   ]
  },
  {
   "cell_type": "code",
   "execution_count": 171,
   "metadata": {},
   "outputs": [
    {
     "data": {
      "text/html": [
       "<div>\n",
       "<style>\n",
       "    .dataframe thead tr:only-child th {\n",
       "        text-align: right;\n",
       "    }\n",
       "\n",
       "    .dataframe thead th {\n",
       "        text-align: left;\n",
       "    }\n",
       "\n",
       "    .dataframe tbody tr th {\n",
       "        vertical-align: top;\n",
       "    }\n",
       "</style>\n",
       "<table border=\"1\" class=\"dataframe\">\n",
       "  <thead>\n",
       "    <tr style=\"text-align: right;\">\n",
       "      <th></th>\n",
       "      <th>student_id</th>\n",
       "      <th>mark1</th>\n",
       "      <th>mark2</th>\n",
       "      <th>mark3</th>\n",
       "      <th>mark4</th>\n",
       "      <th>mark5</th>\n",
       "      <th>result</th>\n",
       "    </tr>\n",
       "  </thead>\n",
       "  <tbody>\n",
       "    <tr>\n",
       "      <th>0</th>\n",
       "      <td>19990520</td>\n",
       "      <td>7</td>\n",
       "      <td>9</td>\n",
       "      <td>3</td>\n",
       "      <td>8</td>\n",
       "      <td>2</td>\n",
       "      <td>1</td>\n",
       "    </tr>\n",
       "    <tr>\n",
       "      <th>1</th>\n",
       "      <td>20011181</td>\n",
       "      <td>6</td>\n",
       "      <td>8</td>\n",
       "      <td>0</td>\n",
       "      <td>1</td>\n",
       "      <td>2</td>\n",
       "      <td>0</td>\n",
       "    </tr>\n",
       "    <tr>\n",
       "      <th>2</th>\n",
       "      <td>20011197</td>\n",
       "      <td>6</td>\n",
       "      <td>1</td>\n",
       "      <td>5</td>\n",
       "      <td>9</td>\n",
       "      <td>1</td>\n",
       "      <td>1</td>\n",
       "    </tr>\n",
       "    <tr>\n",
       "      <th>3</th>\n",
       "      <td>20011271</td>\n",
       "      <td>9</td>\n",
       "      <td>1</td>\n",
       "      <td>3</td>\n",
       "      <td>6</td>\n",
       "      <td>3</td>\n",
       "      <td>0</td>\n",
       "    </tr>\n",
       "    <tr>\n",
       "      <th>4</th>\n",
       "      <td>20011281</td>\n",
       "      <td>8</td>\n",
       "      <td>10</td>\n",
       "      <td>10</td>\n",
       "      <td>7</td>\n",
       "      <td>8</td>\n",
       "      <td>1</td>\n",
       "    </tr>\n",
       "  </tbody>\n",
       "</table>\n",
       "</div>"
      ],
      "text/plain": [
       "  student_id mark1 mark2 mark3 mark4 mark5  result\n",
       "0   19990520     7     9     3     8     2       1\n",
       "1   20011181     6     8     0     1     2       0\n",
       "2   20011197     6     1     5     9     1       1\n",
       "3   20011271     9     1     3     6     3       0\n",
       "4   20011281     8    10    10     7     8       1"
      ]
     },
     "execution_count": 171,
     "metadata": {},
     "output_type": "execute_result"
    }
   ],
   "source": [
    "# 转为pandas的 DataFrame,方便操作\n",
    "df = marks.toPandas()\n",
    "df.head()"
   ]
  },
  {
   "cell_type": "code",
   "execution_count": 2,
   "metadata": {},
   "outputs": [
    {
     "ename": "NameError",
     "evalue": "name 'df' is not defined",
     "output_type": "error",
     "traceback": [
      "\u001b[0;31m---------------------------------------------------------------------------\u001b[0m",
      "\u001b[0;31mNameError\u001b[0m                                 Traceback (most recent call last)",
      "\u001b[0;32m<ipython-input-2-d654e0008205>\u001b[0m in \u001b[0;36m<module>\u001b[0;34m()\u001b[0m\n\u001b[1;32m      1\u001b[0m \u001b[0;31m# 准备数据集\u001b[0m\u001b[0;34m\u001b[0m\u001b[0;34m\u001b[0m\u001b[0m\n\u001b[0;32m----> 2\u001b[0;31m \u001b[0mX\u001b[0m \u001b[0;34m=\u001b[0m \u001b[0mdf\u001b[0m\u001b[0;34m.\u001b[0m\u001b[0miloc\u001b[0m\u001b[0;34m[\u001b[0m\u001b[0;34m:\u001b[0m\u001b[0;34m,\u001b[0m\u001b[0;36m1\u001b[0m\u001b[0;34m:\u001b[0m\u001b[0;36m6\u001b[0m\u001b[0;34m]\u001b[0m\u001b[0;34m\u001b[0m\u001b[0m\n\u001b[0m\u001b[1;32m      3\u001b[0m \u001b[0my\u001b[0m \u001b[0;34m=\u001b[0m \u001b[0mdf\u001b[0m\u001b[0;34m[\u001b[0m\u001b[0;34m'result'\u001b[0m\u001b[0;34m]\u001b[0m\u001b[0;34m\u001b[0m\u001b[0m\n\u001b[1;32m      4\u001b[0m \u001b[0mprint\u001b[0m\u001b[0;34m(\u001b[0m\u001b[0mX\u001b[0m\u001b[0;34m.\u001b[0m\u001b[0mshape\u001b[0m\u001b[0;34m)\u001b[0m\u001b[0;34m\u001b[0m\u001b[0m\n\u001b[1;32m      5\u001b[0m \u001b[0mprint\u001b[0m\u001b[0;34m(\u001b[0m\u001b[0my\u001b[0m\u001b[0;34m.\u001b[0m\u001b[0mshape\u001b[0m\u001b[0;34m)\u001b[0m\u001b[0;34m\u001b[0m\u001b[0m\n",
      "\u001b[0;31mNameError\u001b[0m: name 'df' is not defined"
     ]
    }
   ],
   "source": [
    "# 准备数据集\n",
    "X = df.iloc[:,1:6]\n",
    "y = df['result']\n",
    "print(X.shape)\n",
    "print(y.shape)\n",
    "\n",
    "# 划分数据集\n",
    "X_train, X_test, y_train, y_test = train_test_split(X, y, test_size=0.3)\n",
    "print(X_train.shape)\n",
    "print(X_train.head())"
   ]
  },
  {
   "cell_type": "code",
   "execution_count": 167,
   "metadata": {},
   "outputs": [],
   "source": [
    "from sklearn.linear_model import LogisticRegression\n",
    "from sklearn.svm import SVC,LinearSVC\n",
    "from sklearn.naive_bayes import GaussianNB\n",
    "from sklearn.tree import DecisionTreeClassifier\n",
    "import graphviz\n",
    "from sklearn.neural_network import MLPClassifier"
   ]
  },
  {
   "cell_type": "code",
   "execution_count": 181,
   "metadata": {},
   "outputs": [
    {
     "name": "stdout",
     "output_type": "stream",
     "text": [
      "0.701672500972\n",
      "0.692628418946\n"
     ]
    }
   ],
   "source": [
    "model = GaussianNB()\n",
    "# model = MLPClassifier(solver='lbfgs', alpha=1e-3,   hidden_layer_sizes=(20,11,30))\n",
    "model = model.fit(X_train,y_train)\n",
    "y_pred = model.predict(X_test)\n",
    "# score = model.score(X_test,y_test)\n",
    "score = accuracy_score(y_test,y_pred)\n",
    "print(score)\n",
    "y_pred = model.predict(X_train)\n",
    "score = model.score(X_test,y_test)\n",
    "score = accuracy_score(y_train,y_pred)\n",
    "print(score)"
   ]
  },
  {
   "cell_type": "code",
   "execution_count": 120,
   "metadata": {},
   "outputs": [],
   "source": [
    "dot_data = tree.export_graphviz(model, out_file='mark.dot') \n",
    "# graph = graphviz.Source(dot_data)\n",
    "# graph.render(\"mark\")"
   ]
  },
  {
   "cell_type": "code",
   "execution_count": 1,
   "metadata": {},
   "outputs": [
    {
     "name": "stderr",
     "output_type": "stream",
     "text": [
      "Using TensorFlow backend.\n"
     ]
    },
    {
     "ename": "NameError",
     "evalue": "name 'y_train' is not defined",
     "output_type": "error",
     "traceback": [
      "\u001b[0;31m---------------------------------------------------------------------------\u001b[0m",
      "\u001b[0;31mNameError\u001b[0m                                 Traceback (most recent call last)",
      "\u001b[0;32m<ipython-input-1-615f24657475>\u001b[0m in \u001b[0;36m<module>\u001b[0;34m()\u001b[0m\n\u001b[1;32m      3\u001b[0m \u001b[0;32mfrom\u001b[0m \u001b[0mkeras\u001b[0m\u001b[0;34m.\u001b[0m\u001b[0mutils\u001b[0m \u001b[0;32mimport\u001b[0m \u001b[0mto_categorical\u001b[0m\u001b[0;34m\u001b[0m\u001b[0m\n\u001b[1;32m      4\u001b[0m \u001b[0;34m\u001b[0m\u001b[0m\n\u001b[0;32m----> 5\u001b[0;31m \u001b[0my_binary\u001b[0m \u001b[0;34m=\u001b[0m \u001b[0mto_categorical\u001b[0m\u001b[0;34m(\u001b[0m\u001b[0my_train\u001b[0m\u001b[0;34m)\u001b[0m\u001b[0;34m\u001b[0m\u001b[0m\n\u001b[0m\u001b[1;32m      6\u001b[0m \u001b[0;34m\u001b[0m\u001b[0m\n\u001b[1;32m      7\u001b[0m \u001b[0mmodel\u001b[0m \u001b[0;34m=\u001b[0m \u001b[0mSequential\u001b[0m\u001b[0;34m(\u001b[0m\u001b[0;34m)\u001b[0m\u001b[0;34m\u001b[0m\u001b[0m\n",
      "\u001b[0;31mNameError\u001b[0m: name 'y_train' is not defined"
     ]
    }
   ],
   "source": [
    "from keras.models import Sequential\n",
    "from keras.layers import Dense, Activation,Dropout\n",
    "from keras.utils import to_categorical\n",
    "\n",
    "y_binary = to_categorical(y_train)\n",
    "\n",
    "model = Sequential()\n",
    "model.add(Dense(units=10, input_dim=5))\n",
    "model.add(Activation(\"relu\"))\n",
    "model.add(Dense(units=30))\n",
    "model.add(Activation(\"relu\"))\n",
    "model.add(Dropout(0.4))\n",
    "model.add(Dense(units=10))\n",
    "model.add(Activation(\"relu\"))\n",
    "# model.add(Dense(units=20))\n",
    "# model.add(Activation(\"relu\"))\n",
    "# model.add(Dense(units=30))\n",
    "# model.add(Activation(\"relu\"))\n",
    "# model.add(Dense(units=20))\n",
    "# model.add(Activation(\"relu\"))\n",
    "model.add(Dense(units=11))\n",
    "model.add(Activation(\"softmax\"))\n",
    "\n",
    "model.compile(loss='categorical_crossentropy', optimizer='Adam', metrics=['accuracy'])\n",
    "\n",
    "model.fit(X_train, y_binary, epochs=1)\n",
    "\n",
    "loss_and_metrics = model.evaluate(X_train, y_binary)\n",
    "\n",
    "print(loss_and_metrics)"
   ]
  },
  {
   "cell_type": "code",
   "execution_count": 3,
   "metadata": {},
   "outputs": [
    {
     "name": "stdout",
     "output_type": "stream",
     "text": [
      "(8566, 5)\n",
      "(8566,)\n",
      "(5996, 5)\n",
      "      80.0  89.0  67.0  82.0  64.0\n",
      "8282  77.0  74.0  70.0  73.0  68.0\n",
      "1073  80.0  60.0  62.0  86.0  66.0\n",
      "8297  63.0  60.0  75.0  60.0  66.0\n",
      "4358  92.0  99.0  85.0  78.0  57.0\n",
      "6124  74.0  78.0  71.0  75.0  71.0\n"
     ]
    }
   ],
   "source": [
    "df = pd.read_csv('./mark-data-cls/mark.csv')\n",
    "# 准备数据集\n",
    "X = df.iloc[:,1:6]\n",
    "y = df.iloc[:,6]\n",
    "print(X.shape)\n",
    "print(y.shape)\n",
    "\n",
    "# 划分数据集\n",
    "X_train, X_test, y_train, y_test = train_test_split(X, y, test_size=0.3)\n",
    "print(X_train.shape)\n",
    "print(X_train.head())"
   ]
  },
  {
   "cell_type": "code",
   "execution_count": 134,
   "metadata": {},
   "outputs": [],
   "source": [
    "from sklearn.feature_selection import *\n",
    "from sklearn.ensemble import ExtraTreesClassifier"
   ]
  },
  {
   "cell_type": "code",
   "execution_count": 135,
   "metadata": {},
   "outputs": [
    {
     "data": {
      "text/plain": [
       "array([ 0.18288969,  0.21727588,  0.21938162,  0.15215576,  0.22829706])"
      ]
     },
     "execution_count": 135,
     "metadata": {},
     "output_type": "execute_result"
    }
   ],
   "source": [
    "clf = ExtraTreesClassifier()\n",
    "clf = clf.fit(X, y)\n",
    "clf.feature_importances_"
   ]
  },
  {
   "cell_type": "code",
   "execution_count": 5,
   "metadata": {},
   "outputs": [],
   "source": [
    "import matplotlib.pyplot as plt"
   ]
  },
  {
   "cell_type": "code",
   "execution_count": 7,
   "metadata": {},
   "outputs": [
    {
     "name": "stdout",
     "output_type": "stream",
     "text": [
      "{1: 1948, 7: 778, 10: 761, 5: 544, 9: 733, 0: 1159, 6: 598, 3: 345, 2: 406, 4: 794, 8: 500}\n"
     ]
    },
    {
     "data": {
      "image/png": "[encoded data removed]",
      "text/plain": [
       "<matplotlib.figure.Figure at 0x7f84e75c6128>"
      ]
     },
     "metadata": {},
     "output_type": "display_data"
    }
   ],
   "source": [
    "\n",
    "dy = {}\n",
    "for i in y:\n",
    "    dy[i] = dy.get(i,0)+1\n",
    "print(dy)\n",
    "xs = dy.keys()\n",
    "ys = dy.values()\n",
    "plt.bar(xs,ys)\n",
    "plt.show()"
   ]
  },
  {
   "cell_type": "code",
   "execution_count": 7,
   "metadata": {},
   "outputs": [
    {
     "name": "stdout",
     "output_type": "stream",
     "text": [
      "Populating the interactive namespace from numpy and matplotlib\n"
     ]
    }
   ],
   "source": [
    "%pylab inline\n",
    "%load_ext memory_profiler\n",
    "from pomegranate import BayesianNetwork\n",
    "import seaborn, time\n",
    "seaborn.set_style('whitegrid')"
   ]
  },
  {
   "cell_type": "code",
   "execution_count": 9,
   "metadata": {},
   "outputs": [
    {
     "name": "stdout",
     "output_type": "stream",
     "text": [
      "((), (), (0,), (1,), (), (4,), (3,))\n"
     ]
    }
   ],
   "source": [
    "X = numpy.random.randint(2, size=(2000, 7))\n",
    "X[:,3] = X[:,1]\n",
    "X[:,6] = X[:,1]\n",
    "\n",
    "X[:,0] = X[:,2]\n",
    "\n",
    "X[:,4] = X[:,5]\n",
    "\n",
    "model = BayesianNetwork.from_samples(X, algorithm='exact')\n",
    "print(model.structure)\n",
    "# model.plot()"
   ]
  },
  {
   "cell_type": "code",
   "execution_count": 10,
   "metadata": {},
   "outputs": [
    {
     "name": "stdout",
     "output_type": "stream",
     "text": [
      "((), (), (), (), ())\n"
     ]
    }
   ],
   "source": [
    "\n",
    "ddd = df.iloc[:100,1:6]\n",
    "model = BayesianNetwork.from_samples(ddd, algorithm='greedy')\n",
    "print(model.structure)"
   ]
  },
  {
   "cell_type": "code",
   "execution_count": null,
   "metadata": {},
   "outputs": [],
   "source": []
  }
 ],
 "metadata": {
  "kernelspec": {
   "display_name": "Python 3",
   "language": "python",
   "name": "python3"
  },
  "language_info": {
   "codemirror_mode": {
    "name": "ipython",
    "version": 3
   },
   "file_extension": ".py",
   "mimetype": "text/x-python",
   "name": "python",
   "nbconvert_exporter": "python",
   "pygments_lexer": "ipython3",
   "version": "3.6.5"
  }
 },
 "nbformat": 4,
 "nbformat_minor": 2
}
